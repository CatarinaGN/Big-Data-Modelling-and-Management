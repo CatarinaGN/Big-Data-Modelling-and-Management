{
 "cells": [
  {
   "cell_type": "markdown",
   "metadata": {},
   "source": [
    "# Big Data Modeling and Management Assigment - Homework 1"
   ]
  },
  {
   "cell_type": "markdown",
   "metadata": {},
   "source": [
    "# Submission\n",
    "\n",
    "GROUP NUMBER: **12** - please add your group number into the file name\n",
    "\n",
    "GROUP MEMBERS:\n",
    "\n",
    "|STUDENT NAME|STUDENT NUMBER|\n",
    "|---|---|\n",
    "|Catarina Gonçalves Nunes|20230083|\n",
    "|Sofia Jacinto|20240598|\n",
    "|José Cavaco|20240513|\n",
    "|José Tiago|20240582|"
   ]
  },
  {
   "cell_type": "markdown",
   "metadata": {},
   "source": [
    "## 🍺 The Beer project  🍺 \n",
    "\n",
    "As it was shown in classes, graph databases are a natural way of navegating related information. For this first project we will be taking a graph database to analyse beer and breweries!   \n",
    "\n",
    "The project datasets are based on [kaggle](https://www.kaggle.com/ehallmar/beers-breweries-and-beer-reviews), released by Evan Hallmark. \n",
    "\n",
    "### Problem description\n",
    "\n",
    "Imagine you are working in the Data Management department of Analytics company.\n",
    "Explore the database via python neo4j connector and/or the graphical tool in the NEO4J webpage. Answer the questions while adjusting the database to meet the needs of your colleagues.\n",
    "Please record and keep track of your database changes, and submit the file with all cells run and with the output shown.\n",
    "\n",
    "### Questions\n",
    "\n",
    "1. Explore the database: get familiar with current schema, elements and other important database parameters. [1 point]\n",
    "2. Adjust the database and mention reasoning behind: e.g. clean errors, remove redundancies, adjust schema as necessary. Visualize the final version of database schema. [4 points]\n",
    "3. Analytics department requires the following information for the biweekly reporting: [5 points]\n",
    "    1. How many reviews has the beer with the most reviews?\n",
    "    2. Which three users wrote the most reviews about beers?\n",
    "    3. Find all beers that are described with following words: 'fruit', 'complex', 'nutty', 'dark'.\n",
    "    4. Which top three breweries produce the largest variety of beer styles?\n",
    "    5. Which country produces the most beer styles?\n",
    "4. Market Analysis department in your company accesses and updates the trends data on the daily basis. Given that, consider how you need to optimize the database and its performance so that the following queries are efficient. Measure performance to communicate your improvements using PROFILE before final query. Answer the following: [4 points]\n",
    "    1. Using ABV score, find five strongest beers, display their ABV score and the corresponding brewery? Keep in mind that the strongest known beer is Snake Venom, and deal with the error entries in the database.\n",
    "    2. Using the answer from question 2, find the top 5 distict beer styles with the highest average score of smell + feel that were reviewed by the third most productive user. Keep in mind that cleaning the database earlier should ensure correct results.\n",
    "5. Answer **two out of four** of the following questions using Graph Algorithms (gds): [NB: make sure to clear the graph before using it again] For the quarterly report, Analytics department the follownig information. [6 points]\n",
    "    1. Which two countries are most similiar when it comes to their top five most produced Beer styles?\n",
    "    2. Which beer is the most popular when considering the number of users who reviewed it? \n",
    "    3. Users are connected together by their reviews of beers, taking into consideration the \"smell\" score they assign as a weight, how many communities are formed from these relationships? How many users are in the three largest communities? \n",
    "    4. Which user is the most influential when it comes to reviews of distinct beers by style?\n",
    " \n",
    "### Groups  \n",
    "\n",
    "Groups should have 4 people maximum. Please mark which group you are here: https://shorturl.at/zE0QP \n",
    "\n",
    "### Submission      \n",
    "\n",
    "The code used to produce the results and to-the-point explations should be uploaded to moodle. They should have a clear reference to the group, either on the file name or on the document itself. Preferably one Jupyter notebook per group.\n",
    "\n",
    "Delivery date: Until the **midnight of March 18, 2025**\n",
    "\n",
    "### Evaluation   \n",
    "\n",
    "This will be 20% of the final grade.   \n",
    "Each solution will be evaluated on 2 components: correctness of results and efficiency of the query (based on database schema).  \n",
    "All code will go through plagiarism automated checks. Groups with the same code will undergo investigation."
   ]
  },
  {
   "cell_type": "markdown",
   "metadata": {},
   "source": [
    "## Loading the Database\n",
    "\n",
    "#### Be sure that you **don't have** the neo4j docker container from the classes running (you can Stop it in the desktop app or with the command \"`docker stop Neo4JLab`\")\n",
    "\n",
    "\n",
    "The default container does not have any data whatsoever, we will have to load a database into our docker image:\n",
    "- Download and unzip the `Neo4JHWData` file provided in Moodle.\n",
    "- Copy the path of the `Neo4JHWData` folder of the unziped file, e.g. `C:/PATH/Neo4JHWData/data`.\n",
    "- Download and unzip the `Neo4JPlugins` file provided in Moodle.\n",
    "- Copy the path of the `Neo4JPlugins` folder of the unziped file, e.g. `C:/PATH/Neo4Jplugins`.\n",
    "- Change the code below accordingly. As you might have noticed, you do not have a user called `nunoa`, please use the appropriate path that you got from the previous step. Be sure that you have a neo4j docker container running: \\\n",
    "\n",
    "`docker run --name Neo4JHW2025 -p 7474:7474 -p 7687:7687 -d -v \"c:\\PATH\\Neo4JPlugins\":/plugins -v \"c:\\PATH\\Neo4JHWData\\data\":/data --env NEO4J_AUTH=neo4j/test --env NEO4J_dbms_connector_https_advertised__address=\"localhost:7473\" --env NEO4J_dbms_connector_http_advertised__address=\"localhost:7474\" --env NEO4J_dbms_connector_bolt_advertised__address=\"localhost:7687\" --env NEO4J_dbms_security_procedures_unrestricted=gds.* --env NEO4J_dbms_security_procedures_allowlist=\"gds.*\" neo4j:4.4.5`\n",
    "\n",
    "- Since Neo4j is trying to recognize a new database folder, this might take a bit (let's say 3 minutes), so don't worry.\n",
    "\n",
    "If the neo4j browser fails to load gds plugins, run the following in the Command Prompt before creating the container again:\n",
    "`// Remove stopped containers //\n",
    "docker container prune -f\n",
    "// Remove unused images //\n",
    "docker image prune -a -f\n",
    "// Remove unused volumes //\n",
    "docker volume prune -f\n",
    "// Remove unused networks //\n",
    "docker network prune -f\n",
    "// Remove all unused resources in one command //\n",
    "docker system prune -a -f`"
   ]
  },
  {
   "cell_type": "markdown",
   "metadata": {},
   "source": [
    "`Our Notes`:\n",
    "\n",
    "To handle large-scale operations, such as modifying relationships on a high volume of data (like reviews), we had to install the APOC (Awesome Procedures on Cypher) library. Specifically, we added apoc-4.4.0.9-all.jar to the Plugins folder, as it was the only way to efficiently execute batch operations in an iterative manner. Without it, handling large data transformations, such as reversing relationship directions, would not have been feasible.\n",
    "\n",
    "We used the following Docker command to run Neo4j with APOC enabled and mounted the plugins directory:\n",
    "\n",
    "docker run --hostname=9ad48e239b09 \\\n",
    "  --env=NEO4J_dbms_connector_bolt_advertised__address=localhost:7687 \\\n",
    "  --env=NEO4J_dbms_connector_http_advertised__address=localhost:7474 \\\n",
    "  --env=NEO4J_dbms_security_procedures_unrestricted=apoc.*,gds.* \\\n",
    "  --env=NEO4J_dbms_security_procedures_allowlist=apoc.*,gds.* \\\n",
    "  --env=NEO4J_AUTH=neo4j/test \\\n",
    "  --volume=C:\\Users\\xxxx\\Desktop\\big-data-modeling\\Neo4JPlugins\\Neo4JPlugins:/plugins \\\n",
    "  --volume=C:\\Users\\xxxx\\Desktop\\big-data-modeling\\Neo4JHWData\\NEW_VERSION\\data:/data \\\n",
    "  -p 7474:7474 -p 7687:7687 \\\n",
    "  --restart=no -d neo4j:4.4.5"
   ]
  },
  {
   "cell_type": "markdown",
   "metadata": {},
   "source": [
    "## Index \n",
    "\n",
    "<a id=\"index\">\n",
    "\n",
    "1. [Explore the Database: Understanding the Current Schema, Elements, and Important Parameters](#explore-the-database)\n",
    "2. [Adjust the Database and Mention the Reasoning Behind the Adjustments](#adjust-the-database) \n",
    "3. [Analytics Department Biweekly Reporting Requirements](#analytics-department)\n",
    "   1. [How many reviews does the beer with the most reviews have?](#beer-with-most-reviews)\n",
    "   2. [Which three users wrote the most reviews about beers?](#three-users-most-reviews)\n",
    "   3. [Find all beers that are described with the following words: 'fruit', 'complex', 'nutty', 'dark'.](#beers-with-descriptions)\n",
    "   4. [Which top three breweries produce the largest variety of beer styles?](#top-three-breweries)\n",
    "   5. [Which country produces the most beer styles?](#country-most-styles)\n",
    "4. [Optimizing Database Performance for Market Analysis Department](#optimizing-performance)\n",
    "   1. [Using ABV score, find five strongest beers, display their ABV score and the corresponding brewery.](#strongest-beers)\n",
    "   2. [Find the top 5 distinct beer styles with the highest average score of smell and feel that were reviewed by the third most productive user.](#top-5-beer-styles)\n",
    "5. [Answer Two Out of Four Questions Using Graph Algorithms (gds)](##graph-algorithms)\n",
    "   1. [Which two countries are most similar when it comes to their top five most produced Beer styles?](#similar-countries)\n",
    "   2. [Which beer is the most popular considering the number of users who reviewed it?](#most-popular-beer)\n",
    "   3. [How many communities are formed from these relationships? How many users are in the three largest communities?](#user-communities)\n",
    "   4. [Which user is the most influential when it comes to reviews of distinct beers by style?](#influential-user)"
   ]
  },
  {
   "cell_type": "markdown",
   "metadata": {},
   "source": [
    "### <div class=\"alert-warning\" style=\"background-color: #FFF9C4; color: black; padding: 10px;\"> <a id=\"explore-the-database\"></a>1. Explore the Database: Understanding the Current Schema, Elements, and Important Parameters </div>"
   ]
  },
  {
   "cell_type": "code",
   "execution_count": 52,
   "metadata": {},
   "outputs": [],
   "source": [
    "#! pip install neo4j"
   ]
  },
  {
   "cell_type": "code",
   "execution_count": 53,
   "metadata": {
    "ExecuteTime": {
     "end_time": "2024-02-29T21:45:57.447501Z",
     "start_time": "2024-02-29T21:45:56.625014Z"
    }
   },
   "outputs": [],
   "source": [
    "from neo4j import GraphDatabase\n",
    "from pprint import pprint"
   ]
  },
  {
   "cell_type": "code",
   "execution_count": 54,
   "metadata": {
    "ExecuteTime": {
     "end_time": "2024-02-29T21:46:09.652569Z",
     "start_time": "2024-02-29T21:46:09.648166Z"
    }
   },
   "outputs": [],
   "source": [
    "NEO4J_URI=\"neo4j://localhost:7687\"\n",
    "NEO4J_USERNAME=\"neo4j\"\n",
    "NEO4J_PASSWORD=\"test\""
   ]
  },
  {
   "cell_type": "code",
   "execution_count": 55,
   "metadata": {
    "ExecuteTime": {
     "end_time": "2024-02-29T21:46:10.939324Z",
     "start_time": "2024-02-29T21:46:10.934651Z"
    }
   },
   "outputs": [],
   "source": [
    "driver = GraphDatabase.driver(NEO4J_URI, auth=(NEO4J_USERNAME, NEO4J_PASSWORD), )"
   ]
  },
  {
   "cell_type": "code",
   "execution_count": 56,
   "metadata": {
    "ExecuteTime": {
     "end_time": "2024-02-29T21:46:14.291655Z",
     "start_time": "2024-02-29T21:46:14.286865Z"
    }
   },
   "outputs": [],
   "source": [
    "def execute_read(driver, query):    \n",
    "    with driver.session(database=\"neo4j\") as session:\n",
    "        result = session.execute_read(lambda tx, query: list(tx.run(query)), query)\n",
    "    return result"
   ]
  },
  {
   "cell_type": "code",
   "execution_count": 57,
   "metadata": {},
   "outputs": [],
   "source": [
    "def execute_write(driver, query):\n",
    "    with driver.session(database=\"neo4j\") as session:\n",
    "        # Write transactions allow the driver to handle retries and transient errors\n",
    "        result = session.execute_write(lambda tx, query: list(tx.run(query)), query)\n",
    "    return result"
   ]
  },
  {
   "cell_type": "markdown",
   "metadata": {},
   "source": [
    "`Note:` We ill overwrite the variable \"result\" in almost all our answers to save memory bc we don't need to reuse these results."
   ]
  },
  {
   "cell_type": "markdown",
   "metadata": {},
   "source": [
    "#### 1.1 Dataset nodes (labels), Relationships and Schema:"
   ]
  },
  {
   "cell_type": "code",
   "execution_count": 58,
   "metadata": {},
   "outputs": [
    {
     "name": "stdout",
     "output_type": "stream",
     "text": [
      "[<Record label='COUNTRIES'>,\n",
      " <Record label='CITIES'>,\n",
      " <Record label='BREWERIES'>,\n",
      " <Record label='BEERS'>,\n",
      " <Record label='REVIEWS'>,\n",
      " <Record label='STYLE'>,\n",
      " <Record label='USER'>]\n"
     ]
    }
   ],
   "source": [
    "query = \"\"\"\n",
    "       call db.labels();\n",
    "    \"\"\"\n",
    "\n",
    "result = execute_read(driver, query)\n",
    "\n",
    "pprint(result)"
   ]
  },
  {
   "cell_type": "markdown",
   "metadata": {},
   "source": [
    "make the names consistent"
   ]
  },
  {
   "cell_type": "code",
   "execution_count": 59,
   "metadata": {},
   "outputs": [
    {
     "name": "stdout",
     "output_type": "stream",
     "text": [
      "[<Record count=3215489>]\n"
     ]
    }
   ],
   "source": [
    "# Count all nodes\n",
    "query = \"\"\" \n",
    "    MATCH (n) RETURN count(n) as count \"\"\"\n",
    "result = execute_read(driver, query)\n",
    "pprint(result)"
   ]
  },
  {
   "cell_type": "code",
   "execution_count": 60,
   "metadata": {},
   "outputs": [
    {
     "name": "stdout",
     "output_type": "stream",
     "text": [
      "[<Record relationshipType='REVIEWED'>,\n",
      " <Record relationshipType='BREWED'>,\n",
      " <Record relationshipType='IN'>,\n",
      " <Record relationshipType='HAS_STYLE'>,\n",
      " <Record relationshipType='POSTED'>]\n"
     ]
    }
   ],
   "source": [
    "query = \"\"\"\n",
    "        CALL db.relationshipTypes();\n",
    "    \"\"\"\n",
    "result = execute_read(driver, query)\n",
    "\n",
    "pprint(result)"
   ]
  },
  {
   "cell_type": "code",
   "execution_count": 61,
   "metadata": {},
   "outputs": [
    {
     "name": "stdout",
     "output_type": "stream",
     "text": [
      "[<Record count(*)=5856205>]\n"
     ]
    }
   ],
   "source": [
    "query = \"\"\"\n",
    "        // Count all relationships\n",
    "    MATCH ()-->() RETURN count(*);\n",
    "    \"\"\"\n",
    "result = execute_read(driver, query)\n",
    "\n",
    "pprint(result)"
   ]
  },
  {
   "cell_type": "code",
   "execution_count": 62,
   "metadata": {},
   "outputs": [
    {
     "name": "stdout",
     "output_type": "stream",
     "text": [
      "[<Record nodes=[<Node element_id='-5' labels=frozenset({'REVIEWS'}) properties={'name': 'REVIEWS', 'indexes': ['id'], 'constraints': []}>, <Node element_id='-4' labels=frozenset({'BEERS'}) properties={'name': 'BEERS', 'indexes': ['id'], 'constraints': []}>, <Node element_id='-1' labels=frozenset({'COUNTRIES'}) properties={'name': 'COUNTRIES', 'indexes': ['name'], 'constraints': []}>, <Node element_id='-3' labels=frozenset({'BREWERIES'}) properties={'name': 'BREWERIES', 'indexes': ['id'], 'constraints': []}>, <Node element_id='-6' labels=frozenset({'STYLE'}) properties={'name': 'STYLE', 'indexes': ['name'], 'constraints': []}>, <Node element_id='-2' labels=frozenset({'CITIES'}) properties={'name': 'CITIES', 'indexes': ['name'], 'constraints': []}>, <Node element_id='-7' labels=frozenset({'USER'}) properties={'name': 'USER', 'indexes': ['name'], 'constraints': []}>] relationships=[<Relationship element_id='-1' nodes=(<Node element_id='-4' labels=frozenset({'BEERS'}) properties={'name': 'BEERS', 'indexes': ['id'], 'constraints': []}>, <Node element_id='-5' labels=frozenset({'REVIEWS'}) properties={'name': 'REVIEWS', 'indexes': ['id'], 'constraints': []}>) type='REVIEWED' properties={}>, <Relationship element_id='-2' nodes=(<Node element_id='-3' labels=frozenset({'BREWERIES'}) properties={'name': 'BREWERIES', 'indexes': ['id'], 'constraints': []}>, <Node element_id='-4' labels=frozenset({'BEERS'}) properties={'name': 'BEERS', 'indexes': ['id'], 'constraints': []}>) type='BREWED' properties={}>, <Relationship element_id='-4' nodes=(<Node element_id='-2' labels=frozenset({'CITIES'}) properties={'name': 'CITIES', 'indexes': ['name'], 'constraints': []}>, <Node element_id='-2' labels=frozenset({'CITIES'}) properties={'name': 'CITIES', 'indexes': ['name'], 'constraints': []}>) type='IN' properties={}>, <Relationship element_id='-5' nodes=(<Node element_id='-3' labels=frozenset({'BREWERIES'}) properties={'name': 'BREWERIES', 'indexes': ['id'], 'constraints': []}>, <Node element_id='-1' labels=frozenset({'COUNTRIES'}) properties={'name': 'COUNTRIES', 'indexes': ['name'], 'constraints': []}>) type='IN' properties={}>, <Relationship element_id='-3' nodes=(<Node element_id='-2' labels=frozenset({'CITIES'}) properties={'name': 'CITIES', 'indexes': ['name'], 'constraints': []}>, <Node element_id='-1' labels=frozenset({'COUNTRIES'}) properties={'name': 'COUNTRIES', 'indexes': ['name'], 'constraints': []}>) type='IN' properties={}>, <Relationship element_id='-6' nodes=(<Node element_id='-3' labels=frozenset({'BREWERIES'}) properties={'name': 'BREWERIES', 'indexes': ['id'], 'constraints': []}>, <Node element_id='-2' labels=frozenset({'CITIES'}) properties={'name': 'CITIES', 'indexes': ['name'], 'constraints': []}>) type='IN' properties={}>, <Relationship element_id='-7' nodes=(<Node element_id='-4' labels=frozenset({'BEERS'}) properties={'name': 'BEERS', 'indexes': ['id'], 'constraints': []}>, <Node element_id='-6' labels=frozenset({'STYLE'}) properties={'name': 'STYLE', 'indexes': ['name'], 'constraints': []}>) type='HAS_STYLE' properties={}>, <Relationship element_id='-8' nodes=(<Node element_id='-5' labels=frozenset({'REVIEWS'}) properties={'name': 'REVIEWS', 'indexes': ['id'], 'constraints': []}>, <Node element_id='-7' labels=frozenset({'USER'}) properties={'name': 'USER', 'indexes': ['name'], 'constraints': []}>) type='POSTED' properties={}>]>]\n"
     ]
    }
   ],
   "source": [
    "query = \"\"\"\n",
    "    CALL db.schema.visualization();\n",
    "\"\"\"\n",
    "result = execute_read(driver, query)\n",
    "pprint(result)"
   ]
  },
  {
   "cell_type": "markdown",
   "metadata": {},
   "source": [
    "From the schema visualization, the database contains the following nodes and relationships:\n",
    "\n",
    "- CITIES → Connected to COUNTRIES (relationship: IN), indicating that a city belongs to a specific country. It is also connected to itself with an IN relationship, which seems unusual and should be reviewed.\n",
    "- BREWERIES → Connected to BEERS (relationship: BREWED), meaning that a brewery produces multiple beers. It is also connected to CITIES and COUNTRIES (both relationships: IN), indicating the location of the brewery at both the city and country levels.\n",
    "- BEERS → Connected to STYLE (relationship: HAS_STYLE), specifying the beer’s style, and to REVIEWS (relationship: REVIEWED), linking beers to user reviews.\n",
    "- REVIEWS → Connected to USER (relationship: POSTED) - **seems inverted**\n",
    "\n",
    "![Database Schema Visualization](https://raw.githubusercontent.com/CatarinaGN/Big-Data-Modelling-and-Management/main/db.schema.visualization%28%29.png)\n",
    "\n",
    "\n",
    "Observations for adjustments:\n",
    "- BREWERIES connected to both CITIES and COUNTRIES → This could be redundant if cities already belong to countries. If every brewery has a city assigned, you can infer the country, making the direct IN relationship between breweries and countries unnecessary.\n",
    "- CITIES connected to itself (IN relationship) is unusual and might be an error. We should check if this represents hierarchical regions (e.g., neighborhoods within cities) or if it's a mistake\n",
    "- Check the direction of the following relationships: (REVIEW → POSTED → User) should be (:USER) -[:POSTED]-> (:REVIEWS), and  (BEER → REVIEWED → REVIEW) should be (:BEERS) -[:REVIEWED_BY]-> (:REVIEWS):"
   ]
  },
  {
   "cell_type": "code",
   "execution_count": 63,
   "metadata": {},
   "outputs": [
    {
     "name": "stdout",
     "output_type": "stream",
     "text": [
      "[]\n"
     ]
    }
   ],
   "source": [
    "query = \"\"\"\n",
    "    MATCH (c1:CITIES)-[r:IN]->(c2:CITIES)\n",
    "    RETURN c1.name AS city, c2.name AS parent_city, COUNT(*) AS count\n",
    "    ORDER BY count DESC\n",
    "\"\"\"\n",
    "result = execute_read(driver, query)\n",
    "pprint(result)"
   ]
  },
  {
   "cell_type": "markdown",
   "metadata": {},
   "source": [
    "- There are no cities linked to other cities using the IN relationship ➡ This suggests that cities are not hierarchical (i.e., no neighborhoods inside cities)."
   ]
  },
  {
   "cell_type": "code",
   "execution_count": 64,
   "metadata": {},
   "outputs": [
    {
     "name": "stdout",
     "output_type": "stream",
     "text": [
      "[<Record StartNode=['REVIEWS'] Relationship='POSTED' EndNode=['USER'] count=2538044>,\n",
      " <Record StartNode=['BEERS'] Relationship='REVIEWED' EndNode=['REVIEWS'] count=2537991>,\n",
      " <Record StartNode=['BREWERIES'] Relationship='BREWED' EndNode=['BEERS'] count=358873>,\n",
      " <Record StartNode=['BEERS'] Relationship='HAS_STYLE' EndNode=['STYLE'] count=358873>,\n",
      " <Record StartNode=['BREWERIES'] Relationship='IN' EndNode=['CITIES'] count=50347>,\n",
      " <Record StartNode=['CITIES'] Relationship='IN' EndNode=['COUNTRIES'] count=12077>]\n"
     ]
    }
   ],
   "source": [
    "query = \"\"\"\n",
    "    MATCH (a)-[r]->(b)\n",
    "    RETURN DISTINCT labels(a) AS StartNode, type(r) AS Relationship, labels(b) AS EndNode, COUNT(*) AS count\n",
    "    ORDER BY count DESC;\n",
    "\"\"\"\n",
    "result = execute_read(driver, query)\n",
    "pprint(result)"
   ]
  },
  {
   "cell_type": "markdown",
   "metadata": {},
   "source": [
    "so yes, the relations are inverted and another problem is:\n",
    "- since we  have 2538044 POSTED relationships but only 2537991 REVIEWED relationships - That means 53 reviews are not linked to a beer (2538044 - 2537991 = 53) - we likely have orphaned reviews."
   ]
  },
  {
   "cell_type": "code",
   "execution_count": 65,
   "metadata": {},
   "outputs": [
    {
     "name": "stdout",
     "output_type": "stream",
     "text": [
      "[<Record Label=['USER'] OrphanedCount=17290>,\n",
      " <Record Label=['COUNTRIES'] OrphanedCount=200>,\n",
      " <Record Label=['CITIES'] OrphanedCount=11665>,\n",
      " <Record Label=['BREWERIES'] OrphanedCount=50347>,\n",
      " <Record Label=['BEERS'] OrphanedCount=58873>,\n",
      " <Record Label=['REVIEWS'] OrphanedCount=11208>]\n"
     ]
    }
   ],
   "source": [
    "query = \"\"\"\n",
    "    MATCH (n)\n",
    "    WHERE NOT EXISTS( (n)-[]-() )\n",
    "    RETURN labels(n) AS Label, COUNT(n) AS OrphanedCount\n",
    "\"\"\"\n",
    "result = execute_read(driver, query)\n",
    "pprint(result)"
   ]
  },
  {
   "cell_type": "code",
   "execution_count": 66,
   "metadata": {},
   "outputs": [
    {
     "name": "stdout",
     "output_type": "stream",
     "text": [
      "[<Record nodes_without_labels=0>]\n"
     ]
    }
   ],
   "source": [
    "#nodes without labels\n",
    "query = \"\"\"\n",
    "    MATCH (n)  \n",
    "    WHERE size(labels(n)) = 0  \n",
    "    RETURN count(n) AS nodes_without_labels;\n",
    "\"\"\"\n",
    "result = execute_read(driver, query)\n",
    "pprint(result)"
   ]
  },
  {
   "cell_type": "markdown",
   "metadata": {},
   "source": [
    "#### 1.2 Duplicate entries:"
   ]
  },
  {
   "cell_type": "code",
   "execution_count": 67,
   "metadata": {},
   "outputs": [
    {
     "name": "stdout",
     "output_type": "stream",
     "text": [
      "[<Record EntityType=['COUNTRIES'] Properties=['name']>,\n",
      " <Record EntityType=['CITIES'] Properties=['name']>,\n",
      " <Record EntityType=['BREWERIES'] Properties=['notes', 'types', 'id', 'name', 'state']>,\n",
      " <Record EntityType=['BREWERIES'] Properties=['notes', 'id', 'types', 'state', 'name']>,\n",
      " <Record EntityType=['BREWERIES'] Properties=['state', 'id', 'name', 'types', 'notes']>,\n",
      " <Record EntityType=['BREWERIES'] Properties=['notes', 'types', 'name', 'state', 'id']>,\n",
      " <Record EntityType=['BREWERIES'] Properties=['id', 'notes', 'state', 'types', 'name']>,\n",
      " <Record EntityType=['BREWERIES'] Properties=['id', 'notes', 'state', 'name', 'types']>,\n",
      " <Record EntityType=['BREWERIES'] Properties=['state', 'id', 'types', 'notes', 'name']>,\n",
      " <Record EntityType=['BREWERIES'] Properties=['notes', 'types', 'state', 'id', 'name']>,\n",
      " <Record EntityType=['BREWERIES'] Properties=['notes', 'id', 'name', 'types', 'state']>,\n",
      " <Record EntityType=['BREWERIES'] Properties=['id', 'types', 'state', 'name', 'notes']>,\n",
      " <Record EntityType=['BREWERIES'] Properties=['types', 'state', 'id', 'name', 'notes']>,\n",
      " <Record EntityType=['BREWERIES'] Properties=['state', 'id', 'types', 'name', 'notes']>,\n",
      " <Record EntityType=['BREWERIES'] Properties=['notes', 'id', 'types', 'name', 'state']>,\n",
      " <Record EntityType=['BREWERIES'] Properties=['state', 'id', 'notes', 'name', 'types']>,\n",
      " <Record EntityType=['BREWERIES'] Properties=['id', 'types', 'notes', 'state', 'name']>,\n",
      " <Record EntityType=['BREWERIES'] Properties=['notes', 'name', 'types', 'state', 'id']>,\n",
      " <Record EntityType=['BREWERIES'] Properties=['notes', 'state', 'id', 'name', 'types']>,\n",
      " <Record EntityType=['BREWERIES'] Properties=['types', 'name', 'notes', 'state', 'id']>,\n",
      " <Record EntityType=['BREWERIES'] Properties=['id', 'types', 'notes', 'name', 'state']>,\n",
      " <Record EntityType=['BREWERIES'] Properties=['id', 'notes', 'types', 'state', 'name']>,\n",
      " <Record EntityType=['BREWERIES'] Properties=['types', 'id', 'name', 'notes', 'state']>,\n",
      " <Record EntityType=['BREWERIES'] Properties=['notes', 'state', 'id', 'types', 'name']>,\n",
      " <Record EntityType=['BREWERIES'] Properties=['id', 'notes', 'name', 'types', 'state']>,\n",
      " <Record EntityType=['BREWERIES'] Properties=['id', 'notes', 'types', 'name', 'state']>,\n",
      " <Record EntityType=['BREWERIES'] Properties=['id', 'name', 'types', 'notes', 'state']>,\n",
      " <Record EntityType=['BREWERIES'] Properties=['id', 'types', 'name', 'notes', 'state']>,\n",
      " <Record EntityType=['BREWERIES'] Properties=['types', 'notes', 'state', 'id', 'name']>,\n",
      " <Record EntityType=['BREWERIES'] Properties=['state', 'id', 'notes', 'types', 'name']>,\n",
      " <Record EntityType=['BEERS'] Properties=['notes', 'abv', 'name', 'state', 'id', 'retired', 'availability', 'brewery_id']>,\n",
      " <Record EntityType=['BEERS'] Properties=['id', 'abv', 'notes', 'state', 'name', 'retired', 'availability', 'brewery_id']>,\n",
      " <Record EntityType=['BEERS'] Properties=['abv', 'notes', 'id', 'name', 'state', 'retired', 'availability', 'brewery_id']>,\n",
      " <Record EntityType=['BEERS'] Properties=['notes', 'name', 'abv', 'availability', 'retired', 'brewery_id', 'state', 'id']>,\n",
      " <Record EntityType=['BEERS'] Properties=['state', 'id', 'abv', 'availability', 'retired', 'brewery_id', 'name', 'notes']>,\n",
      " <Record EntityType=['BEERS'] Properties=['id', 'abv', 'notes', 'state', 'availability', 'retired', 'brewery_id', 'name']>,\n",
      " <Record EntityType=['BEERS'] Properties=['notes', 'state', 'id', 'abv', 'availability', 'retired', 'brewery_id', 'name']>,\n",
      " <Record EntityType=['BEERS'] Properties=['notes', 'abv', 'name', 'availability', 'retired', 'brewery_id', 'state', 'id']>,\n",
      " <Record EntityType=['BEERS'] Properties=['state', 'id', 'abv', 'name', 'notes', 'retired', 'availability', 'brewery_id']>,\n",
      " <Record EntityType=['BEERS'] Properties=['abv', 'notes', 'id', 'availability', 'retired', 'brewery_id', 'name', 'state']>,\n",
      " <Record EntityType=['BEERS'] Properties=['id', 'abv', 'name', 'notes', 'state', 'retired', 'availability', 'brewery_id']>,\n",
      " <Record EntityType=['BEERS'] Properties=['abv', 'name', 'id', 'availability', 'retired', 'brewery_id', 'notes', 'state']>,\n",
      " <Record EntityType=['BEERS'] Properties=['abv', 'notes', 'name', 'availability', 'retired', 'brewery_id', 'state', 'id']>,\n",
      " <Record EntityType=['BEERS'] Properties=['id', 'abv', 'name', 'availability', 'retired', 'brewery_id', 'notes', 'state']>,\n",
      " <Record EntityType=['BEERS'] Properties=['abv', 'name', 'notes', 'state', 'id', 'retired', 'availability', 'brewery_id']>,\n",
      " <Record EntityType=['BEERS'] Properties=['id', 'abv', 'notes', 'name', 'state', 'retired', 'availability', 'brewery_id']>,\n",
      " <Record EntityType=['BEERS'] Properties=['abv', 'notes', 'name', 'state', 'id', 'retired', 'availability', 'brewery_id']>,\n",
      " <Record EntityType=['BEERS'] Properties=['id', 'abv', 'notes', 'availability', 'retired', 'brewery_id', 'name', 'state']>,\n",
      " <Record EntityType=['BEERS'] Properties=['notes', 'state', 'id', 'abv', 'name', 'retired', 'availability', 'brewery_id']>,\n",
      " <Record EntityType=['BEERS'] Properties=['state', 'id', 'abv', 'notes', 'name', 'retired', 'availability', 'brewery_id']>,\n",
      " <Record EntityType=['BEERS'] Properties=['notes', 'name', 'state', 'id', 'abv', 'retired', 'availability', 'brewery_id']>,\n",
      " <Record EntityType=['BEERS'] Properties=['id', 'abv', 'name', 'state', 'availability', 'retired', 'brewery_id', 'notes']>,\n",
      " <Record EntityType=['BEERS'] Properties=['state', 'id', 'abv', 'notes', 'availability', 'retired', 'brewery_id', 'name']>,\n",
      " <Record EntityType=['BEERS'] Properties=['notes', 'id', 'abv', 'name', 'state', 'retired', 'availability', 'brewery_id']>,\n",
      " <Record EntityType=['BEERS'] Properties=['state', 'id', 'abv', 'name', 'availability', 'retired', 'brewery_id', 'notes']>,\n",
      " <Record EntityType=['BEERS'] Properties=['abv', 'notes', 'state', 'id', 'availability', 'retired', 'brewery_id', 'name']>,\n",
      " <Record EntityType=['BEERS'] Properties=['notes', 'id', 'abv', 'availability', 'retired', 'brewery_id', 'name', 'state']>,\n",
      " <Record EntityType=['BEERS'] Properties=['abv', 'notes', 'state', 'id', 'name', 'retired', 'availability', 'brewery_id']>,\n",
      " <Record EntityType=['BEERS'] Properties=['notes', 'abv', 'name', 'id', 'retired', 'availability', 'brewery_id', 'state']>,\n",
      " <Record EntityType=['BEERS'] Properties=['notes', 'name', 'id', 'abv', 'retired', 'availability', 'brewery_id', 'state']>,\n",
      " <Record EntityType=['BEERS'] Properties=['abv', 'notes', 'id', 'name', 'retired', 'availability', 'brewery_id', 'state']>,\n",
      " <Record EntityType=['BEERS'] Properties=['abv', 'name', 'state', 'id', 'retired', 'availability', 'brewery_id', 'notes']>,\n",
      " <Record EntityType=['BEERS'] Properties=['id', 'abv', 'name', 'state', 'retired', 'availability', 'brewery_id', 'notes']>,\n",
      " <Record EntityType=['BEERS'] Properties=['id', 'abv', 'notes', 'state', 'retired', 'availability', 'brewery_id', 'name']>,\n",
      " <Record EntityType=['BEERS'] Properties=['state', 'id', 'abv', 'name', 'retired', 'availability', 'brewery_id', 'notes']>,\n",
      " <Record EntityType=['BEERS'] Properties=['notes', 'state', 'id', 'abv', 'retired', 'availability', 'brewery_id', 'name']>,\n",
      " <Record EntityType=['BEERS'] Properties=['id', 'abv', 'notes', 'name', 'retired', 'availability', 'brewery_id', 'state']>,\n",
      " <Record EntityType=['BEERS'] Properties=['notes', 'id', 'abv', 'name', 'retired', 'availability', 'brewery_id', 'state']>,\n",
      " <Record EntityType=['BEERS'] Properties=['id', 'abv', 'name', 'notes', 'retired', 'availability', 'brewery_id', 'state']>,\n",
      " <Record EntityType=['BEERS'] Properties=['abv', 'notes', 'name', 'id', 'retired', 'availability', 'brewery_id', 'state']>,\n",
      " <Record EntityType=['BEERS'] Properties=['abv', 'notes', 'state', 'id', 'retired', 'availability', 'brewery_id', 'name']>,\n",
      " <Record EntityType=['REVIEWS'] Properties=['text', 'smell', 'look', 'taste', 'feel', 'overall', 'beer_id', 'id', 'date', 'score']>,\n",
      " <Record EntityType=['REVIEWS'] Properties=['look', 'text', 'smell', 'taste', 'feel', 'overall', 'beer_id', 'id', 'date', 'score']>,\n",
      " <Record EntityType=['REVIEWS'] Properties=['smell', 'look', 'text', 'taste', 'feel', 'overall', 'beer_id', 'id', 'date', 'score']>,\n",
      " <Record EntityType=['REVIEWS'] Properties=['beer_id', 'text', 'smell', 'look', 'score', 'taste', 'feel', 'overall', 'id', 'date']>,\n",
      " <Record EntityType=['REVIEWS'] Properties=['look', 'beer_id', 'text', 'smell', 'score', 'taste', 'feel', 'overall', 'id', 'date']>,\n",
      " <Record EntityType=['REVIEWS'] Properties=['text', 'beer_id', 'smell', 'look', 'score', 'taste', 'feel', 'overall', 'id', 'date']>,\n",
      " <Record EntityType=['REVIEWS'] Properties=['smell', 'look', 'beer_id', 'text', 'score', 'taste', 'feel', 'overall', 'id', 'date']>,\n",
      " <Record EntityType=['STYLE'] Properties=['name']>,\n",
      " <Record EntityType=['USER'] Properties=['name']>]\n"
     ]
    }
   ],
   "source": [
    "query = \"\"\"\n",
    "       MATCH (n)\n",
    "       RETURN DISTINCT labels(n) AS EntityType, keys(n) AS Properties;\n",
    "\n",
    "    \"\"\"\n",
    "\n",
    "result = execute_read(driver, query)\n",
    "\n",
    "pprint(result)"
   ]
  },
  {
   "cell_type": "markdown",
   "metadata": {},
   "source": [
    "- EntityType=['COUNTRIES'] Properties=['name'] ➡ we can check name for duplicates\n",
    "- EntityType=['CITIES'] Properties=['name'] ➡ we can check name for duplicates\n",
    "- EntityType=['STYLE'] Properties=['name'] ➡ we can check name for duplicates\n",
    "- EntityType=['USER'] Properties=['name'] ➡ we can check name for duplicates\n",
    "- Inconsistency in ['BREWERIES'] properties ordering (e.g., ['notes', 'types', 'id', 'name', 'state'] appears in multiple variations -> Properties should be consistent in ordering, but this is mostly a display issue rather than a functional problem. Same for ['BEERS'] (['id', 'abv', 'name', 'state', 'availability', 'retired', 'brewery_id', 'notes']) ➡ we can check name for duplicates\n",
    "- and ['REVIEWS'] (['smell', 'look', 'beer_id', 'text', 'score', 'taste', 'feel', 'overall', 'id', 'date']) ➡ we need to check text for duplicates"
   ]
  },
  {
   "cell_type": "code",
   "execution_count": 68,
   "metadata": {},
   "outputs": [
    {
     "name": "stdout",
     "output_type": "stream",
     "text": [
      "[<Record entity='REVIEWS' total=2549252 unique=814333>,\n",
      " <Record entity='BEERS' total=417746 unique=298567>,\n",
      " <Record entity='USER' total=123935 unique=123935>,\n",
      " <Record entity='BREWERIES' total=100694 unique=45245>,\n",
      " <Record entity='CITIES' total=23330 unique=11665>,\n",
      " <Record entity='COUNTRIES' total=400 unique=200>,\n",
      " <Record entity='STYLE' total=113 unique=113>]\n"
     ]
    }
   ],
   "source": [
    "query = \"\"\"\n",
    "    MATCH (n)\n",
    "    WITH \n",
    "        labels(n)[0] AS entity, \n",
    "        COUNT(n) AS total, \n",
    "        COUNT(\n",
    "            DISTINCT \n",
    "            CASE \n",
    "                WHEN 'name' IN keys(n) THEN n.name \n",
    "                WHEN 'text' IN keys(n) THEN n.text  // Use text for REVIEWS\n",
    "                ELSE NULL \n",
    "            END\n",
    "        ) AS unique\n",
    "    RETURN entity, total, unique\n",
    "    ORDER BY total DESC;\n",
    "\n",
    "\n",
    "\"\"\"\n",
    "result = execute_read(driver, query)\n",
    "pprint(result)"
   ]
  },
  {
   "cell_type": "markdown",
   "metadata": {},
   "source": [
    "- ['REVIEWS'] ➡ check for duplicates;\n",
    "- ['BEERS'] ➡ check for duplicates;\n",
    "- ['USER'] ➡ all good;\n",
    "- ['BREWERIES'] ➡ check for duplicates;\n",
    "- ['CITIES'] ➡ check for duplicates;\n",
    "- ['COUNTRIES'] ➡ check for duplicates;\n",
    "- ['STYLE'] ➡ all good."
   ]
  },
  {
   "cell_type": "markdown",
   "metadata": {},
   "source": [
    "> Reviews analysis"
   ]
  },
  {
   "cell_type": "code",
   "execution_count": 69,
   "metadata": {},
   "outputs": [
    {
     "name": "stdout",
     "output_type": "stream",
     "text": [
      "[<Record properties=['text', 'smell', 'look', 'taste', 'feel', 'overall', 'beer_id', 'id', 'date', 'score']>,\n",
      " <Record properties=['look', 'text', 'smell', 'taste', 'feel', 'overall', 'beer_id', 'id', 'date', 'score']>,\n",
      " <Record properties=['smell', 'look', 'text', 'taste', 'feel', 'overall', 'beer_id', 'id', 'date', 'score']>,\n",
      " <Record properties=[]>,\n",
      " <Record properties=['beer_id', 'text', 'smell', 'look', 'score', 'taste', 'feel', 'overall', 'id', 'date']>,\n",
      " <Record properties=['look', 'beer_id', 'text', 'smell', 'score', 'taste', 'feel', 'overall', 'id', 'date']>,\n",
      " <Record properties=['text', 'beer_id', 'smell', 'look', 'score', 'taste', 'feel', 'overall', 'id', 'date']>,\n",
      " <Record properties=['smell', 'look', 'beer_id', 'text', 'score', 'taste', 'feel', 'overall', 'id', 'date']>]\n"
     ]
    }
   ],
   "source": [
    "query = \"\"\"\n",
    "    MATCH (r:REVIEWS)\n",
    "    RETURN DISTINCT keys(r) AS properties\n",
    "    LIMIT 10;\n",
    "\"\"\"\n",
    "result = execute_read(driver, query)\n",
    "pprint(result)"
   ]
  },
  {
   "cell_type": "markdown",
   "metadata": {},
   "source": [
    "first, we can see that some reviews might be empty."
   ]
  },
  {
   "cell_type": "code",
   "execution_count": 70,
   "metadata": {},
   "outputs": [
    {
     "name": "stdout",
     "output_type": "stream",
     "text": [
      "[<Record total_empty_reviews=19>]\n"
     ]
    }
   ],
   "source": [
    "query = \"\"\"\n",
    "    MATCH (r:REVIEWS)\n",
    "    WHERE \n",
    "        r.text IS NULL OR trim(r.text) = \"\" OR\n",
    "        r.smell IS NULL OR \n",
    "        r.look IS NULL OR \n",
    "        r.taste IS NULL OR \n",
    "        r.feel IS NULL OR \n",
    "        r.overall IS NULL OR \n",
    "        r.beer_id IS NULL OR \n",
    "        r.id IS NULL OR \n",
    "        r.date IS NULL OR \n",
    "        r.score IS NULL\n",
    "    RETURN COUNT(*) AS total_empty_reviews;\n",
    "\n",
    "\"\"\"\n",
    "result = execute_read(driver, query)\n",
    "pprint(result)"
   ]
  },
  {
   "cell_type": "markdown",
   "metadata": {},
   "source": [
    "19 identities are empty (have no properties), and can be removed"
   ]
  },
  {
   "cell_type": "code",
   "execution_count": 71,
   "metadata": {},
   "outputs": [
    {
     "name": "stdout",
     "output_type": "stream",
     "text": [
      "[<Record unique_review_ids=2546141>]\n"
     ]
    }
   ],
   "source": [
    "query = \"\"\"\n",
    "    MATCH (r:REVIEWS)\n",
    "    RETURN COUNT(DISTINCT r.id) AS unique_review_ids;\n",
    "\"\"\"\n",
    "result = execute_read(driver, query)\n",
    "pprint(result)"
   ]
  },
  {
   "cell_type": "code",
   "execution_count": 72,
   "metadata": {},
   "outputs": [
    {
     "name": "stdout",
     "output_type": "stream",
     "text": [
      "[<Record unique_review_texts=814333>]\n"
     ]
    }
   ],
   "source": [
    "query = \"\"\"\n",
    "    MATCH (r:REVIEWS)\n",
    "    RETURN COUNT(DISTINCT r.text) AS unique_review_texts;\n",
    "\"\"\"\n",
    "result = execute_read(driver, query)\n",
    "pprint(result)"
   ]
  },
  {
   "cell_type": "markdown",
   "metadata": {},
   "source": [
    "we have 2 549 252 total reviews, 2 546 141 unique_review_ids and 814333 unique text from reviews. Since we have millions of reviews, analyzing duplicates in the same way as for other labels (such as BREWERIES or BEERS) is extremely computationally expensive, but we can try to explore this a bit further."
   ]
  },
  {
   "cell_type": "code",
   "execution_count": 73,
   "metadata": {},
   "outputs": [
    {
     "name": "stdout",
     "output_type": "stream",
     "text": [
      "[<Record review_id=None occurrences=19>,\n",
      " <Record review_id='28' occurrences=2>,\n",
      " <Record review_id='90' occurrences=2>,\n",
      " <Record review_id='45' occurrences=2>,\n",
      " <Record review_id='60' occurrences=2>,\n",
      " <Record review_id='86' occurrences=2>,\n",
      " <Record review_id='32' occurrences=2>,\n",
      " <Record review_id='92' occurrences=2>,\n",
      " <Record review_id='107' occurrences=2>,\n",
      " <Record review_id='12' occurrences=2>]\n"
     ]
    }
   ],
   "source": [
    "query = \"\"\"\n",
    "    MATCH (r:REVIEWS)\n",
    "    WITH r.id AS review_id, COUNT(*) AS occurrences\n",
    "    WHERE occurrences > 1\n",
    "    RETURN review_id, occurrences\n",
    "    ORDER BY occurrences DESC\n",
    "    limit 10;\n",
    "\"\"\"\n",
    "result = execute_read(driver, query)\n",
    "pprint(result)"
   ]
  },
  {
   "cell_type": "markdown",
   "metadata": {},
   "source": [
    "We got the id \"None\" that appears 19 times as we saw earlier, and then another 3111 ids that appear 2 times each, we need to see if they are total duplicates:"
   ]
  },
  {
   "cell_type": "code",
   "execution_count": 74,
   "metadata": {},
   "outputs": [
    {
     "name": "stdout",
     "output_type": "stream",
     "text": [
      "[<Record duplicate_count=3111>]\n"
     ]
    }
   ],
   "source": [
    "query = \"\"\"\n",
    "    MATCH (r:REVIEWS)\n",
    "    WITH r.id AS review_id, COLLECT(r) AS duplicates\n",
    "    WHERE SIZE(duplicates) = 2\n",
    "    WITH duplicates[0] AS r1, duplicates[1] AS r2\n",
    "    WHERE r1 <> r2 AND properties(r1) = properties(r2)\n",
    "    RETURN COUNT(*) AS duplicate_count\n",
    "\"\"\"\n",
    "result = execute_read(driver, query)\n",
    "pprint(result)"
   ]
  },
  {
   "cell_type": "markdown",
   "metadata": {},
   "source": [
    "this query returns only the IDs of reviews that are exact duplicates (same id appearing 2 and same properties), so they are duplicates."
   ]
  },
  {
   "cell_type": "markdown",
   "metadata": {},
   "source": [
    "> BREWERIES analysis"
   ]
  },
  {
   "cell_type": "code",
   "execution_count": 75,
   "metadata": {},
   "outputs": [
    {
     "name": "stdout",
     "output_type": "stream",
     "text": [
      "[<Record brewery_id='32541' brewery_name='Coachella Valley Brewing Co' state='CA' notes='No notes at this time.' types='Brewery, Bar, Beer-to-go' occurrences=2>,\n",
      " <Record brewery_id='44736' brewery_name=\"Beef 'O' Brady's\" state='FL' notes='No notes at this time.' types='Bar, Eatery' occurrences=2>,\n",
      " <Record brewery_id='23372' brewery_name='Broadway Wine Merchant' state='OK' notes='No notes at this time.' types='Store' occurrences=2>,\n",
      " <Record brewery_id='35328' brewery_name='Brighton Beer Dispensary (DUPLICATE)' state='GB2' notes='Duplicate of https://www.beeradvocate.com/beer/profile/36929' types='Bar, Eatery' occurrences=2>,\n",
      " <Record brewery_id='31561' brewery_name=\"Teddy's Tavern\" state='WA' notes='No notes at this time.' types='Bar, Beer-to-go' occurrences=2>,\n",
      " <Record brewery_id='35975' brewery_name='Modus Operandi Brewing Co.' state='nan' notes='No notes at this time.' types='Brewery, Bar, Eatery, Beer-to-go' occurrences=2>,\n",
      " <Record brewery_id='5618' brewery_name='Hops! Beer Restaurant & Pizza' state='nan' notes='No notes at this time.' types='Brewery, Bar, Eatery' occurrences=2>,\n",
      " <Record brewery_id='30916' brewery_name=\"Kelly's Cellars\" state='GB5' notes='No notes at this time.' types='Bar' occurrences=2>,\n",
      " <Record brewery_id='41278' brewery_name='The Other End' state='FL' notes='No notes at this time.' types='Bar, Eatery' occurrences=2>,\n",
      " <Record brewery_id='19730' brewery_name='Brouwerij Danny' state='nan' notes='No notes at this time.' types='Brewery' occurrences=2>]\n"
     ]
    }
   ],
   "source": [
    "query = \"\"\"\n",
    "    MATCH (b:BREWERIES)\n",
    "    WITH b.id AS brewery_id, b.name AS brewery_name, b.state AS state, \n",
    "        b.notes AS notes, b.types AS types, COUNT(*) AS occurrences\n",
    "    WHERE occurrences > 1\n",
    "    RETURN brewery_id, brewery_name, state, notes, types, occurrences\n",
    "    ORDER BY occurrences DESC\n",
    "    limit 10;\n",
    "\"\"\"\n",
    "result = execute_read(driver, query)\n",
    "pprint(result)"
   ]
  },
  {
   "cell_type": "markdown",
   "metadata": {},
   "source": [
    "we have 50 347 occurences that happen 2 times each. This gives us the total=100694. but also we notice the name with (DUPLICATE), so we will check that, and also we only have 45245 unique brewery_name so its possible that some names are under different ids (or ther properties like the state)"
   ]
  },
  {
   "cell_type": "code",
   "execution_count": 76,
   "metadata": {},
   "outputs": [
    {
     "name": "stdout",
     "output_type": "stream",
     "text": [
      "[<Record duplicate_count=296>]\n"
     ]
    }
   ],
   "source": [
    "query = \"\"\"\n",
    "    MATCH (b:BREWERIES)\n",
    "    WHERE b.name CONTAINS \"DUPLICATE\"\n",
    "    RETURN COUNT(b) AS duplicate_count;\n",
    "\"\"\"\n",
    "result = execute_read(driver, query)\n",
    "pprint(result)\n"
   ]
  },
  {
   "cell_type": "code",
   "execution_count": 77,
   "metadata": {},
   "outputs": [
    {
     "name": "stdout",
     "output_type": "stream",
     "text": [
      "[<Record brewery_name='Whole Foods Market' count_variations=104328>,\n",
      " <Record brewery_name='Total Wine & More' count_variations=85848>,\n",
      " <Record brewery_name='Cost Plus World Market' count_variations=55224>,\n",
      " <Record brewery_name='Mellow Mushroom' count_variations=51528>,\n",
      " <Record brewery_name=\"Trader Joe's\" count_variations=30624>,\n",
      " <Record brewery_name='Old Chicago' count_variations=24024>,\n",
      " <Record brewery_name=\"BJ's Restaurant & Brewhouse\" count_variations=18224>,\n",
      " <Record brewery_name='World of Beer' count_variations=17160>,\n",
      " <Record brewery_name='Yard House' count_variations=14640>,\n",
      " <Record brewery_name='Wegmans' count_variations=13224>]\n"
     ]
    }
   ],
   "source": [
    "query = \"\"\"\n",
    "    MATCH (b1:BREWERIES)\n",
    "    MATCH (b2:BREWERIES)\n",
    "    WHERE b1.name = b2.name \n",
    "    AND (b1.id <> b2.id OR b1.state <> b2.state OR b1.notes <> b2.notes OR b1.types <> b2.types)\n",
    "    WITH DISTINCT b1.name AS brewery_name, COUNT(*) AS count_variations\n",
    "    RETURN brewery_name, count_variations\n",
    "    ORDER BY count_variations DESC\n",
    "    limit 10;\n",
    "\"\"\"\n",
    "result = execute_read(driver, query)\n",
    "pprint(result)"
   ]
  },
  {
   "cell_type": "markdown",
   "metadata": {},
   "source": [
    "> BEERS analysis"
   ]
  },
  {
   "cell_type": "code",
   "execution_count": 78,
   "metadata": {},
   "outputs": [
    {
     "name": "stdout",
     "output_type": "stream",
     "text": [
      "[<Record beer_id='8036' beer_name='World Burp Beer 2002' abv='5.5' state='nan' availability=' Limited (brewed once)' occurrences=2>,\n",
      " <Record beer_id='265827' beer_name='Addison' abv='5.5' state='PA' availability=' Rotating' occurrences=2>,\n",
      " <Record beer_id='110318' beer_name='Schwartz Hop' abv='6.0' state='CA' availability=' Limited (brewed once)' occurrences=2>,\n",
      " <Record beer_id='138971' beer_name='Porter' abv='5.3' state='NC' availability=' Rotating' occurrences=2>,\n",
      " <Record beer_id='199068' beer_name='Eastwood - Equinox' abv='8.2' state='CA' availability=' Limited (brewed once)' occurrences=2>,\n",
      " <Record beer_id='80010' beer_name='Joy Division Series: No Love Lost' abv='7.8' state='PA' availability=' Limited (brewed once)' occurrences=2>,\n",
      " <Record beer_id='55175' beer_name='Samuel Adams New World Lager' abv='nan' state='MA' availability=' Limited (brewed once)' occurrences=2>,\n",
      " <Record beer_id='55' beer_name='Redhook Double Black Stout' abv='7.0' state='NH' availability=' Rotating' occurrences=2>,\n",
      " <Record beer_id='354484' beer_name='Cranberry' abv='5.8' state='OH' availability=' Rotating' occurrences=2>,\n",
      " <Record beer_id='214879' beer_name='Scottish Right' abv='4.0' state='IN' availability=' Year-round' occurrences=2>]\n"
     ]
    }
   ],
   "source": [
    "query = \"\"\"\n",
    "    MATCH (b:BEERS)\n",
    "    WITH b.id AS beer_id, b.name AS beer_name, b.abv AS abv, \n",
    "        b.state AS state, b.availability AS availability, COUNT(*) AS occurrences\n",
    "    WHERE occurrences > 1\n",
    "    RETURN beer_id, beer_name, abv, state, availability, occurrences\n",
    "    ORDER BY occurrences DESC\n",
    "    limit 10;\n",
    "\"\"\"\n",
    "result = execute_read(driver, query)\n",
    "pprint(result)"
   ]
  },
  {
   "cell_type": "markdown",
   "metadata": {},
   "source": [
    "We have 58 873 entries with 2 occurences each and 300 000 with 1 occurence (using WHERE occurrences = 1), this gives us the total 417746. But then again, we only have 298567 unique beers names, so same names can be under different ids, or different states..."
   ]
  },
  {
   "cell_type": "code",
   "execution_count": 79,
   "metadata": {},
   "outputs": [
    {
     "name": "stdout",
     "output_type": "stream",
     "text": [
      "[<Record beer_name='Oktoberfest' count_variations=776788>,\n",
      " <Record beer_name='IPA' count_variations=534894>,\n",
      " <Record beer_name='Pale Ale' count_variations=523244>,\n",
      " <Record beer_name='Hefeweizen' count_variations=300708>,\n",
      " <Record beer_name='Oatmeal Stout' count_variations=258440>,\n",
      " <Record beer_name='Porter' count_variations=186934>,\n",
      " <Record beer_name='Saison' count_variations=177540>,\n",
      " <Record beer_name='India Pale Ale' count_variations=126284>,\n",
      " <Record beer_name='Pilsner' count_variations=120662>,\n",
      " <Record beer_name='Brown Ale' count_variations=100062>]\n"
     ]
    }
   ],
   "source": [
    "query = \"\"\"\n",
    "    MATCH (b1:BEERS)\n",
    "    MATCH (b2:BEERS)\n",
    "    WHERE b1.name = b2.name \n",
    "    AND (b1.id <> b2.id OR b1.state <> b2.state OR b1.abv <> b2.abv OR b1.availability <> b2.availability)\n",
    "    WITH DISTINCT b1.name AS beer_name, COUNT(*) AS count_variations\n",
    "    RETURN beer_name, count_variations\n",
    "    ORDER BY count_variations DESC\n",
    "    LIMIT 10;\n",
    "\"\"\"\n",
    "result = execute_read(driver, query)\n",
    "pprint(result)"
   ]
  },
  {
   "cell_type": "markdown",
   "metadata": {},
   "source": [
    "> CITIES analysis"
   ]
  },
  {
   "cell_type": "code",
   "execution_count": 80,
   "metadata": {},
   "outputs": [
    {
     "name": "stdout",
     "output_type": "stream",
     "text": [
      "[<Record c.name='Thousand Palms' occurrences=2>,\n",
      " <Record c.name='Plant City' occurrences=2>,\n",
      " <Record c.name='Oklahoma City' occurrences=2>,\n",
      " <Record c.name='Brighton' occurrences=2>,\n",
      " <Record c.name='Seattle' occurrences=2>,\n",
      " <Record c.name='Mona Vale' occurrences=2>,\n",
      " <Record c.name='Riccione (RN)' occurrences=2>,\n",
      " <Record c.name='Belfast' occurrences=2>,\n",
      " <Record c.name='Destin' occurrences=2>,\n",
      " <Record c.name='Erpe-Mere' occurrences=2>]\n"
     ]
    }
   ],
   "source": [
    "query = \"\"\" \n",
    "    MATCH (c:CITIES)\n",
    "    RETURN c.name, COUNT(*) AS occurrences\n",
    "    ORDER BY occurrences DESC\n",
    "    LIMIT 10;\n",
    "    \"\"\"\n",
    "result = execute_read(driver, query)\n",
    "pprint(result)"
   ]
  },
  {
   "cell_type": "markdown",
   "metadata": {},
   "source": [
    "Every city is duplicated (occurrences = 2 for all)"
   ]
  },
  {
   "cell_type": "markdown",
   "metadata": {},
   "source": [
    "> COUNTRIES analysis"
   ]
  },
  {
   "cell_type": "code",
   "execution_count": 81,
   "metadata": {},
   "outputs": [
    {
     "name": "stdout",
     "output_type": "stream",
     "text": [
      "[<Record c.name='US' occurrences=2>,\n",
      " <Record c.name='GB' occurrences=2>,\n",
      " <Record c.name='AU' occurrences=2>,\n",
      " <Record c.name='IT' occurrences=2>,\n",
      " <Record c.name='CA' occurrences=2>,\n",
      " <Record c.name='GR' occurrences=2>,\n",
      " <Record c.name='FR' occurrences=2>,\n",
      " <Record c.name='AT' occurrences=2>,\n",
      " <Record c.name='ES' occurrences=2>,\n",
      " <Record c.name='BE' occurrences=2>]\n"
     ]
    }
   ],
   "source": [
    "query = \"\"\" \n",
    "    MATCH (c:COUNTRIES)\n",
    "    RETURN c.name, COUNT(*) AS occurrences\n",
    "    ORDER BY occurrences DESC\n",
    "    limit 10;\n",
    "    \"\"\"\n",
    "result = execute_read(driver, query)\n",
    "pprint(result)"
   ]
  },
  {
   "cell_type": "markdown",
   "metadata": {},
   "source": [
    "Every country is duplicated (occurrences = 2 for all)"
   ]
  },
  {
   "cell_type": "markdown",
   "metadata": {},
   "source": [
    "#### Data Quality Report\n",
    "\n",
    "1. **Solve Naming Consistency Issues**: `STYLE` and `USER` ➡️ `STYLES` and `USERS` ✅\n",
    "\n",
    "2. **Incorrect Relationship Directions**\n",
    "\n",
    "- `(:REVIEWS)-[:POSTED]->(:USER)` **should be corrected to:**\n",
    "  - `(:USER)-[:POSTED]->(:REVIEWS)` ✅\n",
    "- `(:BEERS)-[:REVIEWED]->(:REVIEWS)` **should be corrected to:**\n",
    "  - `(:REVIEWS)-[:REVIEWED]->(:BEERS)` ✅\n",
    "\n",
    "3. **Unusual Relationships**\n",
    "- **CITIES linked to CITIES via `IN` relationship is unusual.**- This **does not represent hierarchical regions** (e.g., no neighborhoods inside cities). \n",
    "- **Potential redundancy:** The direct `IN` relationship between breweries and countries **might be unnecessary**. If a brewery is assigned to a city, the country can be inferred.\n",
    "\n",
    "4. **Orphaned Records and Duplicate Entities**\n",
    "\n",
    "| Label     | Orphaned Count | Total Count | Unique Count (by name) | Total Duplicates (2 times) |Notes |Solved?          |\n",
    "| --------- | -------------- | ----------- | ------------ | ---------- |---------- |---------- |\n",
    "| USER      | 17,290         | 123,935     | 123,935      | 0          | No duplicates but we have Orphaned nodes         |✅           |\n",
    "| COUNTRIES | 200            | 400         | 200          | 200        |Orphaned match duplicated          |✅           |\n",
    "| CITIES    | 11,665         | 23,330      | 11,665       | 11,665     |Orphaned match duplicated           |✅           |\n",
    "| BREWERIES | 50,347         | 100,694     | 45,245       | 50,347      |Orphaned match duplicated           |✅           |\n",
    "| BEERS     | 58,873         | 417,746     | 298,567      | 58, 873    |Orphaned match duplicated           |✅           |\n",
    "\n",
    "- **COUNTRIES and CITIES:** The number of orphaned records matches exactly with the number of duplicates found.\n",
    "- **BREWERIES and BEERS:** Each orphaned record appears **twice**, confirming they are duplicated.\n",
    "\n",
    "5. **Duplicate Reviews**\n",
    "\n",
    "- `id = \"None\"` appears **19 times**. ✅\n",
    "- `3,111` reviews appear **twice with the same properties**. ✅\n",
    "\n",
    "**Breweries Containing 'DUPLICATE' in Name**: `296` ✅\n",
    "\n",
    "`Notes`: Check the remaining duplicate names for Breweries and Beers after the first treatment. ✅\n",
    "\n",
    "The CRUD references will be present across the cells.\n",
    "\n"
   ]
  },
  {
   "cell_type": "markdown",
   "metadata": {},
   "source": [
    "### <div class=\"alert-warning\" style=\"background-color: #FFF9C4; color: black; padding: 10px;\"><a id=\"adjust-the-database\"></a>2. Adjust the Database and Mention the Reasoning Behind the Adjustments </div>\n",
    "\n",
    "Back to [Index](#index)"
   ]
  },
  {
   "cell_type": "markdown",
   "metadata": {},
   "source": [
    "#### 2.1. Remove Orphaned Nodes (Nodes Without Any Relationships)\n",
    "\n",
    "Orphaned nodes, which are nodes without relationships to any other nodes in the database, are unnecessary for the current data model and analysis. Removing these orphaned nodes helps to simplify the database, ensuring that only relevant data is kept. This reduces the overall size of the database, which can lead to better performance, faster query execution, and a clearer, more manageable schema for the given task. Also, we will solve the duplicates problem in some labels."
   ]
  },
  {
   "cell_type": "markdown",
   "metadata": {},
   "source": [
    "> DELETE Orphaned COUNTRIES"
   ]
  },
  {
   "cell_type": "code",
   "execution_count": 82,
   "metadata": {},
   "outputs": [
    {
     "name": "stdout",
     "output_type": "stream",
     "text": [
      "[]\n"
     ]
    }
   ],
   "source": [
    "query = \"\"\" \n",
    "    MATCH (c:COUNTRIES)\n",
    "    WHERE NOT EXISTS( (c)-[]-() ) \n",
    "    DETACH DELETE c;\n",
    "    \"\"\"\n",
    "result = execute_write(driver, query)\n",
    "pprint(result)"
   ]
  },
  {
   "cell_type": "code",
   "execution_count": 83,
   "metadata": {},
   "outputs": [
    {
     "name": "stdout",
     "output_type": "stream",
     "text": [
      "[]\n"
     ]
    }
   ],
   "source": [
    "query = \"\"\" \n",
    "    MATCH (c:COUNTRIES)\n",
    "    WITH c.name AS country_name, COUNT(*) AS occurrences\n",
    "    WHERE occurrences > 1\n",
    "    RETURN country_name, occurrences;\n",
    "    \"\"\"\n",
    "result = execute_read(driver, query)\n",
    "pprint(result)"
   ]
  },
  {
   "cell_type": "markdown",
   "metadata": {},
   "source": [
    "Duplicates solved"
   ]
  },
  {
   "cell_type": "markdown",
   "metadata": {},
   "source": [
    "> DELETE Orphaned CITIES"
   ]
  },
  {
   "cell_type": "code",
   "execution_count": 84,
   "metadata": {},
   "outputs": [
    {
     "name": "stdout",
     "output_type": "stream",
     "text": [
      "[]\n"
     ]
    }
   ],
   "source": [
    "query = \"\"\" \n",
    "    MATCH (c:CITIES)\n",
    "    WHERE NOT EXISTS( (c)-[]-() ) \n",
    "    DETACH DELETE c;\n",
    "    \"\"\"\n",
    "result = execute_write(driver, query)\n",
    "pprint(result)"
   ]
  },
  {
   "cell_type": "code",
   "execution_count": 85,
   "metadata": {},
   "outputs": [
    {
     "name": "stdout",
     "output_type": "stream",
     "text": [
      "[]\n"
     ]
    }
   ],
   "source": [
    "query = \"\"\" \n",
    "    MATCH (c:CITIES)\n",
    "    WITH c.name AS city_name, COUNT(*) AS occurrences\n",
    "    WHERE occurrences > 1\n",
    "    RETURN city_name, occurrences;\n",
    "    \"\"\"\n",
    "result = execute_read(driver, query)\n",
    "pprint(result)"
   ]
  },
  {
   "cell_type": "markdown",
   "metadata": {},
   "source": [
    "Duplicates solved"
   ]
  },
  {
   "cell_type": "markdown",
   "metadata": {},
   "source": [
    "> DELETE Orphaned BREWERIES"
   ]
  },
  {
   "cell_type": "code",
   "execution_count": 86,
   "metadata": {},
   "outputs": [
    {
     "name": "stdout",
     "output_type": "stream",
     "text": [
      "[]\n"
     ]
    }
   ],
   "source": [
    "query = \"\"\" \n",
    "    MATCH (b:BREWERIES)\n",
    "    WHERE NOT EXISTS( (b)-[]-() )\n",
    "    DETACH DELETE b;\n",
    "    \"\"\"\n",
    "result = execute_write(driver, query)\n",
    "pprint(result)"
   ]
  },
  {
   "cell_type": "code",
   "execution_count": 87,
   "metadata": {},
   "outputs": [
    {
     "name": "stdout",
     "output_type": "stream",
     "text": [
      "[]\n"
     ]
    }
   ],
   "source": [
    "query = \"\"\"\n",
    "    MATCH (b:BREWERIES)\n",
    "    WITH b.id AS brewery_id, b.name AS brewery_name, b.state AS state, \n",
    "        b.notes AS notes, b.types AS types, COUNT(*) AS occurrences\n",
    "    WHERE occurrences > 1\n",
    "    RETURN brewery_id, brewery_name, state, notes, types, occurrences\n",
    "    ORDER BY occurrences DESC;\n",
    "\"\"\"\n",
    "result = execute_read(driver, query)\n",
    "pprint(result)"
   ]
  },
  {
   "cell_type": "markdown",
   "metadata": {},
   "source": [
    "Total Duplicates solved"
   ]
  },
  {
   "cell_type": "markdown",
   "metadata": {},
   "source": [
    "> DELETE Orphaned BEERS"
   ]
  },
  {
   "cell_type": "code",
   "execution_count": 88,
   "metadata": {},
   "outputs": [
    {
     "name": "stdout",
     "output_type": "stream",
     "text": [
      "[]\n"
     ]
    }
   ],
   "source": [
    "query = \"\"\" \n",
    "    MATCH (b:BEERS)\n",
    "    WHERE NOT EXISTS( (b)-[]-() )\n",
    "    DETACH DELETE b;\n",
    "    \"\"\"\n",
    "result = execute_write(driver, query)\n",
    "pprint(result)"
   ]
  },
  {
   "cell_type": "code",
   "execution_count": 89,
   "metadata": {},
   "outputs": [
    {
     "name": "stdout",
     "output_type": "stream",
     "text": [
      "[]\n"
     ]
    }
   ],
   "source": [
    "query = \"\"\"\n",
    "    MATCH (b:BEERS)\n",
    "    WITH b.id AS beer_id, b.name AS beer_name, b.abv AS abv, \n",
    "        b.state AS state, b.availability AS availability, COUNT(*) AS occurrences\n",
    "    WHERE occurrences > 1\n",
    "    RETURN beer_id, beer_name, abv, state, availability, occurrences\n",
    "    ORDER BY occurrences DESC;\n",
    "\"\"\"\n",
    "result = execute_read(driver, query)\n",
    "pprint(result)"
   ]
  },
  {
   "cell_type": "markdown",
   "metadata": {},
   "source": [
    "Total Duplicates solved"
   ]
  },
  {
   "cell_type": "markdown",
   "metadata": {},
   "source": [
    "> DELETE Orphaned USER"
   ]
  },
  {
   "cell_type": "code",
   "execution_count": 90,
   "metadata": {},
   "outputs": [
    {
     "name": "stdout",
     "output_type": "stream",
     "text": [
      "[]\n"
     ]
    }
   ],
   "source": [
    "query = \"\"\" \n",
    "    MATCH (u:USER)\n",
    "    WHERE NOT EXISTS( (u)-[]-() )\n",
    "    DETACH DELETE u;\n",
    "    \"\"\"\n",
    "result = execute_write(driver, query)\n",
    "pprint(result)"
   ]
  },
  {
   "cell_type": "markdown",
   "metadata": {},
   "source": [
    "> DELETE Orphaned REVIEWS"
   ]
  },
  {
   "cell_type": "code",
   "execution_count": 91,
   "metadata": {},
   "outputs": [
    {
     "name": "stdout",
     "output_type": "stream",
     "text": [
      "[]\n"
     ]
    }
   ],
   "source": [
    "query = \"\"\" \n",
    "    MATCH (r:REVIEWS)\n",
    "    WHERE NOT EXISTS( (r)-[]-() )\n",
    "    DETACH DELETE r;\n",
    "    \"\"\"\n",
    "result = execute_write(driver, query)\n",
    "pprint(result)"
   ]
  },
  {
   "cell_type": "code",
   "execution_count": 92,
   "metadata": {},
   "outputs": [
    {
     "name": "stdout",
     "output_type": "stream",
     "text": [
      "[<Record review_id=None occurrences=19>]\n"
     ]
    }
   ],
   "source": [
    "query = \"\"\"\n",
    "    MATCH (r:REVIEWS)\n",
    "    WITH r.id AS review_id, COUNT(*) AS occurrences\n",
    "    WHERE occurrences > 1\n",
    "    RETURN review_id, occurrences\n",
    "    ORDER BY occurrences DESC\n",
    "    limit 10;\n",
    "\"\"\"\n",
    "result = execute_read(driver, query)\n",
    "pprint(result)"
   ]
  },
  {
   "cell_type": "markdown",
   "metadata": {},
   "source": [
    "Also solved the total duplicates in reviews. But we still have the none values."
   ]
  },
  {
   "cell_type": "code",
   "execution_count": 93,
   "metadata": {},
   "outputs": [
    {
     "name": "stdout",
     "output_type": "stream",
     "text": [
      "[]\n"
     ]
    }
   ],
   "source": [
    "query = \"\"\"\n",
    "    MATCH (n)\n",
    "    WHERE NOT EXISTS( (n)-[]-() )\n",
    "    RETURN labels(n) AS Label, COUNT(n) AS OrphanedCount\n",
    "\"\"\"\n",
    "result = execute_read(driver, query)\n",
    "pprint(result)"
   ]
  },
  {
   "cell_type": "markdown",
   "metadata": {},
   "source": [
    "⬆️ all fine now."
   ]
  },
  {
   "cell_type": "markdown",
   "metadata": {},
   "source": [
    "#### 2.2. Duplicates (None values for REVIEWS and partial duplicates for REVIEWS; BEERS and BREWERIES)\n",
    "\n",
    "Back to [Index](#index)"
   ]
  },
  {
   "cell_type": "markdown",
   "metadata": {},
   "source": [
    "> Delete REVIEWS with id = \"None\""
   ]
  },
  {
   "cell_type": "code",
   "execution_count": 94,
   "metadata": {},
   "outputs": [
    {
     "name": "stdout",
     "output_type": "stream",
     "text": [
      "[<Record label='COUNTRIES' key='name' keys=['name'] unique=False action='DROPPED'>,\n",
      " <Record label='CITIES' key='name' keys=['name'] unique=False action='DROPPED'>,\n",
      " <Record label='BREWERIES' key='id' keys=['id'] unique=False action='DROPPED'>,\n",
      " <Record label='BEERS' key='id' keys=['id'] unique=False action='DROPPED'>,\n",
      " <Record label='REVIEWS' key='id' keys=['id'] unique=False action='DROPPED'>,\n",
      " <Record label='STYLE' key='name' keys=['name'] unique=False action='DROPPED'>,\n",
      " <Record label='USER' key='name' keys=['name'] unique=False action='DROPPED'>]\n"
     ]
    }
   ],
   "source": [
    "#first, since we notice that not all names and ids are unique, its best to assert the schema - UPDATE\n",
    "\n",
    "query = \"\"\" \n",
    "    CALL apoc.schema.assert({}, {});\n",
    "    \"\"\"\n",
    "result = execute_write(driver, query)\n",
    "pprint(result)"
   ]
  },
  {
   "cell_type": "code",
   "execution_count": 95,
   "metadata": {},
   "outputs": [
    {
     "name": "stdout",
     "output_type": "stream",
     "text": [
      "[]\n"
     ]
    }
   ],
   "source": [
    "#DELETE\n",
    "\n",
    "query = \"\"\" \n",
    "    MATCH (r:REVIEWS)\n",
    "    WHERE r.id IS NULL OR r.id = \"None\"\n",
    "    DETACH DELETE r;\n",
    "    \"\"\"\n",
    "result = execute_write(driver, query)\n",
    "pprint(result)"
   ]
  },
  {
   "cell_type": "markdown",
   "metadata": {},
   "source": [
    "Due to memory issues, we were unable to fully complete the detection of partial duplicates in the REVIEWS. Although we attempted to increase the allocated memory, the computer kept crashing, preventing us from identifying all partial duplicates among the reviews. However, we were able to resolve the total (exact) duplicates.\n",
    "\n",
    "Additionally, while trying to process duplicates in batches to avoid memory overload, we encountered another issue: the batch processing method did not retrieve all duplicates correctly. Since each batch only processed a subset of the data, it failed to detect certain duplicates that might have been present in different batches. As a result, the approach was not effective for our use case."
   ]
  },
  {
   "cell_type": "markdown",
   "metadata": {},
   "source": [
    "> BREWERIES also has duplicates if we dont consider the id and has some nodes with \"Duplicate\" in the name: what we want to see is that if we remove the \" (DUPLICATE)\" from the name, and considering the normal name, types and state as properties (the id and the notes will be different because we have some notes saying \"this is a duplicate of this\"...)"
   ]
  },
  {
   "cell_type": "code",
   "execution_count": 96,
   "metadata": {},
   "outputs": [
    {
     "name": "stdout",
     "output_type": "stream",
     "text": [
      "[]\n"
     ]
    }
   ],
   "source": [
    "# CREATE - the composite index helps in finding duplicates quickly (we use the properties that should compose a unique record)\n",
    "query = \"\"\" \n",
    "    CREATE INDEX breweries_composite_index IF NOT EXISTS FOR (b:BREWERIES) ON (b.name, b.types, b.state, b.notes);\n",
    "\"\"\"\n",
    "result = execute_write(driver, query)\n",
    "pprint(result)"
   ]
  },
  {
   "cell_type": "code",
   "execution_count": 97,
   "metadata": {},
   "outputs": [
    {
     "name": "stdout",
     "output_type": "stream",
     "text": [
      "[<Record name='breweries_composite_index' properties=['name', 'types', 'state', 'notes']>]\n"
     ]
    }
   ],
   "source": [
    "#READ\n",
    "query = \"\"\"\n",
    "    SHOW INDEXES YIELD name, properties WHERE name = \"breweries_composite_index\"\n",
    "\"\"\"\n",
    "result = execute_read(driver, query)\n",
    "pprint(result)"
   ]
  },
  {
   "cell_type": "code",
   "execution_count": 98,
   "metadata": {},
   "outputs": [
    {
     "name": "stdout",
     "output_type": "stream",
     "text": [
      "[<Record name='Beverages & more!' types='Store' state='CA' notes='No notes at this time.' occurrences=51>,\n",
      " <Record name=\"Trader Joe's\" types='Store' state='CA' notes='No notes at this time.' occurrences=43>,\n",
      " <Record name='Whole Foods Market' types='Store' state='CA' notes='No notes at this time.' occurrences=40>,\n",
      " <Record name='ABC Fine Wine & Spirits' types='Store' state='FL' notes='No notes at this time.' occurrences=39>,\n",
      " <Record name=\"Binny's Beverage Depot\" types='Store' state='IL' notes='No notes at this time.' occurrences=30>,\n",
      " <Record name='Giant Eagle' types='Store' state='OH' notes='No notes at this time.' occurrences=29>,\n",
      " <Record name='Cost Plus World Market' types='Store' state='CA' notes='No notes at this time.' occurrences=29>,\n",
      " <Record name='Total Wine & More' types='Store' state='FL' notes='No notes at this time.' occurrences=25>,\n",
      " <Record name='Beverages & More!' types='Store' state='CA' notes='No notes at this time.' occurrences=24>,\n",
      " <Record name='Wegmans' types='Store' state='NY' notes='No notes at this time.' occurrences=24>]\n"
     ]
    }
   ],
   "source": [
    "#READ\n",
    "query = \"\"\" \n",
    "    MATCH (b:BREWERIES)\n",
    "    WITH b.name AS name, b.types AS types, b.state AS state, b.notes AS notes, COUNT(*) AS occurrences\n",
    "    WHERE occurrences > 1\n",
    "    RETURN name, types, state, notes, occurrences\n",
    "    ORDER BY occurrences DESC\n",
    "    limit 10;\n",
    "\"\"\"\n",
    "result = execute_read(driver, query)\n",
    "pprint(result)"
   ]
  },
  {
   "cell_type": "markdown",
   "metadata": {},
   "source": [
    "these breweries are considered duplicates because they have the same name, types, and state, even though their IDs are different. Now, we need to merge them:"
   ]
  },
  {
   "cell_type": "code",
   "execution_count": 99,
   "metadata": {},
   "outputs": [
    {
     "name": "stdout",
     "output_type": "stream",
     "text": [
      "[<Record Merged_Breweries=2877>]\n"
     ]
    }
   ],
   "source": [
    "# DELETE: we merge the duplicates\n",
    "query = \"\"\"\n",
    "    CALL {\n",
    "        MATCH (b:BREWERIES)\n",
    "        WHERE b.name IS NOT NULL\n",
    "        WITH b.name AS name, b.types AS types, b.state AS state, COLLECT(b) AS breweries\n",
    "        WHERE SIZE(breweries) > 1\n",
    "        RETURN breweries\n",
    "    }\n",
    "\n",
    "    UNWIND breweries AS brewery\n",
    "\n",
    "    WITH brewery, breweries[0] AS main  // Main node to maintain\n",
    "    WHERE brewery <> main\n",
    "\n",
    "    CALL apoc.refactor.mergeNodes([main, brewery], {properties: {name: 'keep', types: 'keep', state: 'keep', notes: 'keep'}, mergeRels: true})\n",
    "    YIELD node\n",
    "\n",
    "    RETURN COUNT(node) AS Merged_Breweries;\n",
    "\"\"\"\n",
    "result = execute_write(driver, query)\n",
    "pprint(result)"
   ]
  },
  {
   "cell_type": "markdown",
   "metadata": {},
   "source": [
    "> Now, the records with DUPLICATE, we first see if removing the \"DUPLICATE\" from the name would we have duplicates"
   ]
  },
  {
   "cell_type": "code",
   "execution_count": 100,
   "metadata": {},
   "outputs": [
    {
     "name": "stdout",
     "output_type": "stream",
     "text": [
      "[<Record NormalName='Emerald Hill Brewery' Type='Brewery' State='nan' DuplicateNames=['Emerald Hill Brewery (DUPLICATE)', 'Emerald Hill Brewery'] TotalDuplicates=2>,\n",
      " <Record NormalName=\"Joe's Tap Room\" Type='Bar, Eatery' State='FL' DuplicateNames=[\"Joe's Tap Room (DUPLICATE)\", \"Joe's Tap Room\"] TotalDuplicates=2>,\n",
      " <Record NormalName='Pie Whole' Type='Bar, Eatery' State='nan' DuplicateNames=['Pie Whole', 'Pie Whole (DUPLICATE)'] TotalDuplicates=2>,\n",
      " <Record NormalName='The Pub' Type='Bar, Eatery' State='FL' DuplicateNames=['The Pub', 'The Pub (DUPLICATE)'] TotalDuplicates=2>,\n",
      " <Record NormalName='Upstate Brewing Company' Type='Brewery, Beer-to-go' State='NY' DuplicateNames=['Upstate Brewing Company', 'Upstate Brewing Company (DUPLICATE)'] TotalDuplicates=2>,\n",
      " <Record NormalName='Bull City Homebrew' Type='Homebrew' State='NC' DuplicateNames=['Bull City Homebrew (DUPLICATE)', 'Bull City Homebrew'] TotalDuplicates=2>,\n",
      " <Record NormalName='Fairhope Brewing Company' Type='Brewery, Bar' State='AL' DuplicateNames=['Fairhope Brewing Company (DUPLICATE)', 'Fairhope Brewing Company'] TotalDuplicates=2>,\n",
      " <Record NormalName='Southside Brew-Thru' Type='Store' State='PA' DuplicateNames=['Southside Brew-Thru (DUPLICATE)', 'Southside Brew-Thru'] TotalDuplicates=2>,\n",
      " <Record NormalName='Culture Brewing Co - Ocean Beach Tasting Room' Type='Bar, Beer-to-go' State='CA' DuplicateNames=['Culture Brewing Co - Ocean Beach Tasting Room', 'Culture Brewing Co - Ocean Beach Tasting Room (DUPLICATE)'] TotalDuplicates=2>,\n",
      " <Record NormalName='Hops and Growlers' Type='Brewery, Bar, Homebrew, Beer-to-go' State='MS' DuplicateNames=['Hops and Growlers (DUPLICATE)', 'Hops and Growlers'] TotalDuplicates=2>]\n"
     ]
    }
   ],
   "source": [
    "#READ\n",
    "query = \"\"\"\n",
    "    MATCH (b:BREWERIES)\n",
    "    WITH TRIM(REPLACE(b.name, \" (DUPLICATE)\", \"\")) AS NormalName, b.types AS Type, b.state AS State, b\n",
    "    WITH NormalName, Type, State, COUNT(b) AS TotalDuplicates, COLLECT(b.name) AS DuplicateNames\n",
    "    WHERE TotalDuplicates > 1\n",
    "    RETURN NormalName, Type, State, DuplicateNames, TotalDuplicates\n",
    "    ORDER BY TotalDuplicates DESC\n",
    "    LIMIT 10;\n",
    "\"\"\"\n",
    "result = execute_read(driver, query)\n",
    "pprint(result)"
   ]
  },
  {
   "cell_type": "code",
   "execution_count": 101,
   "metadata": {},
   "outputs": [
    {
     "name": "stdout",
     "output_type": "stream",
     "text": [
      "[<Record b=<Node element_id='22932' labels=frozenset({'BREWERIES'}) properties={'types': 'Brewery', 'notes': 'No notes at this time.', 'name': 'Emerald Hill Brewery', 'id': '14687', 'state': 'nan'}>>]\n"
     ]
    }
   ],
   "source": [
    "query = \"\"\" \n",
    "    MATCH (b:BREWERIES)\n",
    "    WHERE b.name = \"Emerald Hill Brewery\"  // \n",
    "      AND b.types = \"Brewery\" \n",
    "      AND b.state = \"nan\"\n",
    "    RETURN b;\n",
    "\"\"\"\n",
    "result = execute_read(driver, query)\n",
    "pprint(result)"
   ]
  },
  {
   "cell_type": "code",
   "execution_count": 102,
   "metadata": {},
   "outputs": [
    {
     "name": "stdout",
     "output_type": "stream",
     "text": [
      "[<Record b=<Node element_id='12658' labels=frozenset({'BREWERIES'}) properties={'types': 'Brewery', 'notes': 'No notes at this time.', 'name': 'Emerald Hill Brewery (DUPLICATE)', 'id': '14455', 'state': 'nan'}>>]\n"
     ]
    }
   ],
   "source": [
    "query = \"\"\" \n",
    "    MATCH (b:BREWERIES)\n",
    "    WHERE b.name = \"Emerald Hill Brewery (DUPLICATE)\"  \n",
    "      AND b.types = \"Brewery\" \n",
    "      AND b.state = \"nan\"\n",
    "    RETURN b;\n",
    "\"\"\"\n",
    "result = execute_read(driver, query)\n",
    "pprint(result)"
   ]
  },
  {
   "cell_type": "code",
   "execution_count": 103,
   "metadata": {},
   "outputs": [
    {
     "name": "stdout",
     "output_type": "stream",
     "text": [
      "[<Record Merged_Breweries=56>]\n"
     ]
    }
   ],
   "source": [
    "#DELETE: merge the cases\n",
    "query = \"\"\"\n",
    "    CALL {\n",
    "        MATCH (b:BREWERIES)\n",
    "        WITH TRIM(REPLACE(b.name, \" (DUPLICATE)\", \"\")) AS NormalName, b.types AS Type, b.state AS State, b\n",
    "        WITH NormalName, Type, State, COLLECT(b) AS Breweries\n",
    "        WHERE SIZE(Breweries) > 1\n",
    "        RETURN Breweries\n",
    "    }\n",
    "\n",
    "    WITH [b IN Breweries WHERE NOT b.name CONTAINS \"(DUPLICATE)\"] AS CleanNames, Breweries\n",
    "    WITH CASE \n",
    "        WHEN SIZE(CleanNames) > 0 THEN CleanNames[0] // keeps the name without duplicate in it \n",
    "        ELSE Breweries[0] \n",
    "    END AS MainBrewery, Breweries\n",
    "\n",
    "    UNWIND Breweries AS Brewery\n",
    "    WITH Brewery, MainBrewery\n",
    "    WHERE Brewery <> MainBrewery\n",
    "\n",
    "    CALL apoc.refactor.mergeNodes([MainBrewery, Brewery], {properties: {name: 'keep', types: 'keep', state: 'keep', notes: 'combine'}, mergeRels: true})\n",
    "    YIELD node\n",
    "    RETURN COUNT(node) AS Merged_Breweries;\n",
    "\"\"\"\n",
    "result = execute_write(driver, query)\n",
    "pprint(result)"
   ]
  },
  {
   "cell_type": "code",
   "execution_count": 104,
   "metadata": {},
   "outputs": [
    {
     "name": "stdout",
     "output_type": "stream",
     "text": [
      "[]\n"
     ]
    }
   ],
   "source": [
    "query = \"\"\" \n",
    "    MATCH (b:BREWERIES)\n",
    "    WITH b.name AS name, b.types AS types, b.state AS state, b.notes AS notes, COUNT(*) AS occurrences\n",
    "    WHERE occurrences > 1\n",
    "    RETURN name, types, state, notes, occurrences\n",
    "    ORDER BY occurrences DESC;\n",
    "\"\"\"\n",
    "result = execute_read(driver, query)\n",
    "pprint(result)"
   ]
  },
  {
   "cell_type": "code",
   "execution_count": 105,
   "metadata": {},
   "outputs": [
    {
     "name": "stdout",
     "output_type": "stream",
     "text": [
      "[]\n"
     ]
    }
   ],
   "source": [
    "#test for (DUPLICATE)\n",
    "query = \"\"\" \n",
    "    MATCH (b:BREWERIES)\n",
    "    WHERE b.name = \"Emerald Hill Brewery (DUPLICATE)\"  // Emerald Hill Brewery (DUPLICATE)\n",
    "      AND b.types = \"Brewery\" \n",
    "      AND b.state = \"nan\"\n",
    "    RETURN b;\n",
    "\"\"\"\n",
    "result = execute_read(driver, query)\n",
    "pprint(result)"
   ]
  },
  {
   "cell_type": "markdown",
   "metadata": {},
   "source": [
    "> BEERS DUPLICATES, same approach"
   ]
  },
  {
   "cell_type": "code",
   "execution_count": 106,
   "metadata": {},
   "outputs": [
    {
     "name": "stdout",
     "output_type": "stream",
     "text": [
      "[]\n"
     ]
    }
   ],
   "source": [
    "# CREATE \n",
    "query = \"\"\" \n",
    "    CREATE INDEX beers_composite_index IF NOT EXISTS FOR (b:BEERS) ON (b.abv, b.name, b.state, b.availability, b.retired, b.brewery_id, b.notes);\n",
    "\"\"\"\n",
    "result = execute_write(driver, query)\n",
    "pprint(result)"
   ]
  },
  {
   "cell_type": "code",
   "execution_count": 107,
   "metadata": {},
   "outputs": [
    {
     "name": "stdout",
     "output_type": "stream",
     "text": [
      "[<Record name='beers_composite_index' properties=['abv', 'name', 'state', 'availability', 'retired', 'brewery_id', 'notes']>]\n"
     ]
    }
   ],
   "source": [
    "#READ\n",
    "query = \"\"\"\n",
    "    SHOW INDEXES YIELD name, properties WHERE name = \"beers_composite_index\";\n",
    "\"\"\"\n",
    "result = execute_read(driver, query)\n",
    "pprint(result)"
   ]
  },
  {
   "cell_type": "code",
   "execution_count": 108,
   "metadata": {},
   "outputs": [
    {
     "name": "stdout",
     "output_type": "stream",
     "text": [
      "[<Record name='Original' abv='5.0' state='nan' availability=' Rotating' retired='f' brewery_id='9055' notes='No notes at this time.' occurrences=3>,\n",
      " <Record name='02' abv='5.5' state='GB2' availability=' Rotating' retired='f' brewery_id='33192' notes='No notes at this time.' occurrences=3>,\n",
      " <Record name='Sequoia Stout' abv='17.0' state='CA' availability=' Limited (brewed once)' retired='f' brewery_id='42975' notes='No notes at this time.' occurrences=3>,\n",
      " <Record name='05' abv='6.5' state='GB2' availability='Rotating' retired='f' brewery_id='33192' notes='No notes at this time.' occurrences=3>,\n",
      " <Record name='05' abv='7.2' state='GB2' availability=' Rotating' retired='f' brewery_id='33192' notes='No notes at this time.' occurrences=3>,\n",
      " <Record name='01' abv='5.5' state='GB2' availability=' Limited (brewed once)' retired='f' brewery_id='33192' notes='No notes at this time.' occurrences=2>,\n",
      " <Record name='Stella Baltic Porter' abv='9.9' state='CO' availability=' Limited (brewed once)' retired='f' brewery_id='47072' notes='No notes at this time.' occurrences=2>,\n",
      " <Record name='Peach Ginger Berliner Weisse' abv='3.4' state='VA' availability=' Rotating' retired='f' brewery_id='26753' notes='No notes at this time.' occurrences=2>,\n",
      " <Record name='Roggenbier' abv='6.0' state='NY' availability=' Limited (brewed once)' retired='f' brewery_id='48051' notes='No notes at this time.' occurrences=2>,\n",
      " <Record name='Osceola Amber' abv='7.0' state='MN' availability=' Rotating' retired='f' brewery_id='51733' notes='No notes at this time.' occurrences=2>]\n"
     ]
    }
   ],
   "source": [
    "#READ\n",
    "query = \"\"\" \n",
    "    MATCH (b:BEERS)\n",
    "    WITH b.abv AS abv, b.name AS name, b.state AS state, \n",
    "        b.availability AS availability, b.retired AS retired, \n",
    "        b.brewery_id AS brewery_id, b.notes AS notes, \n",
    "        COUNT(*) AS occurrences\n",
    "    WHERE occurrences > 1\n",
    "    RETURN name, abv, state, availability, retired, brewery_id, notes, occurrences\n",
    "    ORDER BY occurrences DESC\n",
    "    LIMIT 10;\n",
    "\"\"\"\n",
    "result = execute_read(driver, query)\n",
    "pprint(result)"
   ]
  },
  {
   "cell_type": "code",
   "execution_count": 109,
   "metadata": {},
   "outputs": [
    {
     "name": "stdout",
     "output_type": "stream",
     "text": [
      "[<Record Merged_Beers=121>]\n"
     ]
    }
   ],
   "source": [
    "#DELETE\n",
    "query = \"\"\"\n",
    "    CALL {\n",
    "        MATCH (b:BEERS)\n",
    "        WHERE b.name IS NOT NULL\n",
    "        WITH b.abv AS abv, b.name AS name, b.state AS state, \n",
    "            b.availability AS availability, b.retired AS retired, \n",
    "            b.brewery_id AS brewery_id, COLLECT(b) AS beers\n",
    "        WHERE SIZE(beers) > 1\n",
    "        RETURN beers}\n",
    "\n",
    "    UNWIND beers AS beer\n",
    "    WITH beer, beers[0] AS main  // Main node to maintain\n",
    "    WHERE beer <> main\n",
    "\n",
    "    CALL apoc.refactor.mergeNodes(\n",
    "        [main, beer], \n",
    "        {properties: {abv: 'keep', name: 'keep', state: 'keep', \n",
    "                    availability: 'keep', retired: 'keep', \n",
    "                    brewery_id: 'keep', notes: 'keep'}, // we can use keep bc they are the same \n",
    "        mergeRels: true})\n",
    "    YIELD node\n",
    "\n",
    "    RETURN COUNT(node) AS Merged_Beers;\n",
    "\"\"\"\n",
    "result = execute_write(driver, query)\n",
    "pprint(result)"
   ]
  },
  {
   "cell_type": "markdown",
   "metadata": {},
   "source": [
    "#### 2.3. UPDATE: Relationship Directions\n",
    "\n",
    "For this part we were unable to change the relationships directions initially due to memory issues and computational power sooo, we found a solution using the apoc. that is another file we added in the pugins as we explain in the intro.\n",
    "\n",
    "Back to [Index](#index)"
   ]
  },
  {
   "cell_type": "markdown",
   "metadata": {},
   "source": [
    "✅ Change POSTED to (:USERS)-[:POSTED]->(:REVIEWS) - a user posts the review, not the other way around"
   ]
  },
  {
   "cell_type": "code",
   "execution_count": 110,
   "metadata": {},
   "outputs": [
    {
     "name": "stdout",
     "output_type": "stream",
     "text": [
      "[<Record batches=254 total=2538044 timeTaken=493 committedOperations=2538044 failedOperations=0 failedBatches=0 retries=0 errorMessages={} batch={'total': 254, 'committed': 254, 'failed': 0, 'errors': {}} operations={'total': 2538044, 'committed': 2538044, 'failed': 0, 'errors': {}} wasTerminated=False failedParams={} updateStatistics={'nodesDeleted': 0, 'labelsAdded': 0, 'relationshipsCreated': 2538044, 'nodesCreated': 0, 'propertiesSet': 0, 'relationshipsDeleted': 2538044, 'labelsRemoved': 0}>]\n"
     ]
    }
   ],
   "source": [
    "query = \"\"\" \n",
    "    CALL apoc.periodic.iterate(\n",
    "    \"MATCH (u:USER)<-[p:POSTED]-(r:REVIEWS) RETURN u, p, r\",\n",
    "    \"CREATE (u)-[new:POSTED]->(r) SET new += p DELETE p\",\n",
    "    {batchSize: 10000, parallel: false});\n",
    "\"\"\"\n",
    "result = execute_write(driver, query)\n",
    "pprint(result)"
   ]
  },
  {
   "cell_type": "markdown",
   "metadata": {},
   "source": [
    "✅ Change REVIEWED to (:REVIEWS)-[:REVIEWED]->(:BEERS) - a review reviews a beer, not the other way around (we need to make this with more than one batch number in other to cover all relations - 1st 10000, them 1000, then 100, then 10, then 1)"
   ]
  },
  {
   "cell_type": "code",
   "execution_count": 111,
   "metadata": {},
   "outputs": [
    {
     "name": "stdout",
     "output_type": "stream",
     "text": [
      "[<Record batches=2537991 total=2537991 timeTaken=2404 committedOperations=2537991 failedOperations=0 failedBatches=0 retries=0 errorMessages={} batch={'total': 2537991, 'committed': 2537991, 'failed': 0, 'errors': {}} operations={'total': 2537991, 'committed': 2537991, 'failed': 0, 'errors': {}} wasTerminated=False failedParams={} updateStatistics={'nodesDeleted': 0, 'labelsAdded': 0, 'relationshipsCreated': 2537991, 'nodesCreated': 0, 'propertiesSet': 0, 'relationshipsDeleted': 2537991, 'labelsRemoved': 0}>]\n"
     ]
    }
   ],
   "source": [
    "query = \"\"\" \n",
    "    CALL apoc.periodic.iterate(\n",
    "    \"MATCH (b:BEERS)-[rel:REVIEWED]->(r:REVIEWS) RETURN b, rel, r\",\n",
    "    \"CREATE (r)-[new:REVIEWED]->(b) SET new += rel DELETE rel\",\n",
    "    {batchSize: 1, parallel: false});\n",
    "\"\"\"\n",
    "result = execute_write(driver, query)\n",
    "pprint(result)"
   ]
  },
  {
   "cell_type": "code",
   "execution_count": 112,
   "metadata": {},
   "outputs": [
    {
     "name": "stdout",
     "output_type": "stream",
     "text": [
      "[<Record StartNode=['USER'] Relationship='POSTED' EndNode=['REVIEWS'] count=2538044>,\n",
      " <Record StartNode=['REVIEWS'] Relationship='REVIEWED' EndNode=['BEERS'] count=2537991>,\n",
      " <Record StartNode=['BEERS'] Relationship='HAS_STYLE' EndNode=['STYLE'] count=358768>,\n",
      " <Record StartNode=['BREWERIES'] Relationship='BREWED' EndNode=['BEERS'] count=358752>,\n",
      " <Record StartNode=['BREWERIES'] Relationship='IN' EndNode=['CITIES'] count=49992>,\n",
      " <Record StartNode=['CITIES'] Relationship='IN' EndNode=['COUNTRIES'] count=12077>]\n"
     ]
    }
   ],
   "source": [
    "query = \"\"\"\n",
    "    MATCH (a)-[r]->(b)\n",
    "    RETURN DISTINCT labels(a) AS StartNode, type(r) AS Relationship, labels(b) AS EndNode, COUNT(*) AS count\n",
    "    ORDER BY count DESC;\n",
    "\"\"\"\n",
    "result = execute_read(driver, query)\n",
    "pprint(result)"
   ]
  },
  {
   "cell_type": "markdown",
   "metadata": {},
   "source": [
    "#### 2.4. Remove Invalid Relationships (CITIES linked to CITIES)\n",
    "\n",
    "This part does not appear imediatly corrected in the graph, but when we restart the docker eventually appeared with the corrections."
   ]
  },
  {
   "cell_type": "code",
   "execution_count": 113,
   "metadata": {},
   "outputs": [
    {
     "name": "stdout",
     "output_type": "stream",
     "text": [
      "[]\n"
     ]
    }
   ],
   "source": [
    "query = \"\"\" \n",
    "    MATCH (a)-[r:IN]->(b)\n",
    "    WHERE NOT \n",
    "        ((a:BREWERIES AND b:CITIES) OR\n",
    "        (a:CITIES AND b:COUNTRIES))\n",
    "    DELETE r;\n",
    "    \"\"\"\n",
    "result = execute_write(driver, query)\n",
    "pprint(result)"
   ]
  },
  {
   "cell_type": "code",
   "execution_count": 114,
   "metadata": {},
   "outputs": [
    {
     "name": "stdout",
     "output_type": "stream",
     "text": [
      "[<Record labels(a)=['BREWERIES'] labels(b)=['CITIES'] COUNT(r)=49992>,\n",
      " <Record labels(a)=['CITIES'] labels(b)=['COUNTRIES'] COUNT(r)=12077>]\n"
     ]
    }
   ],
   "source": [
    "query = \"\"\" \n",
    "    MATCH (a)-[r:IN]->(b)\n",
    "    RETURN DISTINCT labels(a), labels(b), COUNT(r);\n",
    "    \"\"\"\n",
    "result = execute_read(driver, query)\n",
    "pprint(result)"
   ]
  },
  {
   "cell_type": "markdown",
   "metadata": {},
   "source": [
    "#### 2.5. Remove Redundant BREWERIES → COUNTRIES Relationships\n",
    "\n",
    "Since each BREWERIES is linked to a CITIES, we can infer COUNTRIES, making the direct link unnecessary (and we saw that they dont have connections)."
   ]
  },
  {
   "cell_type": "code",
   "execution_count": 115,
   "metadata": {},
   "outputs": [
    {
     "name": "stdout",
     "output_type": "stream",
     "text": [
      "[]\n"
     ]
    }
   ],
   "source": [
    "query = \"\"\" \n",
    "    MATCH (b:BREWERIES)-[i:IN]->(c:COUNTRIES)\n",
    "    DELETE i;\n",
    "    \"\"\"\n",
    "result = execute_write(driver, query)\n",
    "pprint(result)"
   ]
  },
  {
   "cell_type": "markdown",
   "metadata": {},
   "source": [
    "#### 2.6. Solve Label Naming Consistency Issues (this is mostly a display issue rather than a functional problem, but is a good pratice)\n",
    "\n",
    "Again, the old labels only disapear when we restarted the docker.\n",
    "\n",
    "Back to [Index](#index)"
   ]
  },
  {
   "cell_type": "code",
   "execution_count": 116,
   "metadata": {},
   "outputs": [
    {
     "name": "stdout",
     "output_type": "stream",
     "text": [
      "[<Record batches=1 total=113 timeTaken=0 committedOperations=113 failedOperations=0 failedBatches=0 retries=0 errorMessages={} batch={'total': 1, 'committed': 1, 'failed': 0, 'errors': {}} operations={'total': 113, 'committed': 113, 'failed': 0, 'errors': {}} constraints=[] indexes=[]>]\n"
     ]
    }
   ],
   "source": [
    "query = \"\"\"CALL apoc.refactor.rename.label(\"STYLE\", \"STYLES\");\"\"\"\n",
    "result = execute_write(driver, query)\n",
    "pprint(result)"
   ]
  },
  {
   "cell_type": "code",
   "execution_count": 117,
   "metadata": {},
   "outputs": [
    {
     "name": "stdout",
     "output_type": "stream",
     "text": [
      "[<Record batches=2 total=106645 timeTaken=0 committedOperations=106645 failedOperations=0 failedBatches=0 retries=0 errorMessages={} batch={'total': 2, 'committed': 2, 'failed': 0, 'errors': {}} operations={'total': 106645, 'committed': 106645, 'failed': 0, 'errors': {}} constraints=[] indexes=[]>]\n"
     ]
    }
   ],
   "source": [
    "query = \"\"\"CALL apoc.refactor.rename.label(\"USER\", \"USERS\");\"\"\"\n",
    "result = execute_write(driver, query)\n",
    "pprint(result)"
   ]
  },
  {
   "cell_type": "code",
   "execution_count": 118,
   "metadata": {},
   "outputs": [
    {
     "name": "stdout",
     "output_type": "stream",
     "text": [
      "[]\n"
     ]
    }
   ],
   "source": [
    "query = \"\"\"\n",
    "    MATCH (n:STYLE)\n",
    "    REMOVE n:STYLE;\n",
    "\"\"\"\n",
    "result = execute_write(driver, query)\n",
    "pprint(result)"
   ]
  },
  {
   "cell_type": "code",
   "execution_count": 119,
   "metadata": {},
   "outputs": [
    {
     "name": "stdout",
     "output_type": "stream",
     "text": [
      "[]\n"
     ]
    }
   ],
   "source": [
    "query = \"\"\"\n",
    "    MATCH (n:USER)\n",
    "    REMOVE n:USER;\n",
    "\"\"\"\n",
    "result = execute_write(driver, query)\n",
    "pprint(result)"
   ]
  },
  {
   "cell_type": "code",
   "execution_count": 120,
   "metadata": {},
   "outputs": [
    {
     "name": "stdout",
     "output_type": "stream",
     "text": [
      "[<Record Label=['REVIEWS'] Count=2538044>,\n",
      " <Record Label=['BEERS'] Count=358752>,\n",
      " <Record Label=['USERS'] Count=106645>,\n",
      " <Record Label=['BREWERIES'] Count=47414>,\n",
      " <Record Label=['CITIES'] Count=11665>,\n",
      " <Record Label=['COUNTRIES'] Count=200>,\n",
      " <Record Label=['STYLES'] Count=113>]\n"
     ]
    }
   ],
   "source": [
    "query = \"\"\"\n",
    "    MATCH (n)\n",
    "    RETURN labels(n) AS Label, COUNT(*) AS Count\n",
    "    ORDER BY Count DESC;\n",
    "\"\"\"\n",
    "result = execute_read(driver, query)\n",
    "pprint(result)"
   ]
  },
  {
   "cell_type": "markdown",
   "metadata": {},
   "source": [
    "![Corrected Database Schema Visualization](https://raw.githubusercontent.com/CatarinaGN/Big-Data-Modelling-and-Management/e09c6c029b94fb7b5a4024d01315253f48cc3609/corrected%20schema.png)\n",
    "\n",
    "This is from the http://localhost:7474/browser/ suing CALL apoc.meta.graph();\n"
   ]
  },
  {
   "cell_type": "markdown",
   "metadata": {},
   "source": [
    "### <div class=\"alert-warning\" style=\"background-color: #FFF9C4; color: black; padding: 10px;\"> <a id=\"analytics-department\"></a>3. Analytics Department Biweekly Reporting Requirements </div>\n",
    "\n",
    "Back to [Index](#index)"
   ]
  },
  {
   "cell_type": "markdown",
   "metadata": {},
   "source": [
    "#### <a id=\"beer-with-most-reviews\"></a>3.1. How many reviews does the beer with the most reviews have?"
   ]
  },
  {
   "cell_type": "code",
   "execution_count": 121,
   "metadata": {},
   "outputs": [
    {
     "name": "stdout",
     "output_type": "stream",
     "text": [
      "[<Record Beer='IPA' review_count=8771>]\n"
     ]
    }
   ],
   "source": [
    "query_q1 = \"\"\"\n",
    "        MATCH (re:REVIEWS)-[r:REVIEWED]->(be:BEERS)\n",
    "        RETURN be.name AS Beer, count(r) AS review_count\n",
    "        ORDER BY review_count DESC\n",
    "        LIMIT 1\n",
    "    \"\"\"\n",
    "\n",
    "result = execute_read(driver, query_q1)\n",
    "pprint(result)"
   ]
  },
  {
   "cell_type": "markdown",
   "metadata": {},
   "source": [
    "#### <a id=\"three-users-most-reviews\"></a>3.2. Which three users wrote the most reviews about beers?"
   ]
  },
  {
   "cell_type": "code",
   "execution_count": 122,
   "metadata": {},
   "outputs": [
    {
     "name": "stdout",
     "output_type": "stream",
     "text": [
      "[<Record User='Sammy' review_count=3756>,\n",
      " <Record User='acurtis' review_count=3403>,\n",
      " <Record User='kylehay2004' review_count=3368>]\n"
     ]
    }
   ],
   "source": [
    "query_q2 = \"\"\"\n",
    "    MATCH (u:USERS)-[:POSTED]->(r:REVIEWS)\n",
    "    RETURN u.name AS User, COUNT(r) AS review_count\n",
    "    ORDER BY review_count DESC\n",
    "    LIMIT 3;\n",
    "\"\"\"\n",
    "result = execute_read(driver, query_q2)\n",
    "pprint(result)"
   ]
  },
  {
   "cell_type": "markdown",
   "metadata": {},
   "source": [
    "#### <a id=\"beers-with-descriptions\"></a>3.3. Find all beers that are described with the following words: 'fruit', 'complex', 'nutty', 'dark'."
   ]
  },
  {
   "cell_type": "markdown",
   "metadata": {},
   "source": [
    "In this question we consider all the beers that have all four words appear in the same review - all words are expected to be used together! \"the review must contain 'fruit' AND 'complex' AND 'nutty' AND 'dark'.\""
   ]
  },
  {
   "cell_type": "code",
   "execution_count": 123,
   "metadata": {},
   "outputs": [
    {
     "name": "stdout",
     "output_type": "stream",
     "text": [
      "[<Record Beer='Trappist Westvleteren 12 (XII)' matching_reviews=8>,\n",
      " <Record Beer='Palo Santo Marron' matching_reviews=8>,\n",
      " <Record Beer='Nut Brown Ale' matching_reviews=6>,\n",
      " <Record Beer='Trappistes Rochefort 10' matching_reviews=6>,\n",
      " <Record Beer='Trappistes Rochefort 8' matching_reviews=6>,\n",
      " <Record Beer='Abt 12' matching_reviews=6>,\n",
      " <Record Beer='Trappistes Rochefort 6' matching_reviews=5>,\n",
      " <Record Beer='Abbey Ale' matching_reviews=4>,\n",
      " <Record Beer='Celebrator' matching_reviews=4>,\n",
      " <Record Beer='Old Rasputin' matching_reviews=4>,\n",
      " <Record Beer=\"Fuller's 1845\" matching_reviews=4>,\n",
      " <Record Beer='Wee Heavy' matching_reviews=4>,\n",
      " <Record Beer='Indian Brown Ale' matching_reviews=4>,\n",
      " <Record Beer='Porter' matching_reviews=4>,\n",
      " <Record Beer='Third Coast Old Ale' matching_reviews=4>,\n",
      " <Record Beer='Arrogant Bastard Ale' matching_reviews=3>,\n",
      " <Record Beer='Spaten Optimator' matching_reviews=3>,\n",
      " <Record Beer='Schneider Weisse Tap 6 Unser Aventinus' matching_reviews=3>,\n",
      " <Record Beer='Guinness Foreign Extra Stout' matching_reviews=3>,\n",
      " <Record Beer='Weihenstephaner Korbinian' matching_reviews=3>,\n",
      " <Record Beer='Trappist Westvleteren 8 (VIII)' matching_reviews=3>,\n",
      " <Record Beer='Odyssey' matching_reviews=3>,\n",
      " <Record Beer='Prior 8' matching_reviews=3>,\n",
      " <Record Beer='Chimay Grande Réserve (Blue)' matching_reviews=3>,\n",
      " <Record Beer='Three Philosophers' matching_reviews=3>,\n",
      " <Record Beer='Weltenburger Kloster Asam-Bock' matching_reviews=3>,\n",
      " <Record Beer='Brother Thelonious' matching_reviews=3>,\n",
      " <Record Beer='Père Jacques' matching_reviews=3>,\n",
      " <Record Beer='Imperial Stout' matching_reviews=3>,\n",
      " <Record Beer='Baltic Porter' matching_reviews=3>,\n",
      " <Record Beer='Drew Curtis / Wil Wheaton / Greg Koch - Stone Farking Wheaton w00tstout' matching_reviews=3>,\n",
      " <Record Beer='Dubbel Ale' matching_reviews=2>,\n",
      " <Record Beer='Maudite' matching_reviews=2>,\n",
      " <Record Beer='Anchor Porter' matching_reviews=2>,\n",
      " <Record Beer='Corsendonk Christmas Ale' matching_reviews=2>,\n",
      " <Record Beer='Gulden Draak' matching_reviews=2>,\n",
      " <Record Beer='Black Butte Porter' matching_reviews=2>,\n",
      " <Record Beer='The Beast Grand Cru' matching_reviews=2>,\n",
      " <Record Beer='Skull Splitter' matching_reviews=2>,\n",
      " <Record Beer='Stone / The Alchemist / Ninkasi - More Brown Than Black IPA' matching_reviews=2>,\n",
      " <Record Beer='Brooklyn Black Chocolate Stout' matching_reviews=2>,\n",
      " <Record Beer='Sierra Nevada / Dogfish Head - Life & Limb' matching_reviews=2>,\n",
      " <Record Beer='The Czar' matching_reviews=2>,\n",
      " <Record Beer='Tørst Back Room' matching_reviews=2>,\n",
      " <Record Beer='Old Peculier' matching_reviews=2>,\n",
      " <Record Beer='Abbey Dubbel' matching_reviews=2>,\n",
      " <Record Beer='Speedway Stout' matching_reviews=2>,\n",
      " <Record Beer='Nostradamus' matching_reviews=2>,\n",
      " <Record Beer='Kalamazoo Stout' matching_reviews=2>,\n",
      " <Record Beer='Reunion: A Beer For Hope 2011' matching_reviews=2>,\n",
      " <Record Beer='Redwood Stout' matching_reviews=2>,\n",
      " <Record Beer='Hibernation Ale' matching_reviews=2>,\n",
      " <Record Beer='Old Stock Ale' matching_reviews=2>,\n",
      " <Record Beer='Moinette Brune' matching_reviews=2>,\n",
      " <Record Beer='Duchesse De Bourgogne' matching_reviews=2>,\n",
      " <Record Beer='2 Turtle Doves - Barrel-Aged' matching_reviews=2>,\n",
      " <Record Beer='Lovely Saint Winefride' matching_reviews=2>,\n",
      " <Record Beer='Trappist Achel 8° Bruin' matching_reviews=2>,\n",
      " <Record Beer=\"N'Ice Chouffe\" matching_reviews=2>,\n",
      " <Record Beer='St. Amatus 12' matching_reviews=2>,\n",
      " <Record Beer='World Wide Stout' matching_reviews=2>,\n",
      " <Record Beer='La Terrible' matching_reviews=2>,\n",
      " <Record Beer='Black Butte XXIV' matching_reviews=2>,\n",
      " <Record Beer='2 Turtle Doves' matching_reviews=2>,\n",
      " <Record Beer='OAKED Arrogant Bastard Ale' matching_reviews=2>,\n",
      " <Record Beer='Old Chub - Scottish Style Ale' matching_reviews=2>,\n",
      " <Record Beer=\"Red's Rye IPA\" matching_reviews=2>,\n",
      " <Record Beer='Bock' matching_reviews=2>,\n",
      " <Record Beer='De Dolle Extra Export Stout' matching_reviews=2>,\n",
      " <Record Beer='Peg Leg Imperial Stout' matching_reviews=2>,\n",
      " <Record Beer='Hel & Verdoemenis Misto B.A.' matching_reviews=2>,\n",
      " <Record Beer='§ucaba' matching_reviews=2>,\n",
      " <Record Beer='Our Finest Regards' matching_reviews=2>,\n",
      " <Record Beer='Drew Curtis / Wil Wheaton / Greg Koch Stone Farking Wheaton w00tstout (201' matching_reviews=2>,\n",
      " <Record Beer='Pannepot Reserva' matching_reviews=2>,\n",
      " <Record Beer='Tsarina Esra' matching_reviews=2>,\n",
      " <Record Beer='NetherWorld Cascadian Dark Ale' matching_reviews=2>,\n",
      " <Record Beer='Decadence 2010 English-Style Old Ale' matching_reviews=2>,\n",
      " <Record Beer='Hotbox Coffee Porter' matching_reviews=2>,\n",
      " <Record Beer='Old Growler' matching_reviews=1>,\n",
      " <Record Beer='Cuivre' matching_reviews=1>,\n",
      " <Record Beer=\"'t Smisje Kuvee Elektrik 979W\" matching_reviews=1>,\n",
      " <Record Beer='Super Stout Coffee Stout' matching_reviews=1>,\n",
      " <Record Beer='Unplugged Old English Porter' matching_reviews=1>,\n",
      " <Record Beer='Baird Angry Boy Brown Ale' matching_reviews=1>,\n",
      " <Record Beer='Belhaven 90/~ Wee Heavy' matching_reviews=1>,\n",
      " <Record Beer='Muskoka Winter Weiss' matching_reviews=1>,\n",
      " <Record Beer='Plead The 5th Imperial Stout' matching_reviews=1>,\n",
      " <Record Beer='First Frost' matching_reviews=1>,\n",
      " <Record Beer='Trois Pistoles' matching_reviews=1>,\n",
      " <Record Beer='Traquair House Ale' matching_reviews=1>,\n",
      " <Record Beer='Tremont Porter' matching_reviews=1>,\n",
      " <Record Beer='Redhook Nut Brown' matching_reviews=1>,\n",
      " <Record Beer='Black Walnut Dunkel' matching_reviews=1>,\n",
      " <Record Beer='Baltika #9 Extra (Strong)' matching_reviews=1>,\n",
      " <Record Beer='Ola Dubh Special Reserve 18' matching_reviews=1>,\n",
      " <Record Beer='Ayinger Altbairisch Dunkel' matching_reviews=1>,\n",
      " <Record Beer='Old Knucklehead Barleywine' matching_reviews=1>,\n",
      " <Record Beer=\"Fireman's Brew Brunette Beer\" matching_reviews=1>,\n",
      " <Record Beer='Sierra Nevada Brown Saison' matching_reviews=1>,\n",
      " <Record Beer='Blue Moon Winter Abbey Ale' matching_reviews=1>,\n",
      " <Record Beer='Batch 10,000' matching_reviews=1>,\n",
      " <Record Beer='Ola Dubh Special Reserve 30' matching_reviews=1>,\n",
      " <Record Beer='Road Dog Porter' matching_reviews=1>,\n",
      " <Record Beer='Full Sail Wassail' matching_reviews=1>,\n",
      " <Record Beer='Dunkel' matching_reviews=1>,\n",
      " <Record Beer='Bacchus' matching_reviews=1>,\n",
      " <Record Beer='Autumn Ale' matching_reviews=1>,\n",
      " <Record Beer='Private Stock Imperial Black Steam' matching_reviews=1>,\n",
      " <Record Beer='Jubelale' matching_reviews=1>,\n",
      " <Record Beer=\"Fuller's London Porter\" matching_reviews=1>,\n",
      " <Record Beer='Hobgoblin' matching_reviews=1>,\n",
      " <Record Beer='Alba Scots Pine Ale' matching_reviews=1>,\n",
      " <Record Beer='Samuel Adams Utopias' matching_reviews=1>,\n",
      " <Record Beer='Mission St. Anniversary Ale 2014' matching_reviews=1>,\n",
      " <Record Beer='Double Dead Guy Ale' matching_reviews=1>,\n",
      " <Record Beer='Chocolate Ale' matching_reviews=1>,\n",
      " <Record Beer='Anniversary Barley Wine Ale' matching_reviews=1>,\n",
      " <Record Beer='Lahaina Town Brown' matching_reviews=1>,\n",
      " <Record Beer='Freshly Überhopped (During Our Boil)' matching_reviews=1>,\n",
      " <Record Beer='84/09 Double Alt (25th Anniversary Beer)' matching_reviews=1>,\n",
      " <Record Beer='Central Waters / Local Option - De Kleine Dood' matching_reviews=1>,\n",
      " <Record Beer='Dusty Road ESB' matching_reviews=1>,\n",
      " <Record Beer='Black Cat' matching_reviews=1>,\n",
      " <Record Beer='Portsmouth Double Oaked Kate The Great' matching_reviews=1>,\n",
      " <Record Beer='Raven Cream Ale' matching_reviews=1>,\n",
      " <Record Beer='Dead Guy Ale' matching_reviews=1>,\n",
      " <Record Beer='Dark Island' matching_reviews=1>,\n",
      " <Record Beer='Just Outstanding IPA' matching_reviews=1>,\n",
      " <Record Beer='Cubano-Style Espresso Brown Ale' matching_reviews=1>,\n",
      " <Record Beer=\"Bannatyne's Scotch Ale\" matching_reviews=1>,\n",
      " <Record Beer='Barberousse' matching_reviews=1>,\n",
      " <Record Beer='Leviathan - Baltic Porter' matching_reviews=1>,\n",
      " <Record Beer='Regular Coffee' matching_reviews=1>,\n",
      " <Record Beer='Perky Porter' matching_reviews=1>,\n",
      " <Record Beer='Oatmeal Stout' matching_reviews=1>,\n",
      " <Record Beer='Son Of A Baptist' matching_reviews=1>,\n",
      " <Record Beer='Naglfare Nut Brown Ale' matching_reviews=1>,\n",
      " <Record Beer='Moord & Doodslag - Disputin' matching_reviews=1>,\n",
      " <Record Beer='Matacabras' matching_reviews=1>,\n",
      " <Record Beer='Hodad Porter' matching_reviews=1>,\n",
      " <Record Beer=\"He'Brew Jewbelation 11\" matching_reviews=1>,\n",
      " <Record Beer='Out Of Bounds Stout' matching_reviews=1>,\n",
      " <Record Beer='Fat Tire Belgian Style Ale' matching_reviews=1>,\n",
      " <Record Beer='Julius Echter Hefe-Weissbier Dunkel' matching_reviews=1>,\n",
      " <Record Beer='Robust Porter' matching_reviews=1>,\n",
      " <Record Beer='Old Speckled Hen' matching_reviews=1>,\n",
      " <Record Beer='Bourbon Barrel-Aged Barley Wine' matching_reviews=1>,\n",
      " <Record Beer='Alaskan ESB' matching_reviews=1>,\n",
      " <Record Beer='Special Holiday Ale' matching_reviews=1>,\n",
      " <Record Beer=\"He'Brew Jewbelation Vertical (Rye Whiskey Barrel Aged Blend)\" matching_reviews=1>,\n",
      " <Record Beer=\"Marshal Zhukov's Imperial Stout\" matching_reviews=1>,\n",
      " <Record Beer=\"Dopp It Like It's Bock\" matching_reviews=1>,\n",
      " <Record Beer='Newcastle Brown Ale' matching_reviews=1>,\n",
      " <Record Beer='La Trappe Tripel (Koningshoeven / Dominus)' matching_reviews=1>,\n",
      " <Record Beer='Chimay Première (Red)' matching_reviews=1>,\n",
      " <Record Beer='Tocaloma Amber Ale' matching_reviews=1>,\n",
      " <Record Beer=\"Young's Old Nick Barley Wine Ale\" matching_reviews=1>,\n",
      " <Record Beer='Thomas Hooker Liberator Doppelbock' matching_reviews=1>,\n",
      " <Record Beer='Vesterbro Brown Ale' matching_reviews=1>,\n",
      " <Record Beer='Scaldis Prestige De Nuits' matching_reviews=1>,\n",
      " <Record Beer='Bourbon County Brand Barleywine Ale' matching_reviews=1>,\n",
      " <Record Beer='California Amber' matching_reviews=1>,\n",
      " <Record Beer='Don De Dieu' matching_reviews=1>,\n",
      " <Record Beer=\"St. Peter's Winter Ale\" matching_reviews=1>,\n",
      " <Record Beer='Avery Anniversary Ale - Twenty One' matching_reviews=1>,\n",
      " <Record Beer='Jahva (Imperial Coffee Stout)' matching_reviews=1>,\n",
      " <Record Beer='Goudenband' matching_reviews=1>,\n",
      " <Record Beer='Stochasticity Project: HiFi+LoFi Mixtape' matching_reviews=1>,\n",
      " <Record Beer='The Lairds Liquor' matching_reviews=1>,\n",
      " <Record Beer=\"Stoudt's Barrel Aged Old Abominable\" matching_reviews=1>,\n",
      " <Record Beer='Weihenstephaner Hefeweissbier Dunkel' matching_reviews=1>,\n",
      " <Record Beer='De Dolle Oerbier' matching_reviews=1>,\n",
      " <Record Beer='Censored' matching_reviews=1>,\n",
      " <Record Beer='Samuel Adams Scotch Ale' matching_reviews=1>,\n",
      " <Record Beer='Birra Moretti La Rossa' matching_reviews=1>,\n",
      " <Record Beer='Kujo Imperial Coffee Stout' matching_reviews=1>,\n",
      " <Record Beer='Monster Ale' matching_reviews=1>,\n",
      " <Record Beer='Smoked Porter - Vanilla Bean' matching_reviews=1>,\n",
      " <Record Beer='Wilco Tango Foxtrot' matching_reviews=1>,\n",
      " <Record Beer='The Strong Man' matching_reviews=1>,\n",
      " <Record Beer='Adam' matching_reviews=1>,\n",
      " <Record Beer='Old Man (Winter Ale)' matching_reviews=1>,\n",
      " <Record Beer='Saranac Imperial Stout' matching_reviews=1>,\n",
      " <Record Beer='Prairie No Chill' matching_reviews=1>,\n",
      " <Record Beer='Golden Monkey' matching_reviews=1>,\n",
      " <Record Beer='Storm King Stout' matching_reviews=1>,\n",
      " <Record Beer='Super' matching_reviews=1>,\n",
      " <Record Beer='Speciale Reserve' matching_reviews=1>,\n",
      " <Record Beer='Winter Stout' matching_reviews=1>,\n",
      " <Record Beer='Michigan Hatter' matching_reviews=1>,\n",
      " <Record Beer='Oer Faute' matching_reviews=1>,\n",
      " <Record Beer='Old Heathen Imperial Stout' matching_reviews=1>,\n",
      " <Record Beer='Chicory Stout' matching_reviews=1>,\n",
      " <Record Beer=\"Raison D'Être\" matching_reviews=1>,\n",
      " <Record Beer='EKU 28' matching_reviews=1>,\n",
      " <Record Beer='Naval College Old Porter' matching_reviews=1>,\n",
      " <Record Beer='Jupiter (The Bringer Of Jollity)' matching_reviews=1>,\n",
      " <Record Beer='Yorkshire Stingo' matching_reviews=1>,\n",
      " <Record Beer='Iniquity (Imperial Black Ale)' matching_reviews=1>,\n",
      " <Record Beer='Matt' matching_reviews=1>,\n",
      " <Record Beer='Double Barrel Big Bad Baptist' matching_reviews=1>,\n",
      " <Record Beer='Mt. Nittany Pale Ale' matching_reviews=1>,\n",
      " <Record Beer='Bourbon Barrel Quad Barrel-Aged Ale (BBQ)' matching_reviews=1>,\n",
      " <Record Beer='Stochasticity Project: Grainiac' matching_reviews=1>,\n",
      " <Record Beer='Nebula Nut Brown Ale' matching_reviews=1>,\n",
      " <Record Beer='Struis' matching_reviews=1>,\n",
      " <Record Beer='Sinebrychoff Porter' matching_reviews=1>,\n",
      " <Record Beer='Delirium Nocturnum' matching_reviews=1>,\n",
      " <Record Beer='Embrasse' matching_reviews=1>,\n",
      " <Record Beer='India Pale Ale' matching_reviews=1>,\n",
      " <Record Beer='Hog Heaven: Imperial Red IPA' matching_reviews=1>,\n",
      " <Record Beer=\"Brekle's Brown\" matching_reviews=1>,\n",
      " <Record Beer='XS McRogue Scotch Ale' matching_reviews=1>,\n",
      " <Record Beer='McChouffe' matching_reviews=1>,\n",
      " <Record Beer='Plum Noir' matching_reviews=1>,\n",
      " <Record Beer='Riptide' matching_reviews=1>,\n",
      " <Record Beer='Pious Monk Dunkel' matching_reviews=1>,\n",
      " <Record Beer='St. Rogue Red' matching_reviews=1>,\n",
      " <Record Beer='Quad' matching_reviews=1>,\n",
      " <Record Beer=\"Brewer's Reserve Peruvian Morning\" matching_reviews=1>,\n",
      " <Record Beer='Unibroue 17 Grande Réserve' matching_reviews=1>,\n",
      " <Record Beer='Leroy Paulus' matching_reviews=1>,\n",
      " <Record Beer='Hercule Stout' matching_reviews=1>,\n",
      " <Record Beer=\"T'Owd Tup\" matching_reviews=1>,\n",
      " <Record Beer='Moonraker Ale' matching_reviews=1>,\n",
      " <Record Beer='Kasteel Blond' matching_reviews=1>,\n",
      " <Record Beer='Abbaye Des Rocs Grand Cru Belgian Special Brown' matching_reviews=1>,\n",
      " <Record Beer='Corne Du Diable' matching_reviews=1>,\n",
      " <Record Beer='35K' matching_reviews=1>,\n",
      " <Record Beer='Alaskan Smoked Porter' matching_reviews=1>,\n",
      " <Record Beer='Schwarzbier' matching_reviews=1>,\n",
      " <Record Beer='Hofbräu Dunkel' matching_reviews=1>,\n",
      " <Record Beer=\"Stoudt's Anniversary Beer\" matching_reviews=1>,\n",
      " <Record Beer='Victory At Sea Imperial Porter with Coffee & Vanilla' matching_reviews=1>,\n",
      " <Record Beer='Summit Belgian Style Abbey Ale' matching_reviews=1>,\n",
      " <Record Beer='Royal Extra Stout' matching_reviews=1>,\n",
      " <Record Beer='1554 Black Lager' matching_reviews=1>,\n",
      " <Record Beer='Extremely Angry Beast' matching_reviews=1>,\n",
      " <Record Beer='Appenzeller Holzfass Bier' matching_reviews=1>,\n",
      " <Record Beer='Schneider Aventinus Weizen-Eisbock' matching_reviews=1>,\n",
      " <Record Beer='Heavy Handed IPA' matching_reviews=1>,\n",
      " <Record Beer='Breakfast Beast' matching_reviews=1>,\n",
      " <Record Beer='Gonzo Imperial Porter' matching_reviews=1>,\n",
      " <Record Beer=\"Saranac Season's Best - Nut Brown Lager\" matching_reviews=1>,\n",
      " <Record Beer='Dragonstooth Oatmeal Stout' matching_reviews=1>,\n",
      " <Record Beer='XS Imperial Porter' matching_reviews=1>,\n",
      " <Record Beer=\"O'Reilly's Irish Stout\" matching_reviews=1>,\n",
      " <Record Beer=\"Arthur's Nut Brown Ale\" matching_reviews=1>,\n",
      " <Record Beer='Progenitor NOIR' matching_reviews=1>,\n",
      " <Record Beer='Brick Anniversary Bock' matching_reviews=1>,\n",
      " <Record Beer='Brasserie Des Rocs Triple Impériale' matching_reviews=1>,\n",
      " <Record Beer='Bender' matching_reviews=1>,\n",
      " <Record Beer='Evil Twin / Lervig - Big Ass Money Stout 2' matching_reviews=1>,\n",
      " <Record Beer='Gahan House Iron Bridge Brown Ale' matching_reviews=1>,\n",
      " <Record Beer='Twelve/163' matching_reviews=1>,\n",
      " <Record Beer='Old Tom' matching_reviews=1>,\n",
      " <Record Beer='Firestone 14 - Anniversary Ale' matching_reviews=1>,\n",
      " <Record Beer='Highland Imperial Gaelic Ale' matching_reviews=1>,\n",
      " <Record Beer='Falken Schwarzbier' matching_reviews=1>,\n",
      " <Record Beer='Stonecutter' matching_reviews=1>,\n",
      " <Record Beer='Schlafly Irish-Style Extra Stout' matching_reviews=1>,\n",
      " <Record Beer='Mikkeller / Three Floyds - Boogoop' matching_reviews=1>,\n",
      " <Record Beer='Dunkelweiss' matching_reviews=1>,\n",
      " <Record Beer='Lovely, Dark And Deep' matching_reviews=1>,\n",
      " <Record Beer='Ringwood XXXX Porter Winter Ale' matching_reviews=1>,\n",
      " <Record Beer='Hercules Double IPA' matching_reviews=1>,\n",
      " <Record Beer='Franklinstein Barleywine' matching_reviews=1>,\n",
      " <Record Beer='Samuel Adams Nitro Coffee Stout' matching_reviews=1>,\n",
      " <Record Beer='Imperial Biscotti Break Natale - Pretty Please With A Cherry On Top' matching_reviews=1>,\n",
      " <Record Beer=\"BJ's PM Porter\" matching_reviews=1>,\n",
      " <Record Beer='Backwoods Bastard' matching_reviews=1>,\n",
      " <Record Beer='Liberation Ale' matching_reviews=1>,\n",
      " <Record Beer='New Holland Red Tulip Ale' matching_reviews=1>,\n",
      " <Record Beer='Londinium' matching_reviews=1>,\n",
      " <Record Beer=\"Washington's Porter\" matching_reviews=1>,\n",
      " <Record Beer='Avery Anniversary Ale - Fourteen' matching_reviews=1>,\n",
      " <Record Beer='XX Bitch Creek' matching_reviews=1>,\n",
      " <Record Beer='Parabola' matching_reviews=1>,\n",
      " <Record Beer=\"Bifurcation Project: Double Chocolate Habenero St. Benedict's\" matching_reviews=1>,\n",
      " <Record Beer='Special Forces American IPA' matching_reviews=1>,\n",
      " <Record Beer='Really Old Brown Dog Ale' matching_reviews=1>,\n",
      " <Record Beer='New World Porter' matching_reviews=1>,\n",
      " <Record Beer='Hambleton Black Lightning' matching_reviews=1>,\n",
      " <Record Beer='Southampton Imperial Baltic Porter' matching_reviews=1>,\n",
      " <Record Beer=\"The Angel's Share - Bourbon Barrel-Aged\" matching_reviews=1>,\n",
      " <Record Beer='Belgian Style Dubbel' matching_reviews=1>,\n",
      " <Record Beer='KBS (Kentucky Breakfast Stout)' matching_reviews=1>,\n",
      " <Record Beer='Wooden Hell' matching_reviews=1>,\n",
      " <Record Beer='Sherry Barrel Oil Of Aphrodite' matching_reviews=1>,\n",
      " <Record Beer='Night Tripper' matching_reviews=1>,\n",
      " <Record Beer='Winter Ale' matching_reviews=1>,\n",
      " <Record Beer='River Guide' matching_reviews=1>,\n",
      " <Record Beer='Maredsous 8 - Brune' matching_reviews=1>,\n",
      " <Record Beer='Dark Lord Imperial Stout' matching_reviews=1>,\n",
      " <Record Beer='Bigfoot Barleywine-Style Ale' matching_reviews=1>,\n",
      " <Record Beer='Hardcore IPA' matching_reviews=1>,\n",
      " <Record Beer='Sick Day' matching_reviews=1>,\n",
      " <Record Beer='Warmer Winter Winter Warmer' matching_reviews=1>,\n",
      " <Record Beer='Mooi & Meedogenloos' matching_reviews=1>,\n",
      " <Record Beer='Augustiner Bräu Maximator' matching_reviews=1>,\n",
      " <Record Beer='Northwind' matching_reviews=1>,\n",
      " <Record Beer=\"Lucifer's Angel\" matching_reviews=1>,\n",
      " <Record Beer='Collaboration No. 3 - Stingo' matching_reviews=1>,\n",
      " <Record Beer='Slam Dunkel' matching_reviews=1>,\n",
      " <Record Beer='Émile' matching_reviews=1>,\n",
      " <Record Beer=\"Hawai'i Nui Hapa Brown Ale\" matching_reviews=1>,\n",
      " <Record Beer='Arctic Devil Barley Wine' matching_reviews=1>,\n",
      " <Record Beer='Snowshoe Red Ale' matching_reviews=1>,\n",
      " <Record Beer='Old Jubilation' matching_reviews=1>,\n",
      " <Record Beer='Cadillac Mountain Stout' matching_reviews=1>,\n",
      " <Record Beer='Maduro Oatmeal Brown Ale - Vanilla' matching_reviews=1>,\n",
      " <Record Beer='Baltus O.V.S. Ale' matching_reviews=1>,\n",
      " <Record Beer='High West-ified Imperial Coffee Stout' matching_reviews=1>,\n",
      " <Record Beer='Brown Fox Session Ale' matching_reviews=1>,\n",
      " <Record Beer=\"Ryan Sullivan's Imperial Stout\" matching_reviews=1>,\n",
      " <Record Beer=\"He'Brew Jewbelation 12\" matching_reviews=1>,\n",
      " <Record Beer='ApriHop' matching_reviews=1>,\n",
      " <Record Beer='Kilt Lifter Scotch Ale' matching_reviews=1>,\n",
      " <Record Beer='Centurion Barleywine Ale' matching_reviews=1>,\n",
      " <Record Beer='Shantytown Doppelbock' matching_reviews=1>,\n",
      " <Record Beer='Troegenator' matching_reviews=1>,\n",
      " <Record Beer='Rockpile' matching_reviews=1>,\n",
      " <Record Beer=\"30th Anniversary - Fritz And Ken's Ale\" matching_reviews=1>,\n",
      " <Record Beer='Wulver' matching_reviews=1>,\n",
      " <Record Beer=\"Barrel Aged Breakfast At Chico's\" matching_reviews=1>,\n",
      " <Record Beer='Wake Up Dead - Nitro' matching_reviews=1>,\n",
      " <Record Beer='Brooklyn Winter Ale' matching_reviews=1>,\n",
      " <Record Beer='Fumapapa' matching_reviews=1>,\n",
      " <Record Beer='Weltenburger Kloster Barock Dunkel' matching_reviews=1>,\n",
      " <Record Beer='Not The Stoic' matching_reviews=1>,\n",
      " <Record Beer='Michael' matching_reviews=1>,\n",
      " <Record Beer='A Night To End All Dawns' matching_reviews=1>,\n",
      " <Record Beer='Uerige Altbier' matching_reviews=1>,\n",
      " <Record Beer='J.W. Lees Harvest Ale (Sherry Cask)' matching_reviews=1>,\n",
      " <Record Beer='Spaghetti Western - Grappa Barrel-Aged' matching_reviews=1>,\n",
      " <Record Beer='Samichlaus Schwarzes' matching_reviews=1>,\n",
      " <Record Beer='Sublimely Self-Righteous Black IPA' matching_reviews=1>,\n",
      " <Record Beer='Cuvée Van De Keizer Blauw (Blue)' matching_reviews=1>,\n",
      " <Record Beer='Genealogy Of Morals (Bourbon Barrel Aged)' matching_reviews=1>,\n",
      " <Record Beer='Bourbon County Brand Coffee Stout' matching_reviews=1>,\n",
      " <Record Beer='Hitachino Nest Extra High (XH)' matching_reviews=1>,\n",
      " <Record Beer='George' matching_reviews=1>,\n",
      " <Record Beer='Three Sheets Barleywine (Syrah Barrel Aged)' matching_reviews=1>,\n",
      " <Record Beer='Racer X Double IPA' matching_reviews=1>,\n",
      " <Record Beer='Samuel Adams Maple Ale' matching_reviews=1>,\n",
      " <Record Beer='Dark Sky Imperial Stout' matching_reviews=1>,\n",
      " <Record Beer='Obamagang Inauguration Ale' matching_reviews=1>,\n",
      " <Record Beer='Liberator Doppelbock' matching_reviews=1>,\n",
      " <Record Beer='Fudge Bucket' matching_reviews=1>,\n",
      " <Record Beer='Ichor' matching_reviews=1>,\n",
      " <Record Beer='Our Special Ale 2012 (Anchor Christmas Ale)' matching_reviews=1>,\n",
      " <Record Beer=\"'t Smisje Kerst\" matching_reviews=1>,\n",
      " <Record Beer='Saison Rue' matching_reviews=1>,\n",
      " <Record Beer='Pile Of Face' matching_reviews=1>,\n",
      " <Record Beer='Big Bad Baptist Reserve' matching_reviews=1>,\n",
      " <Record Beer='Brunehaut Tradition Ambrée' matching_reviews=1>,\n",
      " <Record Beer='Samuel Adams Holiday Porter' matching_reviews=1>,\n",
      " <Record Beer='Ten FIDY' matching_reviews=1>,\n",
      " <Record Beer='Superbad' matching_reviews=1>,\n",
      " <Record Beer='LSD (Lompoc Strong Draft)' matching_reviews=1>,\n",
      " <Record Beer='Mariner Mild' matching_reviews=1>,\n",
      " <Record Beer='Bockbier' matching_reviews=1>,\n",
      " <Record Beer=\"Elevator Dirty Dick's Nut Brown Ale\" matching_reviews=1>,\n",
      " <Record Beer='Toro Amarillo' matching_reviews=1>,\n",
      " <Record Beer='Claymore Scotch Ale' matching_reviews=1>,\n",
      " <Record Beer='Insanity - Oak Barrel-Aged' matching_reviews=1>,\n",
      " <Record Beer='Trout Hop Black IPA' matching_reviews=1>,\n",
      " <Record Beer='Mild' matching_reviews=1>,\n",
      " <Record Beer='Black' matching_reviews=1>,\n",
      " <Record Beer='Péché Mortel' matching_reviews=1>,\n",
      " <Record Beer=\"He'Brew Jewbelation Sweet 16 Anniversary Ale\" matching_reviews=1>,\n",
      " <Record Beer='Bourbon County Brand Stout' matching_reviews=1>,\n",
      " <Record Beer='Guinness Special Export Stout / Antwerpen Stout' matching_reviews=1>,\n",
      " <Record Beer='Permutation Series #52: Imperial Stout w/ Almonds, Coffee & Vanilla' matching_reviews=1>,\n",
      " <Record Beer='Evensong' matching_reviews=1>,\n",
      " <Record Beer='Unplugged Sour Brown Ale' matching_reviews=1>,\n",
      " <Record Beer=\"Bert Grant's Deep Powder Winter Ale\" matching_reviews=1>,\n",
      " <Record Beer='Zywiec Marcowe' matching_reviews=1>,\n",
      " <Record Beer='Festivus' matching_reviews=1>,\n",
      " <Record Beer='Green Flash Nut Brown Ale' matching_reviews=1>,\n",
      " <Record Beer='Rabid Duck' matching_reviews=1>,\n",
      " <Record Beer=\"Thomas Hardy's Ale (2003-2008)\" matching_reviews=1>,\n",
      " <Record Beer='Pubstitute' matching_reviews=1>,\n",
      " <Record Beer='Peter Brown Tribute Ale' matching_reviews=1>,\n",
      " <Record Beer='Obovoid Oak-Aged Oatmeal Stout' matching_reviews=1>,\n",
      " <Record Beer='Alaskan Birch Bock (Pilot Series)' matching_reviews=1>,\n",
      " <Record Beer='Portsmouth Belgian Dubbel' matching_reviews=1>,\n",
      " <Record Beer='Frelser' matching_reviews=1>,\n",
      " <Record Beer='Oak Jacked Imperial Pumpkin Ale' matching_reviews=1>,\n",
      " <Record Beer='Ovni Ale' matching_reviews=1>,\n",
      " <Record Beer='Yeti - Belgian Style' matching_reviews=1>,\n",
      " <Record Beer='20th Anniversary Ale' matching_reviews=1>,\n",
      " <Record Beer='Shipwrecked Double IPA' matching_reviews=1>,\n",
      " <Record Beer='Twelve Gauge Imperial Stout (Bourbon Barrel Aged)' matching_reviews=1>,\n",
      " <Record Beer='Our Special Ale 2003 (Anchor Christmas Ale)' matching_reviews=1>,\n",
      " <Record Beer='New Old Stock' matching_reviews=1>,\n",
      " <Record Beer='God Jul' matching_reviews=1>,\n",
      " <Record Beer='Firestone 19 - Anniversary Ale' matching_reviews=1>,\n",
      " <Record Beer='Oude Tart' matching_reviews=1>,\n",
      " <Record Beer='Four Seasons Of Mother Earth - Winter (2014)' matching_reviews=1>,\n",
      " <Record Beer=\"Solstice D'hiver\" matching_reviews=1>,\n",
      " <Record Beer='Longshot A Dark Night In Munich' matching_reviews=1>,\n",
      " <Record Beer='Titanic' matching_reviews=1>,\n",
      " <Record Beer='Evil Twin / Westbrook - Double Barrel Imperial Mexican Biscotti Cake Break' matching_reviews=1>,\n",
      " <Record Beer='Malheur Brut Noir (Black Chocolate)' matching_reviews=1>,\n",
      " <Record Beer='Mueller Barrel Reserve - 10th Anniversary Edition' matching_reviews=1>,\n",
      " <Record Beer=\"Brewer's Reserve Bourbon Barrel Stout\" matching_reviews=1>,\n",
      " <Record Beer='Papaver' matching_reviews=1>,\n",
      " <Record Beer='Black Hole' matching_reviews=1>,\n",
      " <Record Beer='Heavy Seas - Blackbeard’s Breakfast Barrel Aged Imperial Coffee Porter' matching_reviews=1>,\n",
      " <Record Beer='Blackbeerd Imperial Stout' matching_reviews=1>,\n",
      " <Record Beer='Everett Porter' matching_reviews=1>,\n",
      " <Record Beer='Farmer Brown Ale' matching_reviews=1>,\n",
      " <Record Beer='Crow Valley Bitter' matching_reviews=1>,\n",
      " <Record Beer='LongShot Old Ben Ale' matching_reviews=1>,\n",
      " <Record Beer=\"Pop's Buster Nut Brown Ale\" matching_reviews=1>,\n",
      " <Record Beer='Red Nose Reinbeer' matching_reviews=1>,\n",
      " <Record Beer='Fourth Dementia (4D)' matching_reviews=1>,\n",
      " <Record Beer='Big Cone American Stout' matching_reviews=1>,\n",
      " <Record Beer='Burton Baton' matching_reviews=1>,\n",
      " <Record Beer='Hannen Alt' matching_reviews=1>,\n",
      " <Record Beer='Longleg' matching_reviews=1>,\n",
      " <Record Beer='Happy Ending Imperial Stout' matching_reviews=1>,\n",
      " <Record Beer='Three Judges Barleywine' matching_reviews=1>,\n",
      " <Record Beer='Lobotomy Bock' matching_reviews=1>,\n",
      " <Record Beer='Visionary Brew (2011)' matching_reviews=1>,\n",
      " <Record Beer='Bootlegger Brown Ale' matching_reviews=1>,\n",
      " <Record Beer='Xyauyù Etichetta Rame (Copper)' matching_reviews=1>,\n",
      " <Record Beer='Old Rasputin XV Anniversary Barrel Aged Stout' matching_reviews=1>,\n",
      " <Record Beer=\"Fuller's Mr Harry\" matching_reviews=1>,\n",
      " <Record Beer='Old Ruffian Barley Wine' matching_reviews=1>,\n",
      " <Record Beer=\"Smuttynose S'muttonator (Heritage Series)\" matching_reviews=1>,\n",
      " <Record Beer='Barrel Aged Sour CEO Stout' matching_reviews=1>,\n",
      " <Record Beer='Morning Nightcap Coffee Porter' matching_reviews=1>,\n",
      " <Record Beer='Terrapin Rye Squared' matching_reviews=1>,\n",
      " <Record Beer='Speedway Stout - Bourbon Barrel-Aged' matching_reviews=1>,\n",
      " <Record Beer='Southern Pecan' matching_reviews=1>,\n",
      " <Record Beer='Encore' matching_reviews=1>,\n",
      " <Record Beer='Popskull' matching_reviews=1>,\n",
      " <Record Beer='Ten FIDY - BA Java' matching_reviews=1>,\n",
      " <Record Beer='Old Disreputable' matching_reviews=1>,\n",
      " <Record Beer='Bock Beer' matching_reviews=1>,\n",
      " <Record Beer='Uerige Doppelsticke' matching_reviews=1>,\n",
      " <Record Beer='Chateau Jiahu' matching_reviews=1>,\n",
      " <Record Beer='Troubadour Magma Special Edition 2012 - Sorachi Ace' matching_reviews=1>,\n",
      " <Record Beer='Fuzzy Knuckles' matching_reviews=1>,\n",
      " <Record Beer='Beer Geek Brunch Weasel' matching_reviews=1>,\n",
      " <Record Beer='American Stout' matching_reviews=1>,\n",
      " <Record Beer=\"He'Brew Jewbelation 5766 (9)\" matching_reviews=1>,\n",
      " <Record Beer='Flying Monkeys Paranormal Imperial Pumpkin Ale' matching_reviews=1>,\n",
      " <Record Beer='Canaster Winterscotch Ale' matching_reviews=1>,\n",
      " <Record Beer='Single Digit Dubbel Belgian-Style Dubbel Ale' matching_reviews=1>,\n",
      " <Record Beer='Anniversary Ale 2005' matching_reviews=1>,\n",
      " <Record Beer='Boatswain H.L.V. Ale (Heavy Lift Vessel)' matching_reviews=1>,\n",
      " <Record Beer='Voodoo Doughnut Chocolate, Banana & Peanut Butter Ale' matching_reviews=1>,\n",
      " <Record Beer='Wheat Eight Ale' matching_reviews=1>,\n",
      " <Record Beer='Inner Geek Ale' matching_reviews=1>,\n",
      " <Record Beer='Cigar City / Terrapin Southern Slice' matching_reviews=1>,\n",
      " <Record Beer='Tokyo Black' matching_reviews=1>,\n",
      " <Record Beer='Old Leghumper' matching_reviews=1>,\n",
      " <Record Beer='Alberta Clipper' matching_reviews=1>,\n",
      " <Record Beer=\"Mephistopheles' Stout\" matching_reviews=1>,\n",
      " <Record Beer='Ovila Dubbel - Wine Barrel Aged' matching_reviews=1>,\n",
      " <Record Beer='Eclipse' matching_reviews=1>,\n",
      " <Record Beer='EisPhyre' matching_reviews=1>,\n",
      " <Record Beer='Derby Pie Stout' matching_reviews=1>,\n",
      " <Record Beer='Otter Creek World Tour: Otterbahn' matching_reviews=1>,\n",
      " <Record Beer='Saison Imperiale - Belgian Farmhouse Ale' matching_reviews=1>,\n",
      " <Record Beer='Drie Fonteinen Oude Geuze Vintage' matching_reviews=1>,\n",
      " <Record Beer='06.06.06 Vertical Epic Ale' matching_reviews=1>,\n",
      " <Record Beer='Box Set Track #10 - Bat Out Of Hell' matching_reviews=1>,\n",
      " <Record Beer='Nut Brown Premium Ale' matching_reviews=1>,\n",
      " <Record Beer=\"L'Ange Tombé\" matching_reviews=1>,\n",
      " <Record Beer='Baltic Thunder' matching_reviews=1>,\n",
      " <Record Beer='Brandy Barrel Aged Winter Wonderham' matching_reviews=1>,\n",
      " <Record Beer='Paris Of The West' matching_reviews=1>,\n",
      " <Record Beer='Blue Cheer' matching_reviews=1>,\n",
      " <Record Beer='Show Me Sour' matching_reviews=1>,\n",
      " <Record Beer='Scotch Ale' matching_reviews=1>,\n",
      " <Record Beer='Black Flag Imperial Stout' matching_reviews=1>,\n",
      " <Record Beer='Cherry Stout - Whiskey Barrel-Aged' matching_reviews=1>,\n",
      " <Record Beer='Bird’s Eye Rye (Heat Series)' matching_reviews=1>,\n",
      " <Record Beer='Irish Blessing' matching_reviews=1>,\n",
      " <Record Beer='Cerveza Jerome Negra' matching_reviews=1>,\n",
      " <Record Beer='Skizoid' matching_reviews=1>,\n",
      " <Record Beer='There And Back: English-Style Bitter (Beer Camp Across America)' matching_reviews=1>,\n",
      " <Record Beer='Yeah You Know Me - Chilis, Cinnamon, Chocolate and Coffee' matching_reviews=1>,\n",
      " <Record Beer='Barleywine Ale' matching_reviews=1>,\n",
      " <Record Beer='Single Origin Coffee Stout' matching_reviews=1>,\n",
      " <Record Beer='Unplugged Abt' matching_reviews=1>,\n",
      " <Record Beer='Rum Cask Oak Aged Beer' matching_reviews=1>,\n",
      " <Record Beer='Imperial Biscotti Break' matching_reviews=1>,\n",
      " <Record Beer='Batch 31 Barrel Aged Imperial Stout With Coffee' matching_reviews=1>,\n",
      " <Record Beer='Fourth Dementia - Bourbon Barrel-Aged' matching_reviews=1>,\n",
      " <Record Beer='Imperial Stout Trooper' matching_reviews=1>,\n",
      " <Record Beer='Past Masters Double Stout' matching_reviews=1>,\n",
      " <Record Beer='Barrel Aged Olde Bartholomew' matching_reviews=1>,\n",
      " <Record Beer='Plus / Minus' matching_reviews=1>,\n",
      " <Record Beer='Game Of Thrones: Fire & Blood' matching_reviews=1>,\n",
      " <Record Beer='Schlafly Oak Aged Barleywine' matching_reviews=1>,\n",
      " <Record Beer='Beer Camp Across The World: Atlantic-Style Vintage Ale' matching_reviews=1>,\n",
      " <Record Beer='Rosebud Stout' matching_reviews=1>,\n",
      " <Record Beer='Traquair 2020' matching_reviews=1>,\n",
      " <Record Beer='Imperial Longship' matching_reviews=1>,\n",
      " <Record Beer='Scratch Beer 4 - 2007 (Flying Mouflan)' matching_reviews=1>,\n",
      " <Record Beer='Fleurac La Triple Brune IPA' matching_reviews=1>,\n",
      " <Record Beer='Josephs Brau Winter Brew' matching_reviews=1>,\n",
      " <Record Beer='Mocha Merlin' matching_reviews=1>,\n",
      " <Record Beer='Cuvee Delphine' matching_reviews=1>,\n",
      " <Record Beer='Christmas Ale' matching_reviews=1>,\n",
      " <Record Beer='Thorogood' matching_reviews=1>,\n",
      " <Record Beer='Red Eye Coffee Porter' matching_reviews=1>,\n",
      " <Record Beer='Glen Ale ( JLS Release #27)' matching_reviews=1>,\n",
      " <Record Beer='Diggity Dunkel' matching_reviews=1>,\n",
      " <Record Beer=\"Nor' Easter Winter Warmer\" matching_reviews=1>,\n",
      " <Record Beer='BBA Der Roest Imperial Stout' matching_reviews=1>,\n",
      " <Record Beer='Smoke On The Bayou' matching_reviews=1>,\n",
      " <Record Beer='1955 Double Brown' matching_reviews=1>,\n",
      " <Record Beer='Chocarrubica' matching_reviews=1>,\n",
      " <Record Beer='Moon Bear' matching_reviews=1>,\n",
      " <Record Beer='Grand Cru 100' matching_reviews=1>,\n",
      " <Record Beer='Red Horizon 3rd Edition' matching_reviews=1>,\n",
      " <Record Beer='Russell Angry Scotch Ale' matching_reviews=1>,\n",
      " <Record Beer='Carpe Brewem Barrel Aged Mochachino Milk Stout' matching_reviews=1>,\n",
      " <Record Beer='Dark Mild' matching_reviews=1>,\n",
      " <Record Beer='Kriekselikroxen' matching_reviews=1>,\n",
      " <Record Beer='Yin' matching_reviews=1>,\n",
      " <Record Beer='LongShot Old Ale' matching_reviews=1>,\n",
      " <Record Beer='Cucapá Barleywine' matching_reviews=1>,\n",
      " <Record Beer='Mélange No. 3' matching_reviews=1>,\n",
      " <Record Beer='Kentucky Bourbon Barrel Stout' matching_reviews=1>,\n",
      " <Record Beer='Boaks Monster Mash Imperial Stout' matching_reviews=1>,\n",
      " <Record Beer='After The Party' matching_reviews=1>,\n",
      " <Record Beer='Colorado Berthô' matching_reviews=1>,\n",
      " <Record Beer=\"Odin's Tipple\" matching_reviews=1>,\n",
      " <Record Beer=\"Trader Joe's 2009 Vintage Ale\" matching_reviews=1>,\n",
      " <Record Beer='Luscious' matching_reviews=1>,\n",
      " <Record Beer='Full Sail LTD #2 Pale Lager' matching_reviews=1>,\n",
      " <Record Beer='Firestone 17 - Anniversary Ale' matching_reviews=1>,\n",
      " <Record Beer='Siracusa Nera' matching_reviews=1>,\n",
      " <Record Beer='Bravo Imperial Brown Ale' matching_reviews=1>,\n",
      " <Record Beer='Old Stock Cellar Reserve (Aged In Brandy Barrels)' matching_reviews=1>,\n",
      " <Record Beer='Smuttynose Durty Mud Season Hoppy Brown Ale' matching_reviews=1>,\n",
      " <Record Beer='Anubis Imperial Coffee Porter' matching_reviews=1>,\n",
      " <Record Beer='Wasatch The Devastator Double Bock' matching_reviews=1>,\n",
      " <Record Beer=\"Marshal Zhukov's Imperial Stout - Zhukov's Penultimate Push\" matching_reviews=1>,\n",
      " <Record Beer='FE 10 Anniversary Ale' matching_reviews=1>,\n",
      " <Record Beer=\"Black Creek Benson's Strong Ale\" matching_reviews=1>,\n",
      " <Record Beer='E. S. Bam' matching_reviews=1>,\n",
      " <Record Beer='Zombie Dust' matching_reviews=1>,\n",
      " <Record Beer='Imperial Eclipse Stout - Pappy Van Winkle (23 Year)' matching_reviews=1>,\n",
      " <Record Beer='Dark Apparition' matching_reviews=1>,\n",
      " <Record Beer='Boris' matching_reviews=1>,\n",
      " <Record Beer='XS Imperial Red' matching_reviews=1>,\n",
      " <Record Beer='Decadent Brown Ale' matching_reviews=1>,\n",
      " <Record Beer='Otter Creek World Tour: Sea Otter' matching_reviews=1>,\n",
      " <Record Beer='Achel Trappist Extra' matching_reviews=1>,\n",
      " <Record Beer='Twenty' matching_reviews=1>,\n",
      " <Record Beer='Baba Yaga' matching_reviews=1>,\n",
      " <Record Beer='King Henry' matching_reviews=1>,\n",
      " <Record Beer='Cuvee Series Three (Oak Aged Series)' matching_reviews=1>,\n",
      " <Record Beer='Mirror Mirror' matching_reviews=1>,\n",
      " <Record Beer='Hr. Frederiksen' matching_reviews=1>,\n",
      " <Record Beer='Double Stout' matching_reviews=1>,\n",
      " <Record Beer='30th Anniversary - Grand Cru' matching_reviews=1>,\n",
      " <Record Beer='Slap Happy Bourbon Barrel Brown' matching_reviews=1>,\n",
      " <Record Beer='FV 13' matching_reviews=1>,\n",
      " <Record Beer='Sweetwater Dank Tank BSP Quad Ale' matching_reviews=1>,\n",
      " <Record Beer='Fourth Wave' matching_reviews=1>,\n",
      " <Record Beer='Choklat Oranj (Blackwater Series)' matching_reviews=1>,\n",
      " <Record Beer='Sierra Nevada Chico Estate Harvest Wet Hop Ale (2008)' matching_reviews=1>,\n",
      " <Record Beer='Bracia' matching_reviews=1>,\n",
      " <Record Beer='Coffee Red' matching_reviews=1>,\n",
      " <Record Beer='Belgian-Style Dubbel' matching_reviews=1>,\n",
      " <Record Beer='Dark Cloud' matching_reviews=1>,\n",
      " <Record Beer='Improv (Improvisación) Oatmeal Rye India-Style Brown Ale' matching_reviews=1>,\n",
      " <Record Beer='Blitzen Festivus Ale' matching_reviews=1>,\n",
      " <Record Beer='BrewDog Paradox Isle Of Arran (Batch 016)' matching_reviews=1>,\n",
      " <Record Beer='Guinness 250th Anniversary Stout' matching_reviews=1>,\n",
      " <Record Beer='Brabant' matching_reviews=1>,\n",
      " <Record Beer=\"Thor's Hammer Barley Wine\" matching_reviews=1>,\n",
      " <Record Beer='Redemption' matching_reviews=1>,\n",
      " <Record Beer='Spelt Bock (Four Grain)' matching_reviews=1>,\n",
      " <Record Beer='Brooklyn Local 2' matching_reviews=1>,\n",
      " <Record Beer=\"Saint Botolph's Town\" matching_reviews=1>,\n",
      " <Record Beer='Icelandic Toasted Porter' matching_reviews=1>,\n",
      " <Record Beer=\"He'Brew Funky Jewbelation '14\" matching_reviews=1>,\n",
      " <Record Beer='TWELVE' matching_reviews=1>,\n",
      " <Record Beer='Papier - Rye Whiskey-Barrel' matching_reviews=1>,\n",
      " <Record Beer='Simple Malt Impériale Stout' matching_reviews=1>,\n",
      " <Record Beer='B-Bomb (Bourbon Abominable Winter Ale)' matching_reviews=1>,\n",
      " <Record Beer='Jubel 2010 (Once A Decade Ale)' matching_reviews=1>,\n",
      " <Record Beer=\"The Angel's Share Grand Cru\" matching_reviews=1>,\n",
      " <Record Beer='Über Alt' matching_reviews=1>,\n",
      " <Record Beer='Moo-Hoo Chocolate Milk Stout' matching_reviews=1>,\n",
      " <Record Beer='Cigar City / Dunedin Auld Alliance' matching_reviews=1>,\n",
      " <Record Beer='Firestone 16 - Anniversary Ale' matching_reviews=1>,\n",
      " <Record Beer='Sierra Nevada Ruthless Rye IPA' matching_reviews=1>,\n",
      " <Record Beer='Barrel Select Black' matching_reviews=1>,\n",
      " <Record Beer='Hop Flood' matching_reviews=1>,\n",
      " <Record Beer='Black IPA' matching_reviews=1>,\n",
      " <Record Beer='City Of The Dead' matching_reviews=1>,\n",
      " <Record Beer='Downtown Bourbon Brown' matching_reviews=1>,\n",
      " <Record Beer='Traveling Oak' matching_reviews=1>,\n",
      " <Record Beer='Ampleforth Abbey Beer' matching_reviews=1>,\n",
      " <Record Beer='Red Thunder' matching_reviews=1>,\n",
      " <Record Beer='BDCS' matching_reviews=1>,\n",
      " <Record Beer='Anniversary Strong Ale' matching_reviews=1>,\n",
      " <Record Beer='Death To Cereal' matching_reviews=1>,\n",
      " <Record Beer='Woodcut No. 7 Russian Imperial Stout' matching_reviews=1>,\n",
      " <Record Beer='Spirit Beast 2018' matching_reviews=1>,\n",
      " <Record Beer='Share This: Coffee' matching_reviews=1>]\n"
     ]
    }
   ],
   "source": [
    "query_q3 = \"\"\"\n",
    "    MATCH (b:BEERS)<-[:REVIEWED]-(r:REVIEWS)\n",
    "    WHERE ALL(word IN ['fruit', 'complex', 'nutty', 'dark'] WHERE toLower(r.text) CONTAINS word)\n",
    "    RETURN DISTINCT b.name AS Beer, COUNT(r) AS matching_reviews\n",
    "    ORDER BY matching_reviews DESC;\n",
    "\"\"\"\n",
    "result = execute_read(driver, query_q3)\n",
    "pprint(result)"
   ]
  },
  {
   "cell_type": "markdown",
   "metadata": {},
   "source": [
    "#### <a id=\"top-three-breweries\"></a>3.4. Which top three breweries produce the largest variety of beer styles?"
   ]
  },
  {
   "cell_type": "code",
   "execution_count": 124,
   "metadata": {},
   "outputs": [
    {
     "name": "stdout",
     "output_type": "stream",
     "text": [
      "[<Record Brewery='Iron Hill Brewery & Restaurant' unique_styles=94>,\n",
      " <Record Brewery='Rock Bottom Restaurant & Brewery' unique_styles=93>,\n",
      " <Record Brewery='Goose Island Beer Co.' unique_styles=88>]\n"
     ]
    }
   ],
   "source": [
    "query_q4 = \"\"\"\n",
    "        MATCH (b:BREWERIES)-[:BREWED]->(be:BEERS)-[:HAS_STYLE]->(s:STYLES)\n",
    "        RETURN b.name AS Brewery, count(DISTINCT s) AS unique_styles\n",
    "        ORDER BY unique_styles DESC\n",
    "        LIMIT 3\n",
    "    \"\"\"\n",
    "result = execute_read(driver, query_q4)\n",
    "pprint(result)"
   ]
  },
  {
   "cell_type": "markdown",
   "metadata": {},
   "source": [
    "#### <a id=\"country-most-styles\"></a>3.5. Which country produces the most beer styles?"
   ]
  },
  {
   "cell_type": "code",
   "execution_count": 125,
   "metadata": {},
   "outputs": [
    {
     "name": "stdout",
     "output_type": "stream",
     "text": [
      "[<Record Country='US' style_count=113>]\n"
     ]
    }
   ],
   "source": [
    "query_q5 = \"\"\"\n",
    "    MATCH (c:COUNTRIES)<-[:IN]-(ct:CITIES)<-[:IN]-(br:BREWERIES)-[:BREWED]->(b:BEERS)-[:HAS_STYLE]->(s:STYLES)\n",
    "    WITH c.name AS Country, COUNT(DISTINCT s.name) AS style_count\n",
    "    RETURN Country, style_count\n",
    "    ORDER BY style_count DESC\n",
    "    LIMIT 1;\n",
    "\"\"\"\n",
    "result = execute_read(driver, query_q5)\n",
    "pprint(result)"
   ]
  },
  {
   "cell_type": "markdown",
   "metadata": {},
   "source": [
    "### <div class=\"alert-warning\" style=\"background-color: #FFF9C4; color: black; padding: 10px;\"> <a id=\"optimizing-performance\"></a>4. Optimizing Database Performance for Market Analysis Department</div>\n",
    "\n",
    "Back to [Index](#index)"
   ]
  },
  {
   "cell_type": "markdown",
   "metadata": {},
   "source": [
    "#### <a id=\"strongest-beers\"></a>4.1. Using ABV score, find five strongest beers, display their ABV score and the corresponding brewery"
   ]
  },
  {
   "cell_type": "code",
   "execution_count": 126,
   "metadata": {},
   "outputs": [
    {
     "name": "stdout",
     "output_type": "stream",
     "text": [
      "[<Record beer_name=\"Earache: World's Shortest Album\" abv=100.0 brewery_name='1648 Brewing Company Ltd'>,\n",
      " <Record beer_name='Radiohead - OK Computer' abv=100.0 brewery_name='1648 Brewing Company Ltd'>,\n",
      " <Record beer_name='water' abv=100.0 brewery_name='Avondale Brewing Co.'>,\n",
      " <Record beer_name='Dark Reckoning' abv=80.0 brewery_name='Morgan Territory Brewing'>,\n",
      " <Record beer_name='Snake Venom' abv=67.5 brewery_name='Brewmeister'>]\n"
     ]
    }
   ],
   "source": [
    "query_q1_optimized = \"\"\"\n",
    "MATCH (b:BEERS)\n",
    "WHERE toFloat(b.abv) IS NOT NULL AND NOT b.abv = \"nan\"\n",
    "WITH b\n",
    "MATCH (br:BREWERIES {id: b.brewery_id})\n",
    "RETURN b.name AS beer_name, toFloat(b.abv) AS abv, br.name AS brewery_name\n",
    "ORDER BY abv DESC\n",
    "LIMIT 5\n",
    "\"\"\"\n",
    "\n",
    "result_q1_opt = execute_read(driver, query_q1_optimized)\n",
    "pprint(result_q1_opt)"
   ]
  },
  {
   "cell_type": "markdown",
   "metadata": {},
   "source": [
    "In this step, we aim to identify the top 5 strongest beers by ABV (Alcohol By Volume) and display their respective breweries.  \n",
    "Due to the absence of a direct relationship between beers and breweries in the graph, we leveraged the `brewery_id` attribute present in the BEERS node and matched it with the `id` of the BREWERIES node.\n",
    "\n",
    "We also handled data consistency issues, filtering out invalid ABV values such as \"nan\" and converting the property to a numeric format for correct sorting.\n",
    "\n",
    "The following Python code runs a Cypher query that retrieves the beer name, ABV score, and the brewery name, sorted by descending ABV.\n"
   ]
  },
  {
   "cell_type": "markdown",
   "metadata": {},
   "source": [
    "#### <a id=\"top-5-beer-styles\"></a>4.2. Find the top 5 distinct beer styles with the highest average score of smell and feel that were reviewed by the third most productive user."
   ]
  },
  {
   "cell_type": "code",
   "execution_count": 127,
   "metadata": {},
   "outputs": [
    {
     "name": "stdout",
     "output_type": "stream",
     "text": [
      "[<Record third_most_productive_user='kylehay2004'>]\n"
     ]
    }
   ],
   "source": [
    "#first we found the 3rd most Productive User (in terms of number of reviews)\n",
    "query_3rd_user = \"\"\"\n",
    "MATCH (u:USERS)-[:POSTED]->(r:REVIEWS)\n",
    "WITH u, COUNT(r) AS review_count\n",
    "ORDER BY review_count DESC\n",
    "SKIP 2 // Skip the top 2 users\n",
    "LIMIT 1\n",
    "RETURN u.name AS third_most_productive_user\n",
    "\"\"\"\n",
    "result_q2 = execute_read(driver, query_3rd_user)\n",
    "pprint(result_q2)"
   ]
  },
  {
   "cell_type": "code",
   "execution_count": 128,
   "metadata": {},
   "outputs": [
    {
     "name": "stdout",
     "output_type": "stream",
     "text": [
      "[<Record beer_style='New England IPA' avg_smell=4.3 avg_feel=4.36 combined_avg=4.33>,\n",
      " <Record beer_style='American Imperial Stout' avg_smell=4.29 avg_feel=4.25 combined_avg=4.27>,\n",
      " <Record beer_style='Bière de Champagne / Bière Brut' avg_smell=4.25 avg_feel=4.25 combined_avg=4.25>,\n",
      " <Record beer_style='Belgian Fruit Lambic' avg_smell=4.25 avg_feel=4.19 combined_avg=4.22>,\n",
      " <Record beer_style='Belgian Gueuze' avg_smell=4.21 avg_feel=4.21 combined_avg=4.21>]\n"
     ]
    }
   ],
   "source": [
    "query_q2 = \"\"\"\n",
    "MATCH (u:USERS {name: \"kylehay2004\"})-[:POSTED]->(r:REVIEWS)-[:REVIEWED]->(b:BEERS)-[:HAS_STYLE]->(s:STYLES)\n",
    "WHERE toFloat(r.smell) IS NOT NULL AND toFloat(r.feel) IS NOT NULL\n",
    "RETURN s.name AS beer_style,\n",
    "       round(avg(toFloat(r.smell)),2) AS avg_smell,\n",
    "       round(avg(toFloat(r.feel)),2) AS avg_feel,\n",
    "       round(avg(toFloat(r.smell) + toFloat(r.feel))/2, 2) AS combined_avg\n",
    "ORDER BY combined_avg DESC\n",
    "LIMIT 5\n",
    "\"\"\"\n",
    "\n",
    "result_q2 = execute_read(driver, query_q2)\n",
    "pprint(result_q2)"
   ]
  },
  {
   "cell_type": "markdown",
   "metadata": {},
   "source": [
    "We retrieved the top 5 beer styles with the highest average of smell and feel scores, considering only the reviews made by the 3rd most active user (`kylehay2004`).  \n",
    "To achieve this, we calculated the average smell and feel scores for each beer style and computed a combined average to rank the styles."
   ]
  },
  {
   "cell_type": "markdown",
   "metadata": {},
   "source": [
    "### <div class=\"alert-warning\" style=\"background-color: #FFF9C4; color: black; padding: 10px;\"> <a id=\"graph-algorithms\"></a>5. Questions Using Graph Algorithms (gds)</div>\n",
    "\n",
    "We will do the 5.1 and 5.2, the 5.3 was one of our initial choice but due to memory issues we were no able to run all of it, so we leave the code and the locial with 100 000 testing relations but we techinically do not consider it part of the 2 out of 4.\n",
    "\n",
    "Back to [Index](#index)"
   ]
  },
  {
   "cell_type": "markdown",
   "metadata": {},
   "source": [
    "#### <a id=\"similar-countries\"></a>5.1. Which two countries are most similar when it comes to their top five most produced Beer styles? DONE"
   ]
  },
  {
   "cell_type": "code",
   "execution_count": 129,
   "metadata": {},
   "outputs": [
    {
     "name": "stdout",
     "output_type": "stream",
     "text": [
      "[]\n"
     ]
    }
   ],
   "source": [
    "# DELETE - graph if exists\n",
    "query_drop = \"\"\"\n",
    "CALL gds.graph.drop('Country_Beer_Style_Graph', false) YIELD graphName;\n",
    "\"\"\"\n",
    "\n",
    "try:\n",
    "    result_drop = execute_read(driver, query_drop)\n",
    "    pprint(result_drop)\n",
    "except Exception as e:\n",
    "    print(e)"
   ]
  },
  {
   "cell_type": "code",
   "execution_count": 130,
   "metadata": {},
   "outputs": [
    {
     "name": "stdout",
     "output_type": "stream",
     "text": [
      "[<Record nodeQuery='MATCH (c:COUNTRIES) RETURN id(c) AS id\\n     UNION\\n     MATCH (s:STYLES) RETURN id(s) AS id' relationshipQuery='MATCH (c:COUNTRIES)<-[:IN]-(city:CITIES)<-[:IN]-(brewery:BREWERIES)-[:BREWED]->(beer:BEERS)-[:HAS_STYLE]->(s:STYLES)\\n     WITH c, s, count(beer) AS beer_count\\n     ORDER BY beer_count DESC\\n     WITH c, collect({style: s, count: beer_count})[0..5] AS top_styles\\n     \\n     UNWIND top_styles AS style_data\\n     RETURN id(c) AS source, id(style_data.style) AS target, style_data.count AS weight' graphName='Country_Beer_Style_Graph' nodeCount=313 relationshipCount=813 projectMillis=3786>]\n"
     ]
    }
   ],
   "source": [
    "# CREATE - graph projection with only the top 5 beer styles per country\n",
    "query_create = \"\"\"\n",
    "CALL gds.graph.project.cypher(\n",
    "    'Country_Beer_Style_Graph',\n",
    "\n",
    "    // Nodes: Countries and Styles\n",
    "    'MATCH (c:COUNTRIES) RETURN id(c) AS id\n",
    "     UNION\n",
    "     MATCH (s:STYLES) RETURN id(s) AS id',\n",
    "\n",
    "    // Relationships: Only top 5 beer styles per country, with ranked weight\n",
    "    'MATCH (c:COUNTRIES)<-[:IN]-(city:CITIES)<-[:IN]-(brewery:BREWERIES)-[:BREWED]->(beer:BEERS)-[:HAS_STYLE]->(s:STYLES)\n",
    "     WITH c, s, count(beer) AS beer_count\n",
    "     ORDER BY beer_count DESC\n",
    "     WITH c, collect({style: s, count: beer_count})[0..5] AS top_styles\n",
    "     \n",
    "     UNWIND top_styles AS style_data\n",
    "     RETURN id(c) AS source, id(style_data.style) AS target, style_data.count AS weight'\n",
    ");\n",
    "\n",
    "\"\"\"\n",
    "\n",
    "result_create = execute_write(driver, query_create)\n",
    "pprint(result_create)"
   ]
  },
  {
   "cell_type": "code",
   "execution_count": 131,
   "metadata": {},
   "outputs": [
    {
     "name": "stdout",
     "output_type": "stream",
     "text": [
      "[<Record id=0>,\n",
      " <Record id=1>,\n",
      " <Record id=2>,\n",
      " <Record id=3>,\n",
      " <Record id=4>,\n",
      " <Record id=5>,\n",
      " <Record id=6>,\n",
      " <Record id=7>,\n",
      " <Record id=8>,\n",
      " <Record id=9>,\n",
      " <Record id=10>,\n",
      " <Record id=11>,\n",
      " <Record id=12>,\n",
      " <Record id=13>,\n",
      " <Record id=14>,\n",
      " <Record id=15>,\n",
      " <Record id=16>,\n",
      " <Record id=17>,\n",
      " <Record id=18>,\n",
      " <Record id=19>]\n"
     ]
    }
   ],
   "source": [
    "# RETURN distinct Labels (n) - to check (Verifying the Graph Structure)\n",
    "query = \"\"\"\n",
    "MATCH (n) \n",
    "WHERE head(Labels(n))='COUNTRIES' OR head(Labels(n))='STYLES' \n",
    "RETURN id(n) AS id\n",
    "LIMIT 20;\n",
    "\n",
    "\"\"\"\n",
    "\n",
    "result_cosine = execute_read(driver, query)\n",
    "pprint(result_cosine)"
   ]
  },
  {
   "cell_type": "code",
   "execution_count": 132,
   "metadata": {},
   "outputs": [
    {
     "name": "stdout",
     "output_type": "stream",
     "text": [
      "[<Record country=<Node element_id='1' labels=frozenset({'COUNTRIES'}) properties={'name': 'US'}> beer_style=<Node element_id='9494220' labels=frozenset({'STYLES'}) properties={'name': 'American IPA'}> frequency=39079>,\n",
      " <Record country=<Node element_id='1' labels=frozenset({'COUNTRIES'}) properties={'name': 'US'}> beer_style=<Node element_id='9494228' labels=frozenset({'STYLES'}) properties={'name': 'American Pale Ale (APA)'}> frequency=18223>,\n",
      " <Record country=<Node element_id='1' labels=frozenset({'COUNTRIES'}) properties={'name': 'US'}> beer_style=<Node element_id='9494236' labels=frozenset({'STYLES'}) properties={'name': 'American Imperial IPA'}> frequency=16630>,\n",
      " <Record country=<Node element_id='1' labels=frozenset({'COUNTRIES'}) properties={'name': 'US'}> beer_style=<Node element_id='9494241' labels=frozenset({'STYLES'}) properties={'name': 'Belgian Saison'}> frequency=15282>,\n",
      " <Record country=<Node element_id='1' labels=frozenset({'COUNTRIES'}) properties={'name': 'US'}> beer_style=<Node element_id='9494237' labels=frozenset({'STYLES'}) properties={'name': 'American Wild Ale'}> frequency=11524>,\n",
      " <Record country=<Node element_id='5' labels=frozenset({'COUNTRIES'}) properties={'name': 'CA'}> beer_style=<Node element_id='9494220' labels=frozenset({'STYLES'}) properties={'name': 'American IPA'}> frequency=4154>,\n",
      " <Record country=<Node element_id='5' labels=frozenset({'COUNTRIES'}) properties={'name': 'CA'}> beer_style=<Node element_id='9494228' labels=frozenset({'STYLES'}) properties={'name': 'American Pale Ale (APA)'}> frequency=2527>,\n",
      " <Record country=<Node element_id='5' labels=frozenset({'COUNTRIES'}) properties={'name': 'CA'}> beer_style=<Node element_id='9494241' labels=frozenset({'STYLES'}) properties={'name': 'Belgian Saison'}> frequency=2237>,\n",
      " <Record country=<Node element_id='5' labels=frozenset({'COUNTRIES'}) properties={'name': 'CA'}> beer_style=<Node element_id='9494236' labels=frozenset({'STYLES'}) properties={'name': 'American Imperial IPA'}> frequency=1663>,\n",
      " <Record country=<Node element_id='5' labels=frozenset({'COUNTRIES'}) properties={'name': 'CA'}> beer_style=<Node element_id='9494237' labels=frozenset({'STYLES'}) properties={'name': 'American Wild Ale'}> frequency=1321>]\n"
     ]
    }
   ],
   "source": [
    "# Verifying Relationships\n",
    "query = \"\"\"\n",
    "MATCH (c:COUNTRIES)<-[:IN]-(city:CITIES)<-[:IN]-(brewery:BREWERIES)-[:BREWED]->(beer:BEERS)-[:HAS_STYLE]->(s:STYLES)\n",
    "WITH c, s, count(beer) AS beer_count\n",
    "ORDER BY beer_count DESC\n",
    "WITH c, collect({style: s, count: beer_count})[0..5] AS top_styles\n",
    "UNWIND top_styles AS style_data\n",
    "RETURN c AS country, style_data.style AS beer_style, style_data.count AS frequency\n",
    "LIMIT 10;\n",
    "\n",
    "\"\"\"\n",
    "\n",
    "result_cosine = execute_read(driver, query)\n",
    "pprint(result_cosine)"
   ]
  },
  {
   "cell_type": "code",
   "execution_count": 133,
   "metadata": {},
   "outputs": [
    {
     "name": "stdout",
     "output_type": "stream",
     "text": [
      "[<Record Country1='US' Country2='PH' similarity=1.0>]\n"
     ]
    }
   ],
   "source": [
    "# Node Similarity Algorithm\n",
    "query_cosine = \"\"\"\n",
    "CALL gds.nodeSimilarity.stream('Country_Beer_Style_Graph')\n",
    "YIELD node1, node2, similarity\n",
    "\n",
    "WITH gds.util.asNode(node1).name AS Country1, \n",
    "     gds.util.asNode(node2).name AS Country2, \n",
    "     similarity\n",
    "\n",
    "RETURN Country1, Country2, similarity\n",
    "ORDER BY similarity DESC\n",
    "limit 1;\n",
    "\"\"\"\n",
    "\n",
    "result_cosine = execute_read(driver, query_cosine)\n",
    "pprint(result_cosine)"
   ]
  },
  {
   "cell_type": "markdown",
   "metadata": {},
   "source": [
    "So the 2 most similar countries are the United States and the Philippines. But we notice something we can analyze further:"
   ]
  },
  {
   "cell_type": "code",
   "execution_count": 134,
   "metadata": {},
   "outputs": [
    {
     "name": "stdout",
     "output_type": "stream",
     "text": [
      "[<Record similarity=0.1111111111111111 frequency=25>,\n",
      " <Record similarity=0.125 frequency=6>,\n",
      " <Record similarity=0.14285714285714285 frequency=11>,\n",
      " <Record similarity=0.16666666666666666 frequency=18>,\n",
      " <Record similarity=0.2 frequency=33>,\n",
      " <Record similarity=0.25 frequency=269>,\n",
      " <Record similarity=0.2857142857142857 frequency=87>,\n",
      " <Record similarity=0.3333333333333333 frequency=81>,\n",
      " <Record similarity=0.4 frequency=52>,\n",
      " <Record similarity=0.42857142857142855 frequency=566>,\n",
      " <Record similarity=0.5 frequency=162>,\n",
      " <Record similarity=0.6 frequency=12>,\n",
      " <Record similarity=0.6666666666666666 frequency=367>,\n",
      " <Record similarity=0.8 frequency=4>,\n",
      " <Record similarity=1.0 frequency=254>]\n"
     ]
    }
   ],
   "source": [
    "#Read the similarity reuslts distribution\n",
    "query = \"\"\"\n",
    "CALL gds.nodeSimilarity.stream('Country_Beer_Style_Graph')\n",
    "YIELD similarity\n",
    "RETURN similarity, count(*) AS frequency\n",
    "ORDER BY similarity;\n",
    "\"\"\"\n",
    "\n",
    "result_cosine = execute_read(driver, query)\n",
    "pprint(result_cosine)"
   ]
  },
  {
   "cell_type": "markdown",
   "metadata": {},
   "source": [
    "We are calculating the similarity between countries based on their top 5 most produced beer styles. The expected result is a ranking of country pairs based on how similar their beer production preferences are. However, our results show that many country pairs have a similarity score of 1.0, and the similarity only starts to decrease after case 255.\n",
    "\n",
    "**Why Are There So Many 1.0 Similarity Scores?**\n",
    "\n",
    "The issue arises because the cosine similarity algorithm used by gds.nodeSimilarity.stream() does not consider the order of elements in the beer style rankings—it only considers which styles appear in the top 5, not their specific rankings or frequencies. If two countries have exactly the same top 5 beer styles, their vectors are identical, and the similarity score is 1.0.\n",
    "\n",
    "- Many Countries Have the Same Top 5 Beer Styles: Multiple countries share the same top 5 beer styles (the most common styles), so they will all have identical vectors, leading to similarity = 1.0. Since the global beer industry tends to have dominant styles (e.g., American IPA, Pale Ale, Stout), many countries will naturally have the same styles at the top.\n"
   ]
  },
  {
   "cell_type": "code",
   "execution_count": 155,
   "metadata": {},
   "outputs": [
    {
     "name": "stdout",
     "output_type": "stream",
     "text": [
      "[<Record graphName='Country_Beer_Style_Graph'>]\n"
     ]
    }
   ],
   "source": [
    "# DELETE - Drop graph if it exists\n",
    "query_drop = \"\"\"\n",
    "CALL gds.graph.drop('Country_Beer_Style_Graph', false) YIELD graphName;\n",
    "\"\"\"\n",
    "\n",
    "try:\n",
    "    result_drop = execute_read(driver, query_drop)\n",
    "    pprint(result_drop)\n",
    "except Exception as e:\n",
    "    print(e)"
   ]
  },
  {
   "cell_type": "code",
   "execution_count": 156,
   "metadata": {},
   "outputs": [
    {
     "name": "stdout",
     "output_type": "stream",
     "text": [
      "[]\n"
     ]
    }
   ],
   "source": [
    "query_store_weights = \"\"\"\n",
    "MATCH (c:COUNTRIES)<-[:IN]-(city:CITIES)<-[:IN]-(brewery:BREWERIES)-[:BREWED]->(beer:BEERS)-[:HAS_STYLE]->(s:STYLES)\n",
    "WITH c, s, COUNT(beer) AS beer_count\n",
    "ORDER BY c, beer_count DESC  \n",
    "WITH c, COLLECT(s)[0..5] AS top_styles\n",
    "\n",
    "UNWIND RANGE(0, SIZE(top_styles)-1) AS idx\n",
    "WITH c, top_styles[idx] AS style, 5 - idx AS weight\n",
    "\n",
    "MERGE (c)-[r:TOP_STYLE]->(style)  \n",
    "SET r.weight = weight;\n",
    "\"\"\"\n",
    "\n",
    "try:\n",
    "    result_store_weights = execute_write(driver, query_store_weights)\n",
    "    pprint(result_store_weights)\n",
    "except Exception as e:\n",
    "    print(e)"
   ]
  },
  {
   "cell_type": "code",
   "execution_count": 157,
   "metadata": {},
   "outputs": [
    {
     "name": "stdout",
     "output_type": "stream",
     "text": [
      "[<Record Country='AD' Beer_Style='American Blonde Ale' Weight=5>,\n",
      " <Record Country='AD' Beer_Style='German Hefeweizen' Weight=4>,\n",
      " <Record Country='AD' Beer_Style='English India Pale Ale (IPA)' Weight=3>,\n",
      " <Record Country='AD' Beer_Style='Smoke Beer' Weight=2>,\n",
      " <Record Country='AD' Beer_Style='German Doppelbock' Weight=1>,\n",
      " <Record Country='AE' Beer_Style='Low Alcohol Beer' Weight=5>,\n",
      " <Record Country='AE' Beer_Style='German Helles' Weight=4>,\n",
      " <Record Country='AG' Beer_Style='American Pale Ale (APA)' Weight=5>,\n",
      " <Record Country='AG' Beer_Style='Fruit and Field Beer' Weight=4>,\n",
      " <Record Country='AG' Beer_Style='American Porter' Weight=3>,\n",
      " <Record Country='AG' Beer_Style='American Light Lager' Weight=2>,\n",
      " <Record Country='AG' Beer_Style='American Adjunct Lager' Weight=1>,\n",
      " <Record Country='AL' Beer_Style='European Pale Lager' Weight=5>,\n",
      " <Record Country='AL' Beer_Style='Bohemian Pilsener' Weight=4>,\n",
      " <Record Country='AL' Beer_Style='American Amber / Red Lager' Weight=3>,\n",
      " <Record Country='AL' Beer_Style='American Blonde Ale' Weight=2>,\n",
      " <Record Country='AL' Beer_Style='German Maibock' Weight=1>,\n",
      " <Record Country='AM' Beer_Style='European Pale Lager' Weight=5>,\n",
      " <Record Country='AM' Beer_Style='Smoke Beer' Weight=4>,\n",
      " <Record Country='AM' Beer_Style='Munich Dunkel Lager' Weight=3>]\n"
     ]
    }
   ],
   "source": [
    "query_check_weights = \"\"\"\n",
    "MATCH (c:COUNTRIES)-[r:TOP_STYLE]->(s:STYLES)\n",
    "RETURN c.name AS Country, s.name AS Beer_Style, r.weight AS Weight\n",
    "ORDER BY Country, Weight DESC\n",
    "LIMIT 20;\n",
    "\"\"\"\n",
    "\n",
    "try:\n",
    "    result_weights = execute_read(driver, query_check_weights)\n",
    "    pprint(result_weights)\n",
    "except Exception as e:\n",
    "    print(e)"
   ]
  },
  {
   "cell_type": "code",
   "execution_count": 158,
   "metadata": {},
   "outputs": [
    {
     "name": "stdout",
     "output_type": "stream",
     "text": [
      "[<Record nodeProjection={'COUNTRIES': {'label': 'COUNTRIES', 'properties': {}}, 'STYLES': {'label': 'STYLES', 'properties': {}}} relationshipProjection={'TOP_STYLE': {'orientation': 'UNDIRECTED', 'aggregation': 'DEFAULT', 'type': 'TOP_STYLE', 'properties': {'weight': {'defaultValue': None, 'property': 'weight', 'aggregation': 'DEFAULT'}}}} graphName='Country_Beer_Style_Graph' nodeCount=313 relationshipCount=1626 projectMillis=3053>]\n"
     ]
    }
   ],
   "source": [
    "query_create_graph = \"\"\"\n",
    "CALL gds.graph.project(\n",
    "    'Country_Beer_Style_Graph',\n",
    "    ['COUNTRIES', 'STYLES'],  \n",
    "    {\n",
    "        TOP_STYLE: {\n",
    "            orientation: 'UNDIRECTED',\n",
    "            properties: 'weight'\n",
    "        }\n",
    "    }\n",
    ");\n",
    "\"\"\"\n",
    "\n",
    "try:\n",
    "    result_create_graph = execute_write(driver, query_create_graph)\n",
    "    pprint(result_create_graph)\n",
    "except Exception as e:\n",
    "    print(e)"
   ]
  },
  {
   "cell_type": "code",
   "execution_count": 154,
   "metadata": {},
   "outputs": [
    {
     "name": "stdout",
     "output_type": "stream",
     "text": [
      "[<Record sourceNodeId=0 targetNodeId=9494220 propertyValue=1.0>,\n",
      " <Record sourceNodeId=0 targetNodeId=9494248 propertyValue=3.0>,\n",
      " <Record sourceNodeId=0 targetNodeId=9494267 propertyValue=4.0>,\n",
      " <Record sourceNodeId=0 targetNodeId=9494284 propertyValue=2.0>,\n",
      " <Record sourceNodeId=0 targetNodeId=9494285 propertyValue=5.0>,\n",
      " <Record sourceNodeId=1 targetNodeId=9494220 propertyValue=5.0>,\n",
      " <Record sourceNodeId=1 targetNodeId=9494228 propertyValue=4.0>,\n",
      " <Record sourceNodeId=1 targetNodeId=9494236 propertyValue=3.0>,\n",
      " <Record sourceNodeId=1 targetNodeId=9494237 propertyValue=1.0>,\n",
      " <Record sourceNodeId=1 targetNodeId=9494241 propertyValue=2.0>]\n"
     ]
    }
   ],
   "source": [
    "query_check_graph_weights = \"\"\"\n",
    "CALL gds.graph.relationshipProperty.stream('Country_Beer_Style_Graph', 'weight')\n",
    "YIELD sourceNodeId, targetNodeId, propertyValue\n",
    "RETURN sourceNodeId, targetNodeId, propertyValue\n",
    "LIMIT 10;\n",
    "\"\"\"\n",
    "\n",
    "try:\n",
    "    result_check_graph_weights = execute_read(driver, query_check_graph_weights)\n",
    "    pprint(result_check_graph_weights)\n",
    "except Exception as e:\n",
    "    print(e)"
   ]
  },
  {
   "cell_type": "code",
   "execution_count": 140,
   "metadata": {},
   "outputs": [
    {
     "name": "stdout",
     "output_type": "stream",
     "text": [
      "[<Record Country='AD' Beer_Style='American Blonde Ale' Weight=5>,\n",
      " <Record Country='AD' Beer_Style='German Hefeweizen' Weight=4>,\n",
      " <Record Country='AD' Beer_Style='English India Pale Ale (IPA)' Weight=3>,\n",
      " <Record Country='AD' Beer_Style='Smoke Beer' Weight=2>,\n",
      " <Record Country='AD' Beer_Style='German Doppelbock' Weight=1>,\n",
      " <Record Country='AE' Beer_Style='Low Alcohol Beer' Weight=5>,\n",
      " <Record Country='AE' Beer_Style='German Helles' Weight=4>,\n",
      " <Record Country='AG' Beer_Style='American Pale Ale (APA)' Weight=5>,\n",
      " <Record Country='AG' Beer_Style='Fruit and Field Beer' Weight=4>,\n",
      " <Record Country='AG' Beer_Style='American Porter' Weight=3>,\n",
      " <Record Country='AG' Beer_Style='American Light Lager' Weight=2>,\n",
      " <Record Country='AG' Beer_Style='American Adjunct Lager' Weight=1>,\n",
      " <Record Country='AL' Beer_Style='European Pale Lager' Weight=5>,\n",
      " <Record Country='AL' Beer_Style='Bohemian Pilsener' Weight=4>,\n",
      " <Record Country='AL' Beer_Style='American Amber / Red Lager' Weight=3>,\n",
      " <Record Country='AL' Beer_Style='American Blonde Ale' Weight=2>,\n",
      " <Record Country='AL' Beer_Style='German Maibock' Weight=1>,\n",
      " <Record Country='AM' Beer_Style='European Pale Lager' Weight=5>,\n",
      " <Record Country='AM' Beer_Style='Smoke Beer' Weight=4>,\n",
      " <Record Country='AM' Beer_Style='Munich Dunkel Lager' Weight=3>]\n"
     ]
    }
   ],
   "source": [
    "query_check_weights = \"\"\"\n",
    "MATCH (c:COUNTRIES)-[r]->(s:STYLES)\n",
    "RETURN c.name AS Country, s.name AS Beer_Style, r.weight AS Weight\n",
    "ORDER BY Country, Weight DESC\n",
    "LIMIT 20;\n",
    "\"\"\"\n",
    "\n",
    "try:\n",
    "    result_weights = execute_read(driver, query_check_weights)\n",
    "    pprint(result_weights)\n",
    "except Exception as e:\n",
    "    print(e)"
   ]
  },
  {
   "cell_type": "code",
   "execution_count": 141,
   "metadata": {},
   "outputs": [
    {
     "name": "stdout",
     "output_type": "stream",
     "text": [
      "[<Record Country1='CA' Country2='JM' similarity=1.0>]\n"
     ]
    }
   ],
   "source": [
    "query_similarity = \"\"\"\n",
    "CALL gds.nodeSimilarity.stream('Country_Beer_Style_Graph', {\n",
    "    similarityMetric: 'JACCARD',\n",
    "    relationshipWeightProperty: 'weight'  // Use the weight property\n",
    "})\n",
    "YIELD node1, node2, similarity\n",
    "\n",
    "WITH gds.util.asNode(node1) AS Node1, \n",
    "     gds.util.asNode(node2) AS Node2, \n",
    "     similarity\n",
    "\n",
    "WHERE labels(Node1) = ['COUNTRIES'] AND labels(Node2) = ['COUNTRIES']  // Only compare countries\n",
    "\n",
    "RETURN Node1.name AS Country1, \n",
    "       Node2.name AS Country2, \n",
    "       similarity\n",
    "ORDER BY similarity DESC\n",
    "limit 1;\n",
    "\"\"\"\n",
    "\n",
    "try:\n",
    "    result_similarity = execute_read(driver, query_similarity)\n",
    "    pprint(result_similarity)\n",
    "except Exception as e:\n",
    "    print(e)\n"
   ]
  },
  {
   "cell_type": "code",
   "execution_count": 142,
   "metadata": {},
   "outputs": [
    {
     "name": "stdout",
     "output_type": "stream",
     "text": [
      "[<Record similarity=1.0 frequency=256>,\n",
      " <Record similarity=0.8 frequency=4>,\n",
      " <Record similarity=0.7317073170731707 frequency=2>,\n",
      " <Record similarity=0.6666666666666666 frequency=367>,\n",
      " <Record similarity=0.6 frequency=12>,\n",
      " <Record similarity=0.5 frequency=168>,\n",
      " <Record similarity=0.42857142857142855 frequency=566>,\n",
      " <Record similarity=0.4 frequency=52>,\n",
      " <Record similarity=0.36 frequency=2>,\n",
      " <Record similarity=0.3333333333333333 frequency=97>,\n",
      " <Record similarity=0.3103448275862069 frequency=2>,\n",
      " <Record similarity=0.3076923076923077 frequency=2>,\n",
      " <Record similarity=0.29411764705882354 frequency=4>,\n",
      " <Record similarity=0.2857142857142857 frequency=87>,\n",
      " <Record similarity=0.2835820895522388 frequency=2>,\n",
      " <Record similarity=0.28205128205128205 frequency=4>,\n",
      " <Record similarity=0.2753623188405797 frequency=2>,\n",
      " <Record similarity=0.2608695652173913 frequency=2>,\n",
      " <Record similarity=0.25925925925925924 frequency=2>,\n",
      " <Record similarity=0.25 frequency=275>,\n",
      " <Record similarity=0.24050632911392406 frequency=2>,\n",
      " <Record similarity=0.2222222222222222 frequency=2>,\n",
      " <Record similarity=0.21568627450980393 frequency=2>,\n",
      " <Record similarity=0.20833333333333334 frequency=2>,\n",
      " <Record similarity=0.2 frequency=41>,\n",
      " <Record similarity=0.19148936170212766 frequency=2>,\n",
      " <Record similarity=0.1895424836601307 frequency=2>,\n",
      " <Record similarity=0.18421052631578946 frequency=2>,\n",
      " <Record similarity=0.18181818181818182 frequency=4>,\n",
      " <Record similarity=0.1794871794871795 frequency=2>,\n",
      " <Record similarity=0.17647058823529413 frequency=6>,\n",
      " <Record similarity=0.16666666666666666 frequency=24>,\n",
      " <Record similarity=0.16521739130434782 frequency=2>,\n",
      " <Record similarity=0.16037735849056603 frequency=2>,\n",
      " <Record similarity=0.15384615384615385 frequency=4>,\n",
      " <Record similarity=0.15254237288135594 frequency=2>,\n",
      " <Record similarity=0.15151515151515152 frequency=2>,\n",
      " <Record similarity=0.14285714285714285 frequency=21>,\n",
      " <Record similarity=0.14093959731543623 frequency=2>,\n",
      " <Record similarity=0.13793103448275862 frequency=6>,\n",
      " <Record similarity=0.13636363636363635 frequency=4>,\n",
      " <Record similarity=0.13432835820895522 frequency=2>,\n",
      " <Record similarity=0.13333333333333333 frequency=8>,\n",
      " <Record similarity=0.13043478260869565 frequency=2>,\n",
      " <Record similarity=0.12903225806451613 frequency=2>,\n",
      " <Record similarity=0.12643678160919541 frequency=2>,\n",
      " <Record similarity=0.125 frequency=40>,\n",
      " <Record similarity=0.12121212121212122 frequency=2>,\n",
      " <Record similarity=0.11764705882352941 frequency=4>,\n",
      " <Record similarity=0.11594202898550725 frequency=2>,\n",
      " <Record similarity=0.11538461538461539 frequency=2>,\n",
      " <Record similarity=0.11363636363636363 frequency=2>,\n",
      " <Record similarity=0.11320754716981132 frequency=2>,\n",
      " <Record similarity=0.11290322580645161 frequency=2>,\n",
      " <Record similarity=0.1125 frequency=1>,\n",
      " <Record similarity=0.1111111111111111 frequency=45>,\n",
      " <Record similarity=0.10909090909090909 frequency=2>,\n",
      " <Record similarity=0.10810810810810811 frequency=2>,\n",
      " <Record similarity=0.10638297872340426 frequency=1>,\n",
      " <Record similarity=0.10526315789473684 frequency=4>,\n",
      " <Record similarity=0.10344827586206896 frequency=4>,\n",
      " <Record similarity=0.1 frequency=16>,\n",
      " <Record similarity=0.09803921568627451 frequency=2>,\n",
      " <Record similarity=0.0975609756097561 frequency=2>,\n",
      " <Record similarity=0.09523809523809523 frequency=2>,\n",
      " <Record similarity=0.09433962264150944 frequency=3>,\n",
      " <Record similarity=0.09401709401709402 frequency=1>,\n",
      " <Record similarity=0.09375 frequency=3>,\n",
      " <Record similarity=0.09302325581395349 frequency=2>,\n",
      " <Record similarity=0.09090909090909091 frequency=22>,\n",
      " <Record similarity=0.08928571428571429 frequency=2>,\n",
      " <Record similarity=0.08695652173913043 frequency=6>,\n",
      " <Record similarity=0.08333333333333333 frequency=31>,\n",
      " <Record similarity=0.08235294117647059 frequency=1>,\n",
      " <Record similarity=0.07692307692307693 frequency=20>,\n",
      " <Record similarity=0.075 frequency=1>,\n",
      " <Record similarity=0.07462686567164178 frequency=1>,\n",
      " <Record similarity=0.07407407407407407 frequency=5>,\n",
      " <Record similarity=0.07317073170731707 frequency=2>,\n",
      " <Record similarity=0.07142857142857142 frequency=31>,\n",
      " <Record similarity=0.06976744186046512 frequency=3>,\n",
      " <Record similarity=0.06896551724137931 frequency=7>,\n",
      " <Record similarity=0.06779661016949153 frequency=2>,\n",
      " <Record similarity=0.06666666666666667 frequency=12>,\n",
      " <Record similarity=0.06451612903225806 frequency=1>,\n",
      " <Record similarity=0.06422018348623854 frequency=1>,\n",
      " <Record similarity=0.06382978723404255 frequency=2>,\n",
      " <Record similarity=0.0625 frequency=8>,\n",
      " <Record similarity=0.06060606060606061 frequency=2>,\n",
      " <Record similarity=0.058823529411764705 frequency=5>,\n",
      " <Record similarity=0.05660377358490566 frequency=1>,\n",
      " <Record similarity=0.05555555555555555 frequency=3>,\n",
      " <Record similarity=0.05263157894736842 frequency=10>,\n",
      " <Record similarity=0.05 frequency=4>,\n",
      " <Record similarity=0.047619047619047616 frequency=9>,\n",
      " <Record similarity=0.04716981132075472 frequency=1>,\n",
      " <Record similarity=0.045454545454545456 frequency=6>,\n",
      " <Record similarity=0.043478260869565216 frequency=19>,\n",
      " <Record similarity=0.041666666666666664 frequency=8>,\n",
      " <Record similarity=0.04 frequency=5>,\n",
      " <Record similarity=0.03896103896103896 frequency=1>,\n",
      " <Record similarity=0.038461538461538464 frequency=3>,\n",
      " <Record similarity=0.0380952380952381 frequency=1>,\n",
      " <Record similarity=0.037037037037037035 frequency=6>,\n",
      " <Record similarity=0.03571428571428571 frequency=3>,\n",
      " <Record similarity=0.034482758620689655 frequency=5>,\n",
      " <Record similarity=0.03333333333333333 frequency=1>,\n",
      " <Record similarity=0.03225806451612903 frequency=5>,\n",
      " <Record similarity=0.03076923076923077 frequency=1>,\n",
      " <Record similarity=0.030303030303030304 frequency=1>,\n",
      " <Record similarity=0.029411764705882353 frequency=1>,\n",
      " <Record similarity=0.02702702702702703 frequency=3>,\n",
      " <Record similarity=0.02631578947368421 frequency=2>,\n",
      " <Record similarity=0.025974025974025976 frequency=2>,\n",
      " <Record similarity=0.02564102564102564 frequency=1>,\n",
      " <Record similarity=0.025 frequency=1>,\n",
      " <Record similarity=0.0196078431372549 frequency=3>,\n",
      " <Record similarity=0.019230769230769232 frequency=3>,\n",
      " <Record similarity=0.01904761904761905 frequency=3>,\n",
      " <Record similarity=0.018867924528301886 frequency=4>,\n",
      " <Record similarity=0.018518518518518517 frequency=1>,\n",
      " <Record similarity=0.015384615384615385 frequency=2>,\n",
      " <Record similarity=0.015151515151515152 frequency=2>,\n",
      " <Record similarity=0.012987012987012988 frequency=6>,\n",
      " <Record similarity=0.01282051282051282 frequency=3>,\n",
      " <Record similarity=0.012658227848101266 frequency=2>,\n",
      " <Record similarity=0.009523809523809525 frequency=3>,\n",
      " <Record similarity=0.009433962264150943 frequency=2>,\n",
      " <Record similarity=0.009345794392523364 frequency=2>]\n"
     ]
    }
   ],
   "source": [
    "#Read the similarity reuslts distribution\n",
    "query = \"\"\"\n",
    "    CALL gds.nodeSimilarity.stream('Country_Beer_Style_Graph')\n",
    "    YIELD similarity\n",
    "    RETURN similarity, count(*) AS frequency\n",
    "    ORDER BY similarity DESC;\n",
    "\"\"\"\n",
    "\n",
    "result_cosine = execute_read(driver, query)\n",
    "pprint(result_cosine)"
   ]
  },
  {
   "cell_type": "markdown",
   "metadata": {},
   "source": [
    "We can definaltly see some differences in the similarity score now.\n",
    "\n",
    "At first, we calculated country similarity based on their top 5 most-produced beer styles, but we noticed that many country pairs had a similarity score of 1.0. This was unexpected since we expected more variation. The issue was that all beer styles in the top 5 were treated equally, without considering their ranking or dominance. Since many countries share the same most popular styles, the algorithm saw them as identical, even when their beer culture might differ.\n",
    "\n",
    "To fix this, we explicitly assigned weights to the relationships between countries and beer styles, ranking them from 5 to 1 based on their importance. Additionally, we changed the relationship direction from natural to undirected. This allowed beer styles to act as shared connections rather than one-way influences. These changes helped the similarity algorithm better distinguish countries."
   ]
  },
  {
   "cell_type": "markdown",
   "metadata": {},
   "source": [
    "#### <a id=\"most-popular-beer\"></a>5.2. Which beer is the most popular considering the number of users who reviewed it? DONE"
   ]
  },
  {
   "cell_type": "markdown",
   "metadata": {},
   "source": [
    "> first approach using gds.degree.stream(): measures the number of users who reviewed each beer using the weighted degree of connections. This directly answers the question of which beer has the most unique reviewers."
   ]
  },
  {
   "cell_type": "code",
   "execution_count": 143,
   "metadata": {},
   "outputs": [
    {
     "name": "stdout",
     "output_type": "stream",
     "text": [
      "ClientError('Failed to invoke procedure `gds.graph.drop`: Caused by: java.util.NoSuchElementException: Graph with name `most_popular_beer` does not exist on database `neo4j`. It might exist on another database.')\n"
     ]
    }
   ],
   "source": [
    "# Step 0 - Clear the graph (if it exists)\n",
    "try:\n",
    "    query = \"\"\"\n",
    "        CALL gds.graph.drop('most_popular_beer') YIELD graphName;\n",
    "    \"\"\"\n",
    "    result = execute_read(driver, query)\n",
    "    pprint(result)\n",
    "except Exception as e:\n",
    "    pprint(e)"
   ]
  },
  {
   "cell_type": "code",
   "execution_count": 144,
   "metadata": {},
   "outputs": [
    {
     "name": "stdout",
     "output_type": "stream",
     "text": [
      "[]\n"
     ]
    }
   ],
   "source": [
    "try:\n",
    "    query = \"\"\"\n",
    "        MATCH (u:USERS)-[:POSTED]->(r:REVIEWS)-[:REVIEWED]->(b:BEERS)\n",
    "        WITH b, COUNT(DISTINCT u) AS user_count\n",
    "        MERGE (b)-[:REVIEWED_BY {weight: user_count}]->(b);\n",
    "    \"\"\"\n",
    "    result = execute_write(driver, query)\n",
    "    pprint(result)\n",
    "except Exception as e:\n",
    "    pprint(e)"
   ]
  },
  {
   "cell_type": "code",
   "execution_count": 145,
   "metadata": {},
   "outputs": [
    {
     "name": "stdout",
     "output_type": "stream",
     "text": [
      "[<Record nodeProjection={'BEERS': {'label': 'BEERS', 'properties': {}}} relationshipProjection={'REVIEWED_BY': {'orientation': 'UNDIRECTED', 'aggregation': 'DEFAULT', 'type': 'REVIEWED_BY', 'properties': {'weight': {'defaultValue': None, 'property': 'weight', 'aggregation': 'DEFAULT'}}}} graphName='most_popular_beer' nodeCount=358752 relationshipCount=378732 projectMillis=3392>]\n"
     ]
    }
   ],
   "source": [
    "try:\n",
    "    query = \"\"\"\n",
    "        CALL gds.graph.project(\n",
    "            'most_popular_beer',\n",
    "            ['BEERS'],\n",
    "            {\n",
    "                REVIEWED_BY: {\n",
    "                    orientation: 'UNDIRECTED',\n",
    "                    properties: 'weight'\n",
    "                }\n",
    "            }\n",
    "        );\n",
    "\n",
    "    \"\"\"\n",
    "    result = execute_read(driver, query)\n",
    "    pprint(result)\n",
    "except Exception as e:\n",
    "    pprint(e)"
   ]
  },
  {
   "cell_type": "code",
   "execution_count": 146,
   "metadata": {},
   "outputs": [
    {
     "name": "stdout",
     "output_type": "stream",
     "text": [
      "[<Record beer_name='Breakfast Stout' num_users=9656.0>,\n",
      " <Record beer_name='90 Minute IPA' num_users=8788.0>,\n",
      " <Record beer_name='Pliny The Elder' num_users=8426.0>,\n",
      " <Record beer_name='Two Hearted Ale' num_users=8336.0>,\n",
      " <Record beer_name='Heady Topper' num_users=7946.0>,\n",
      " <Record beer_name='Sculpin IPA' num_users=7918.0>,\n",
      " <Record beer_name='Hopslam Ale' num_users=7686.0>,\n",
      " <Record beer_name='KBS (Kentucky Breakfast Stout)' num_users=7418.0>,\n",
      " <Record beer_name='Bourbon County Brand Stout' num_users=7230.0>,\n",
      " <Record beer_name='Old Rasputin' num_users=7058.0>]\n"
     ]
    }
   ],
   "source": [
    "try:\n",
    "    query = \"\"\"\n",
    "        CALL gds.degree.stream('most_popular_beer', {relationshipWeightProperty: 'weight'})\n",
    "        YIELD nodeId, score\n",
    "        RETURN gds.util.asNode(nodeId).name AS beer_name, score AS num_users\n",
    "        ORDER BY num_users DESC\n",
    "        LIMIT 10;\n",
    "\n",
    "    \"\"\"\n",
    "    result = execute_read(driver, query)\n",
    "    pprint(result)\n",
    "except Exception as e:\n",
    "    pprint(e)"
   ]
  },
  {
   "cell_type": "markdown",
   "metadata": {},
   "source": [
    "> second approach using gds.pageRank.stream(): which measures the importance of a beer in the network based on review connections."
   ]
  },
  {
   "cell_type": "code",
   "execution_count": 147,
   "metadata": {},
   "outputs": [
    {
     "name": "stdout",
     "output_type": "stream",
     "text": [
      "ClientError(\"Failed to invoke procedure `gds.graph.project.cypher`: Caused by: java.lang.IllegalArgumentException: A graph with name 'most_popular_beer' already exists.\")\n"
     ]
    }
   ],
   "source": [
    "try:\n",
    "    query = \"\"\"\n",
    "        CALL gds.graph.project.cypher(\n",
    "            'most_popular_beer',\n",
    "            'MATCH (u:USERS) RETURN id(u) AS id\n",
    "             UNION\n",
    "             MATCH (b:BEERS) RETURN id(b) AS id',\n",
    "            'MATCH (u:USERS)-[:POSTED]->(r:REVIEWS)-[:REVIEWED]->(b:BEERS)\n",
    "             WITH id(u) AS source, id(b) AS target, COUNT(DISTINCT u) AS weight\n",
    "             RETURN source, target, weight'\n",
    "        );\n",
    "    \"\"\"\n",
    "    result = execute_read(driver, query)\n",
    "    pprint(result)\n",
    "except Exception as e:\n",
    "    pprint(e)"
   ]
  },
  {
   "cell_type": "code",
   "execution_count": 148,
   "metadata": {},
   "outputs": [
    {
     "name": "stdout",
     "output_type": "stream",
     "text": [
      "[<Record beer_name='Café Negro Coffee Infused Porter' popularity=0.9612404689154858>,\n",
      " <Record beer_name='Lectio Divina' popularity=0.9612404689154858>,\n",
      " <Record beer_name='Winter Warmer' popularity=0.9612404689154858>,\n",
      " <Record beer_name=\"Four C's American Pale Ale\" popularity=0.9612404689154858>,\n",
      " <Record beer_name='Yvan The Great: Belgian-Style Blonde (Beer Camp Across America)' popularity=0.9612404689154858>,\n",
      " <Record beer_name='Red Rock Elephino' popularity=0.9612404689154858>,\n",
      " <Record beer_name=\"Tart 'n Juicy Sour IPA\" popularity=0.9612404689154858>,\n",
      " <Record beer_name='Cascade Sang Rouge' popularity=0.9612404689154858>,\n",
      " <Record beer_name='Cuivre' popularity=0.9612404689154858>,\n",
      " <Record beer_name=\"Pile O' Dirt Porter\" popularity=0.9612404689154858>]\n"
     ]
    }
   ],
   "source": [
    "try:\n",
    "    query = \"\"\"\n",
    "        CALL gds.pageRank.stream('most_popular_beer', {relationshipWeightProperty: 'weight'})\n",
    "        YIELD nodeId, score\n",
    "        RETURN gds.util.asNode(nodeId).name AS beer_name, score AS popularity\n",
    "        ORDER BY popularity DESC\n",
    "        LIMIT 10;\n",
    "    \"\"\"\n",
    "    result = execute_read(driver, query)\n",
    "    pprint(result)\n",
    "except Exception as e:\n",
    "    pprint(e)"
   ]
  },
  {
   "cell_type": "markdown",
   "metadata": {},
   "source": [
    "`Chosen Approach: Degree Centrality`\n",
    "\n",
    "- The first approach, is the most correct because it directly measures how many unique users have reviewed each beer. Since the problem 2 asks for the most popular beer based on the number of users who reviewed it, degree centrality (counting unique connections) is the best fit.\n",
    "- Using gds.degree.stream(), we calculate the weighted degree of each beer, which directly reflects the number of unique users who reviewed it. This method is more accurate for the given problem because it counts unique user interactions rather than measuring network influence like PageRank."
   ]
  },
  {
   "cell_type": "markdown",
   "metadata": {},
   "source": [
    "#### <a id=\"user-communities\"></a>5.3. How many communities are formed from these relationships? How many users are in the three largest communities? OPTIONAL DUE TO MEMORY ISSUES\n",
    "\n",
    "The reason we not choose this as one of the question directly is because we keep running into memory problems."
   ]
  },
  {
   "cell_type": "code",
   "execution_count": 149,
   "metadata": {},
   "outputs": [
    {
     "name": "stdout",
     "output_type": "stream",
     "text": [
      "ClientError('Failed to invoke procedure `gds.graph.drop`: Caused by: java.util.NoSuchElementException: Graph with name `beer_communities` does not exist on database `neo4j`. It might exist on another database.')\n"
     ]
    }
   ],
   "source": [
    "#Step 0 - Clear the graph (if it exists)\n",
    "try:\n",
    "    query = \"\"\"\n",
    "        CALL gds.graph.drop('beer_communities') YIELD graphName;\n",
    "    \"\"\"\n",
    "    result = execute_read(driver, query)\n",
    "    pprint(result)\n",
    "except Exception as e:\n",
    "    pprint(e)"
   ]
  },
  {
   "cell_type": "code",
   "execution_count": 150,
   "metadata": {},
   "outputs": [
    {
     "name": "stdout",
     "output_type": "stream",
     "text": [
      "[]\n"
     ]
    }
   ],
   "source": [
    "# Step 1 - Create the Graph Projection\n",
    "try:\n",
    "    query = \"\"\"\n",
    "        MATCH (u1:USERS)-[:POSTED]->(r1:REVIEWS)-[:REVIEWED]->(b:BEERS)<-[:REVIEWED]-(r2:REVIEWS)<-[:POSTED]-(u2:USERS)\n",
    "        WHERE u1 <> u2\n",
    "        WITH u1, u2, COUNT(DISTINCT b) AS weight\n",
    "        LIMIT 100000  // Process only 100,000 relationships\n",
    "        MERGE (u1)-[r:REVIEWED_SAME_BEER {weight: weight}]->(u2);\n",
    "    \"\"\"\n",
    "    result = execute_write(driver, query)\n",
    "    pprint(result)\n",
    "except Exception as e:\n",
    "    pprint(e)"
   ]
  },
  {
   "cell_type": "markdown",
   "metadata": {},
   "source": [
    "We connect users who reviewed the same beer and calculate a weight based on how many distinct beers both users reviewed. To prevent excessive memory usage, we limit the processing to 100,000 relationships. Unfortunately, due to memory constraints, we were unable to test this approach with a larger dataset. This means the solution is not fully complete, as it does not analyze all possible relationships. However, we decided to keep the logic of the code:"
   ]
  },
  {
   "cell_type": "code",
   "execution_count": 151,
   "metadata": {},
   "outputs": [
    {
     "name": "stdout",
     "output_type": "stream",
     "text": [
      "[<Record total_relationships=100000>]\n"
     ]
    }
   ],
   "source": [
    "try:\n",
    "    query = \"\"\"\n",
    "        MATCH (u1:USERS)-[r:REVIEWED_SAME_BEER]->(u2:USERS)\n",
    "        RETURN count(r) AS total_relationships;\n",
    "    \"\"\"\n",
    "    result = execute_read(driver, query)\n",
    "    pprint(result)\n",
    "except Exception as e:\n",
    "    pprint(e)"
   ]
  },
  {
   "cell_type": "code",
   "execution_count": 159,
   "metadata": {},
   "outputs": [
    {
     "name": "stdout",
     "output_type": "stream",
     "text": [
      "[<Record user1='bluejacket74' user2='GratefulBeerGuy' weight=34>,\n",
      " <Record user1='_dirty_' user2='GratefulBeerGuy' weight=1>,\n",
      " <Record user1='_dirty_' user2='CJDUBYA' weight=1>,\n",
      " <Record user1='CJDUBYA' user2='GratefulBeerGuy' weight=1>,\n",
      " <Record user1='CJDUBYA' user2='_dirty_' weight=1>,\n",
      " <Record user1='GratefulBeerGuy' user2='_dirty_' weight=1>,\n",
      " <Record user1='GratefulBeerGuy' user2='bluejacket74' weight=34>,\n",
      " <Record user1='GratefulBeerGuy' user2='CJDUBYA' weight=1>,\n",
      " <Record user1='LukeGude' user2='GratefulBeerGuy' weight=24>,\n",
      " <Record user1='LukeGude' user2='_dirty_' weight=2>]\n"
     ]
    }
   ],
   "source": [
    "try:\n",
    "    query = \"\"\"\n",
    "        MATCH (u1:USERS)-[r:REVIEWED_SAME_BEER]->(u2:USERS)\n",
    "        RETURN u1.name AS user1, u2.name AS user2, r.weight AS weight\n",
    "        LIMIT 10;\n",
    "    \"\"\"\n",
    "    result = execute_read(driver, query)\n",
    "    pprint(result)\n",
    "except Exception as e:\n",
    "    pprint(e)"
   ]
  },
  {
   "cell_type": "code",
   "execution_count": 160,
   "metadata": {},
   "outputs": [
    {
     "name": "stdout",
     "output_type": "stream",
     "text": [
      "[<Record nodeQuery='MATCH (u:USERS) RETURN id(u) AS id' relationshipQuery='MATCH (u1:USERS)-[r:REVIEWED_SAME_BEER]->(u2:USERS)\\n             WHERE r.weight > 1\\n             RETURN id(u1) AS source, id(u2) AS target, r.weight AS weight' graphName='beer_communities' nodeCount=106645 relationshipCount=50442 projectMillis=452>]\n"
     ]
    }
   ],
   "source": [
    "try:\n",
    "    query = \"\"\"\n",
    "        CALL gds.graph.project.cypher(\n",
    "            'beer_communities',\n",
    "            'MATCH (u:USERS) RETURN id(u) AS id',\n",
    "            'MATCH (u1:USERS)-[r:REVIEWED_SAME_BEER]->(u2:USERS)\n",
    "             WHERE r.weight > 1\n",
    "             RETURN id(u1) AS source, id(u2) AS target, r.weight AS weight'\n",
    "        );\n",
    "    \"\"\"\n",
    "    result = execute_read(driver, query)\n",
    "    pprint(result)\n",
    "except Exception as e:\n",
    "    pprint(e)"
   ]
  },
  {
   "cell_type": "code",
   "execution_count": 161,
   "metadata": {},
   "outputs": [
    {
     "name": "stdout",
     "output_type": "stream",
     "text": [
      "[<Record communityCount=76786 ranIterations=3 didConverge=True>]\n"
     ]
    }
   ],
   "source": [
    "#Step 2 - Get the Number of Communities\n",
    "try:\n",
    "    query = \"\"\"\n",
    "        CALL gds.labelPropagation.stats('beer_communities')\n",
    "        YIELD communityCount, ranIterations, didConverge;\n",
    "    \"\"\"\n",
    "    result = execute_read(driver, query)\n",
    "    pprint(result)\n",
    "except Exception as e:\n",
    "    pprint(e)"
   ]
  },
  {
   "cell_type": "code",
   "execution_count": 162,
   "metadata": {},
   "outputs": [
    {
     "name": "stdout",
     "output_type": "stream",
     "text": [
      "[<Record Community=9494329 freq=28854>,\n",
      " <Record Community=9494327 freq=1005>,\n",
      " <Record Community=9494328 freq=3>]\n"
     ]
    }
   ],
   "source": [
    "#Step 3 - Find the Three Largest Communities\n",
    "try:\n",
    "    query = \"\"\"\n",
    "        CALL gds.labelPropagation.stream('beer_communities')\n",
    "        YIELD nodeId, communityId AS Community\n",
    "        WITH Community, count(*) AS freq\n",
    "        ORDER BY freq DESC\n",
    "        LIMIT 3\n",
    "        RETURN Community, freq;\n",
    "    \"\"\"\n",
    "    result = execute_read(driver, query)\n",
    "    pprint(result)\n",
    "except Exception as e:\n",
    "    pprint(e)"
   ]
  },
  {
   "cell_type": "code",
   "execution_count": 163,
   "metadata": {},
   "outputs": [
    {
     "name": "stdout",
     "output_type": "stream",
     "text": [
      "[<Record Name='_dirty_'>,\n",
      " <Record Name='MBruckerATC'>,\n",
      " <Record Name='PDOR1960'>,\n",
      " <Record Name='goblue30'>,\n",
      " <Record Name='Lcoblentz'>,\n",
      " <Record Name='Jakethesnake503'>,\n",
      " <Record Name='Loogs'>,\n",
      " <Record Name='Schmaltz33'>,\n",
      " <Record Name='prtwin2a'>,\n",
      " <Record Name='arr3388'>,\n",
      " <Record Name='Sloanerb'>,\n",
      " <Record Name='Dloschiavo'>,\n",
      " <Record Name='mmenard169'>,\n",
      " <Record Name='JonB25'>,\n",
      " <Record Name='bibo_ergo_sum'>,\n",
      " <Record Name='digboy'>,\n",
      " <Record Name='DrewGingras'>,\n",
      " <Record Name='Glennp64'>,\n",
      " <Record Name='AndrewCataldo23'>,\n",
      " <Record Name='yossle'>]\n"
     ]
    }
   ],
   "source": [
    "#Step 4 - List Some Users in a Specific Community\n",
    "try:\n",
    "    query = \"\"\"\n",
    "        CALL gds.labelPropagation.stream('beer_communities')\n",
    "        YIELD nodeId, communityId AS Community\n",
    "        WITH gds.util.asNode(nodeId).name AS Name, Community\n",
    "        WHERE Community = 9494327\n",
    "        RETURN Name\n",
    "        LIMIT 20;\n",
    "    \"\"\"\n",
    "    result = execute_read(driver, query)\n",
    "    pprint(result)\n",
    "except Exception as e:\n",
    "    pprint(e)"
   ]
  }
 ],
 "metadata": {
  "hide_input": false,
  "kernelspec": {
   "display_name": "base",
   "language": "python",
   "name": "python3"
  },
  "language_info": {
   "codemirror_mode": {
    "name": "ipython",
    "version": 3
   },
   "file_extension": ".py",
   "mimetype": "text/x-python",
   "name": "python",
   "nbconvert_exporter": "python",
   "pygments_lexer": "ipython3",
   "version": "3.12.3"
  },
  "toc": {
   "base_numbering": 1,
   "nav_menu": {},
   "number_sections": true,
   "sideBar": true,
   "skip_h1_title": false,
   "title_cell": "Table of Contents",
   "title_sidebar": "Contents",
   "toc_cell": false,
   "toc_position": {},
   "toc_section_display": true,
   "toc_window_display": false
  },
  "varInspector": {
   "cols": {
    "lenName": 16,
    "lenType": 16,
    "lenVar": 40
   },
   "kernels_config": {
    "python": {
     "delete_cmd_postfix": "",
     "delete_cmd_prefix": "del ",
     "library": "var_list.py",
     "varRefreshCmd": "print(var_dic_list())"
    },
    "r": {
     "delete_cmd_postfix": ") ",
     "delete_cmd_prefix": "rm(",
     "library": "var_list.r",
     "varRefreshCmd": "cat(var_dic_list()) "
    }
   },
   "types_to_exclude": [
    "module",
    "function",
    "builtin_function_or_method",
    "instance",
    "_Feature"
   ],
   "window_display": false
  }
 },
 "nbformat": 4,
 "nbformat_minor": 4
}
