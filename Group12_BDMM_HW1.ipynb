{
 "cells": [
  {
   "cell_type": "markdown",
   "metadata": {},
   "source": [
    "# Big Data Modeling and Management Assigment - Homework 1"
   ]
  },
  {
   "cell_type": "markdown",
   "metadata": {},
   "source": [
    "# Submission\n",
    "\n",
    "GROUP NUMBER: **12** - please add your group number into the file name\n",
    "\n",
    "GROUP MEMBERS:\n",
    "\n",
    "|STUDENT NAME|STUDENT NUMBER|\n",
    "|---|---|\n",
    "|Catarina Gonçalves Nunes|20230083|\n",
    "|XXXXXX|XXXXXX|\n",
    "|XXXXXX|XXXXXX|\n",
    "|XXXXXX|XXXXXX|"
   ]
  },
  {
   "cell_type": "markdown",
   "metadata": {},
   "source": [
    "## 🍺 The Beer project  🍺 \n",
    "\n",
    "As it was shown in classes, graph databases are a natural way of navegating related information. For this first project we will be taking a graph database to analyse beer and breweries!   \n",
    "\n",
    "The project datasets are based on [kaggle](https://www.kaggle.com/ehallmar/beers-breweries-and-beer-reviews), released by Evan Hallmark. \n",
    "\n",
    "### Problem description\n",
    "\n",
    "Imagine you are working in the Data Management department of Analytics company.\n",
    "Explore the database via python neo4j connector and/or the graphical tool in the NEO4J webpage. Answer the questions while adjusting the database to meet the needs of your colleagues.\n",
    "Please record and keep track of your database changes, and submit the file with all cells run and with the output shown.\n",
    "\n",
    "### Questions\n",
    "\n",
    "1. Explore the database: get familiar with current schema, elements and other important database parameters. [1 point]\n",
    "2. Adjust the database and mention reasoning behind: e.g. clean errors, remove redundancies, adjust schema as necessary. Visualize the final version of database schema. [4 points]\n",
    "3. Analytics department requires the following information for the biweekly reporting: [5 points]\n",
    "    1. How many reviews has the beer with the most reviews?\n",
    "    2. Which three users wrote the most reviews about beers?\n",
    "    3. Find all beers that are described with following words: 'fruit', 'complex', 'nutty', 'dark'.\n",
    "    4. Which top three breweries produce the largest variety of beer styles?\n",
    "    5. Which country produces the most beer styles?\n",
    "4. Market Analysis department in your company accesses and updates the trends data on the daily basis. Given that, consider how you need to optimize the database and its performance so that the following queries are efficient. Measure performance to communicate your improvements using PROFILE before final query. Answer the following: [4 points]\n",
    "    1. Using ABV score, find five strongest beers, display their ABV score and the corresponding brewery? Keep in mind that the strongest known beer is Snake Venom, and deal with the error entries in the database.\n",
    "    2. Using the answer from question 2, find the top 5 distict beer styles with the highest average score of smell + feel that were reviewed by the third most productive user. Keep in mind that cleaning the database earlier should ensure correct results.\n",
    "5. Answer **two out of four** of the following questions using Graph Algorithms (gds): [NB: make sure to clear the graph before using it again] For the quarterly report, Analytics department the follownig information. [6 points]\n",
    "    1. Which two countries are most similiar when it comes to their top five most produced Beer styles?\n",
    "    2. Which beer is the most popular when considering the number of users who reviewed it? \n",
    "    3. Users are connected together by their reviews of beers, taking into consideration the \"smell\" score they assign as a weight, how many communities are formed from these relationships? How many users are in the three largest communities? \n",
    "    4. Which user is the most influential when it comes to reviews of distinct beers by style?\n",
    " \n",
    "### Groups  \n",
    "\n",
    "Groups should have 4 people maximum. Please mark which group you are here: https://shorturl.at/zE0QP \n",
    "\n",
    "### Submission      \n",
    "\n",
    "The code used to produce the results and to-the-point explations should be uploaded to moodle. They should have a clear reference to the group, either on the file name or on the document itself. Preferably one Jupyter notebook per group.\n",
    "\n",
    "Delivery date: Until the **midnight of March 18, 2025**\n",
    "\n",
    "### Evaluation   \n",
    "\n",
    "This will be 20% of the final grade.   \n",
    "Each solution will be evaluated on 2 components: correctness of results and efficiency of the query (based on database schema).  \n",
    "All code will go through plagiarism automated checks. Groups with the same code will undergo investigation."
   ]
  },
  {
   "cell_type": "markdown",
   "metadata": {},
   "source": [
    "## Loading the Database\n",
    "\n",
    "#### Be sure that you **don't have** the neo4j docker container from the classes running (you can Stop it in the desktop app or with the command \"`docker stop Neo4JLab`\")\n",
    "\n",
    "\n",
    "The default container does not have any data whatsoever, we will have to load a database into our docker image:\n",
    "- Download and unzip the `Neo4JHWData` file provided in Moodle.\n",
    "- Copy the path of the `Neo4JHWData` folder of the unziped file, e.g. `C:/PATH/Neo4JHWData/data`.\n",
    "- Download and unzip the `Neo4JPlugins` file provided in Moodle.\n",
    "- Copy the path of the `Neo4JPlugins` folder of the unziped file, e.g. `C:/PATH/Neo4Jplugins`.\n",
    "- Change the code below accordingly. As you might have noticed, you do not have a user called `nunoa`, please use the appropriate path that you got from the previous step. Be sure that you have a neo4j docker container running: \\\n",
    "\n",
    "`docker run --name Neo4JHW2025 -p 7474:7474 -p 7687:7687 -d -v \"c:\\PATH\\Neo4JPlugins\":/plugins -v \"c:\\PATH\\Neo4JHWData\\data\":/data --env NEO4J_AUTH=neo4j/test --env NEO4J_dbms_connector_https_advertised__address=\"localhost:7473\" --env NEO4J_dbms_connector_http_advertised__address=\"localhost:7474\" --env NEO4J_dbms_connector_bolt_advertised__address=\"localhost:7687\" --env NEO4J_dbms_security_procedures_unrestricted=gds.* --env NEO4J_dbms_security_procedures_allowlist=\"gds.*\" neo4j:4.4.5`\n",
    "\n",
    "- Since Neo4j is trying to recognize a new database folder, this might take a bit (let's say 3 minutes), so don't worry.\n",
    "\n",
    "If the neo4j browser fails to load gds plugins, run the following in the Command Prompt before creating the container again:\n",
    "`// Remove stopped containers //\n",
    "docker container prune -f\n",
    "// Remove unused images //\n",
    "docker image prune -a -f\n",
    "// Remove unused volumes //\n",
    "docker volume prune -f\n",
    "// Remove unused networks //\n",
    "docker network prune -f\n",
    "// Remove all unused resources in one command //\n",
    "docker system prune -a -f`"
   ]
  },
  {
   "cell_type": "markdown",
   "metadata": {},
   "source": [
    "## Index\n",
    "\n",
    "1. [Explore the Database: Understanding the Current Schema, Elements, and Important Parameters](#explore-the-database)\n",
    "2. [Adjust the Database and Mention the Reasoning Behind the Adjustments](#adjust-the-database) \n",
    "3. [Analytics Department Biweekly Reporting Requirements](#analytics-department)\n",
    "   1. [How many reviews does the beer with the most reviews have?](#beer-with-most-reviews)\n",
    "   2. [Which three users wrote the most reviews about beers?](#three-users-most-reviews)\n",
    "   3. [Find all beers that are described with the following words: 'fruit', 'complex', 'nutty', 'dark'.](#beers-with-descriptions)\n",
    "   4. [Which top three breweries produce the largest variety of beer styles?](#top-three-breweries)\n",
    "   5. [Which country produces the most beer styles?](#country-most-styles)\n",
    "4. [Optimizing Database Performance for Market Analysis Department](#optimizing-performance)\n",
    "   1. [Using ABV score, find five strongest beers, display their ABV score and the corresponding brewery.](#strongest-beers)\n",
    "   2. [Find the top 5 distinct beer styles with the highest average score of smell and feel that were reviewed by the third most productive user.](#top-5-beer-styles)\n",
    "5. [Answer Two Out of Four Questions Using Graph Algorithms (gds)](##graph-algorithms)\n",
    "   1. [Which two countries are most similar when it comes to their top five most produced Beer styles?](#similar-countries)\n",
    "   2. [Which beer is the most popular considering the number of users who reviewed it?](#most-popular-beer)\n",
    "   3. [How many communities are formed from these relationships? How many users are in the three largest communities?](#user-communities)\n",
    "   4. [Which user is the most influential when it comes to reviews of distinct beers by style?](#influential-user)"
   ]
  },
  {
   "cell_type": "markdown",
   "metadata": {},
   "source": [
    "### <div class=\"alert-warning\"> <a id=\"explore-the-database\"></a>1. Explore the Database: Understanding the Current Schema, Elements, and Important Parameters </div>"
   ]
  },
  {
   "cell_type": "code",
   "execution_count": 3,
   "metadata": {},
   "outputs": [],
   "source": [
    "#! pip install neo4j"
   ]
  },
  {
   "cell_type": "code",
   "execution_count": 1,
   "metadata": {
    "ExecuteTime": {
     "end_time": "2024-02-29T21:45:57.447501Z",
     "start_time": "2024-02-29T21:45:56.625014Z"
    }
   },
   "outputs": [],
   "source": [
    "from neo4j import GraphDatabase\n",
    "from pprint import pprint"
   ]
  },
  {
   "cell_type": "code",
   "execution_count": 2,
   "metadata": {
    "ExecuteTime": {
     "end_time": "2024-02-29T21:46:09.652569Z",
     "start_time": "2024-02-29T21:46:09.648166Z"
    }
   },
   "outputs": [],
   "source": [
    "NEO4J_URI=\"neo4j://localhost:7687\"\n",
    "NEO4J_USERNAME=\"neo4j\"\n",
    "NEO4J_PASSWORD=\"test\""
   ]
  },
  {
   "cell_type": "code",
   "execution_count": 3,
   "metadata": {
    "ExecuteTime": {
     "end_time": "2024-02-29T21:46:10.939324Z",
     "start_time": "2024-02-29T21:46:10.934651Z"
    }
   },
   "outputs": [],
   "source": [
    "driver = GraphDatabase.driver(NEO4J_URI, auth=(NEO4J_USERNAME, NEO4J_PASSWORD), )"
   ]
  },
  {
   "cell_type": "code",
   "execution_count": 4,
   "metadata": {
    "ExecuteTime": {
     "end_time": "2024-02-29T21:46:14.291655Z",
     "start_time": "2024-02-29T21:46:14.286865Z"
    }
   },
   "outputs": [],
   "source": [
    "def execute_read(driver, query):    \n",
    "    with driver.session(database=\"neo4j\") as session:\n",
    "        result = session.execute_read(lambda tx, query: list(tx.run(query)), query)\n",
    "    return result"
   ]
  },
  {
   "cell_type": "markdown",
   "metadata": {},
   "source": [
    "1.1 Dataset nodes (labels), Relationships and Schema:"
   ]
  },
  {
   "cell_type": "code",
   "execution_count": 5,
   "metadata": {},
   "outputs": [
    {
     "name": "stdout",
     "output_type": "stream",
     "text": [
      "[<Record label='COUNTRIES'>,\n",
      " <Record label='CITIES'>,\n",
      " <Record label='BREWERIES'>,\n",
      " <Record label='BEERS'>,\n",
      " <Record label='REVIEWS'>,\n",
      " <Record label='STYLE'>,\n",
      " <Record label='USER'>]\n"
     ]
    }
   ],
   "source": [
    "query = \"\"\"\n",
    "       call db.labels();\n",
    "    \"\"\"\n",
    "\n",
    "result = execute_read(driver, query)\n",
    "\n",
    "pprint(result)"
   ]
  },
  {
   "cell_type": "markdown",
   "metadata": {},
   "source": [
    "make the names consistent"
   ]
  },
  {
   "cell_type": "code",
   "execution_count": 6,
   "metadata": {},
   "outputs": [
    {
     "name": "stdout",
     "output_type": "stream",
     "text": [
      "[<Record EntityType=['COUNTRIES'] Properties=['name']>,\n",
      " <Record EntityType=['CITIES'] Properties=['name']>,\n",
      " <Record EntityType=['BREWERIES'] Properties=['notes', 'types', 'id', 'name', 'state']>,\n",
      " <Record EntityType=['BREWERIES'] Properties=['notes', 'id', 'types', 'state', 'name']>,\n",
      " <Record EntityType=['BREWERIES'] Properties=['state', 'id', 'name', 'types', 'notes']>,\n",
      " <Record EntityType=['BREWERIES'] Properties=['notes', 'types', 'name', 'state', 'id']>,\n",
      " <Record EntityType=['BREWERIES'] Properties=['id', 'notes', 'state', 'types', 'name']>,\n",
      " <Record EntityType=['BREWERIES'] Properties=['id', 'notes', 'state', 'name', 'types']>,\n",
      " <Record EntityType=['BREWERIES'] Properties=['state', 'id', 'types', 'notes', 'name']>,\n",
      " <Record EntityType=['BREWERIES'] Properties=['notes', 'types', 'state', 'id', 'name']>,\n",
      " <Record EntityType=['BREWERIES'] Properties=['notes', 'id', 'name', 'types', 'state']>,\n",
      " <Record EntityType=['BREWERIES'] Properties=['id', 'types', 'state', 'name', 'notes']>,\n",
      " <Record EntityType=['BREWERIES'] Properties=['types', 'state', 'id', 'name', 'notes']>,\n",
      " <Record EntityType=['BREWERIES'] Properties=['state', 'id', 'types', 'name', 'notes']>,\n",
      " <Record EntityType=['BREWERIES'] Properties=['notes', 'id', 'types', 'name', 'state']>,\n",
      " <Record EntityType=['BREWERIES'] Properties=['state', 'id', 'notes', 'name', 'types']>,\n",
      " <Record EntityType=['BREWERIES'] Properties=['id', 'types', 'notes', 'state', 'name']>,\n",
      " <Record EntityType=['BREWERIES'] Properties=['notes', 'name', 'types', 'state', 'id']>,\n",
      " <Record EntityType=['BREWERIES'] Properties=['notes', 'state', 'id', 'name', 'types']>,\n",
      " <Record EntityType=['BREWERIES'] Properties=['types', 'name', 'notes', 'state', 'id']>,\n",
      " <Record EntityType=['BREWERIES'] Properties=['id', 'types', 'notes', 'name', 'state']>,\n",
      " <Record EntityType=['BREWERIES'] Properties=['id', 'notes', 'types', 'state', 'name']>,\n",
      " <Record EntityType=['BREWERIES'] Properties=['types', 'id', 'name', 'notes', 'state']>,\n",
      " <Record EntityType=['BREWERIES'] Properties=['notes', 'state', 'id', 'types', 'name']>,\n",
      " <Record EntityType=['BREWERIES'] Properties=['id', 'notes', 'name', 'types', 'state']>,\n",
      " <Record EntityType=['BREWERIES'] Properties=['id', 'notes', 'types', 'name', 'state']>,\n",
      " <Record EntityType=['BREWERIES'] Properties=['id', 'name', 'types', 'notes', 'state']>,\n",
      " <Record EntityType=['BREWERIES'] Properties=['id', 'types', 'name', 'notes', 'state']>,\n",
      " <Record EntityType=['BREWERIES'] Properties=['types', 'notes', 'state', 'id', 'name']>,\n",
      " <Record EntityType=['BREWERIES'] Properties=['state', 'id', 'notes', 'types', 'name']>,\n",
      " <Record EntityType=['BEERS'] Properties=['notes', 'abv', 'name', 'state', 'id', 'retired', 'availability', 'brewery_id']>,\n",
      " <Record EntityType=['BEERS'] Properties=['id', 'abv', 'notes', 'state', 'name', 'retired', 'availability', 'brewery_id']>,\n",
      " <Record EntityType=['BEERS'] Properties=['abv', 'notes', 'id', 'name', 'state', 'retired', 'availability', 'brewery_id']>,\n",
      " <Record EntityType=['BEERS'] Properties=['notes', 'name', 'abv', 'availability', 'retired', 'brewery_id', 'state', 'id']>,\n",
      " <Record EntityType=['BEERS'] Properties=['state', 'id', 'abv', 'availability', 'retired', 'brewery_id', 'name', 'notes']>,\n",
      " <Record EntityType=['BEERS'] Properties=['id', 'abv', 'notes', 'state', 'availability', 'retired', 'brewery_id', 'name']>,\n",
      " <Record EntityType=['BEERS'] Properties=['notes', 'state', 'id', 'abv', 'availability', 'retired', 'brewery_id', 'name']>,\n",
      " <Record EntityType=['BEERS'] Properties=['notes', 'abv', 'name', 'availability', 'retired', 'brewery_id', 'state', 'id']>,\n",
      " <Record EntityType=['BEERS'] Properties=['state', 'id', 'abv', 'name', 'notes', 'retired', 'availability', 'brewery_id']>,\n",
      " <Record EntityType=['BEERS'] Properties=['abv', 'notes', 'id', 'availability', 'retired', 'brewery_id', 'name', 'state']>,\n",
      " <Record EntityType=['BEERS'] Properties=['id', 'abv', 'name', 'notes', 'state', 'retired', 'availability', 'brewery_id']>,\n",
      " <Record EntityType=['BEERS'] Properties=['abv', 'name', 'id', 'availability', 'retired', 'brewery_id', 'notes', 'state']>,\n",
      " <Record EntityType=['BEERS'] Properties=['abv', 'notes', 'name', 'availability', 'retired', 'brewery_id', 'state', 'id']>,\n",
      " <Record EntityType=['BEERS'] Properties=['id', 'abv', 'name', 'availability', 'retired', 'brewery_id', 'notes', 'state']>,\n",
      " <Record EntityType=['BEERS'] Properties=['abv', 'name', 'notes', 'state', 'id', 'retired', 'availability', 'brewery_id']>,\n",
      " <Record EntityType=['BEERS'] Properties=['id', 'abv', 'notes', 'name', 'state', 'retired', 'availability', 'brewery_id']>,\n",
      " <Record EntityType=['BEERS'] Properties=['abv', 'notes', 'name', 'state', 'id', 'retired', 'availability', 'brewery_id']>,\n",
      " <Record EntityType=['BEERS'] Properties=['id', 'abv', 'notes', 'availability', 'retired', 'brewery_id', 'name', 'state']>,\n",
      " <Record EntityType=['BEERS'] Properties=['notes', 'state', 'id', 'abv', 'name', 'retired', 'availability', 'brewery_id']>,\n",
      " <Record EntityType=['BEERS'] Properties=['state', 'id', 'abv', 'notes', 'name', 'retired', 'availability', 'brewery_id']>,\n",
      " <Record EntityType=['BEERS'] Properties=['notes', 'name', 'state', 'id', 'abv', 'retired', 'availability', 'brewery_id']>,\n",
      " <Record EntityType=['BEERS'] Properties=['id', 'abv', 'name', 'state', 'availability', 'retired', 'brewery_id', 'notes']>,\n",
      " <Record EntityType=['BEERS'] Properties=['state', 'id', 'abv', 'notes', 'availability', 'retired', 'brewery_id', 'name']>,\n",
      " <Record EntityType=['BEERS'] Properties=['notes', 'id', 'abv', 'name', 'state', 'retired', 'availability', 'brewery_id']>,\n",
      " <Record EntityType=['BEERS'] Properties=['state', 'id', 'abv', 'name', 'availability', 'retired', 'brewery_id', 'notes']>,\n",
      " <Record EntityType=['BEERS'] Properties=['abv', 'notes', 'state', 'id', 'availability', 'retired', 'brewery_id', 'name']>,\n",
      " <Record EntityType=['BEERS'] Properties=['notes', 'id', 'abv', 'availability', 'retired', 'brewery_id', 'name', 'state']>,\n",
      " <Record EntityType=['BEERS'] Properties=['abv', 'notes', 'state', 'id', 'name', 'retired', 'availability', 'brewery_id']>,\n",
      " <Record EntityType=['BEERS'] Properties=['notes', 'abv', 'name', 'id', 'retired', 'availability', 'brewery_id', 'state']>,\n",
      " <Record EntityType=['BEERS'] Properties=['notes', 'name', 'id', 'abv', 'retired', 'availability', 'brewery_id', 'state']>,\n",
      " <Record EntityType=['BEERS'] Properties=['abv', 'notes', 'id', 'name', 'retired', 'availability', 'brewery_id', 'state']>,\n",
      " <Record EntityType=['BEERS'] Properties=['abv', 'name', 'state', 'id', 'retired', 'availability', 'brewery_id', 'notes']>,\n",
      " <Record EntityType=['BEERS'] Properties=['id', 'abv', 'name', 'state', 'retired', 'availability', 'brewery_id', 'notes']>,\n",
      " <Record EntityType=['BEERS'] Properties=['id', 'abv', 'notes', 'state', 'retired', 'availability', 'brewery_id', 'name']>,\n",
      " <Record EntityType=['BEERS'] Properties=['state', 'id', 'abv', 'name', 'retired', 'availability', 'brewery_id', 'notes']>,\n",
      " <Record EntityType=['BEERS'] Properties=['notes', 'state', 'id', 'abv', 'retired', 'availability', 'brewery_id', 'name']>,\n",
      " <Record EntityType=['BEERS'] Properties=['id', 'abv', 'notes', 'name', 'retired', 'availability', 'brewery_id', 'state']>,\n",
      " <Record EntityType=['BEERS'] Properties=['notes', 'id', 'abv', 'name', 'retired', 'availability', 'brewery_id', 'state']>,\n",
      " <Record EntityType=['BEERS'] Properties=['id', 'abv', 'name', 'notes', 'retired', 'availability', 'brewery_id', 'state']>,\n",
      " <Record EntityType=['BEERS'] Properties=['abv', 'notes', 'name', 'id', 'retired', 'availability', 'brewery_id', 'state']>,\n",
      " <Record EntityType=['BEERS'] Properties=['abv', 'notes', 'state', 'id', 'retired', 'availability', 'brewery_id', 'name']>,\n",
      " <Record EntityType=['REVIEWS'] Properties=['text', 'smell', 'look', 'taste', 'feel', 'overall', 'beer_id', 'id', 'date', 'score']>,\n",
      " <Record EntityType=['REVIEWS'] Properties=['look', 'text', 'smell', 'taste', 'feel', 'overall', 'beer_id', 'id', 'date', 'score']>,\n",
      " <Record EntityType=['REVIEWS'] Properties=['smell', 'look', 'text', 'taste', 'feel', 'overall', 'beer_id', 'id', 'date', 'score']>,\n",
      " <Record EntityType=['REVIEWS'] Properties=['beer_id', 'text', 'smell', 'look', 'score', 'taste', 'feel', 'overall', 'id', 'date']>,\n",
      " <Record EntityType=['REVIEWS'] Properties=['look', 'beer_id', 'text', 'smell', 'score', 'taste', 'feel', 'overall', 'id', 'date']>,\n",
      " <Record EntityType=['REVIEWS'] Properties=['text', 'beer_id', 'smell', 'look', 'score', 'taste', 'feel', 'overall', 'id', 'date']>,\n",
      " <Record EntityType=['REVIEWS'] Properties=['smell', 'look', 'beer_id', 'text', 'score', 'taste', 'feel', 'overall', 'id', 'date']>,\n",
      " <Record EntityType=['STYLE'] Properties=['name']>,\n",
      " <Record EntityType=['USER'] Properties=['name']>]\n"
     ]
    }
   ],
   "source": [
    "\n",
    "query = \"\"\"\n",
    "       MATCH (n)\n",
    "       RETURN DISTINCT labels(n) AS EntityType, keys(n) AS Properties;\n",
    "\n",
    "    \"\"\"\n",
    "\n",
    "result = execute_read(driver, query)\n",
    "\n",
    "pprint(result)"
   ]
  },
  {
   "cell_type": "markdown",
   "metadata": {},
   "source": [
    "- EntityType=['COUNTRIES'] Properties=['name']\n",
    "- EntityType=['CITIES'] Properties=['name']\n",
    "- EntityType=['STYLE'] Properties=['name']\n",
    "- EntityType=['USER'] Properties=['name']\n",
    "- Inconsistency in ['BREWERIES'] properties ordering (e.g., ['notes', 'types', 'id', 'name', 'state'] appears in multiple variations -> Properties should be consistent in ordering, but this is mostly a display issue rather than a functional problem. Same for ['BEERS'] and ['REVIEWS']"
   ]
  },
  {
   "cell_type": "code",
   "execution_count": 6,
   "metadata": {},
   "outputs": [
    {
     "name": "stdout",
     "output_type": "stream",
     "text": [
      "[<Record relationshipType='REVIEWED'>,\n",
      " <Record relationshipType='BREWED'>,\n",
      " <Record relationshipType='IN'>,\n",
      " <Record relationshipType='HAS_STYLE'>,\n",
      " <Record relationshipType='POSTED'>]\n"
     ]
    }
   ],
   "source": [
    "query = \"\"\"\n",
    "        CALL db.relationshipTypes();\n",
    "    \"\"\"\n",
    "\n",
    "result = execute_read(driver, query)\n",
    "\n",
    "pprint(result)"
   ]
  },
  {
   "cell_type": "code",
   "execution_count": 8,
   "metadata": {},
   "outputs": [
    {
     "name": "stdout",
     "output_type": "stream",
     "text": [
      "[<Record nodes=[<Node element_id='-19' labels=frozenset({'REVIEWS'}) properties={'name': 'REVIEWS', 'indexes': ['id'], 'constraints': []}>, <Node element_id='-18' labels=frozenset({'BEERS'}) properties={'name': 'BEERS', 'indexes': ['id'], 'constraints': []}>, <Node element_id='-15' labels=frozenset({'COUNTRIES'}) properties={'name': 'COUNTRIES', 'indexes': ['name'], 'constraints': []}>, <Node element_id='-17' labels=frozenset({'BREWERIES'}) properties={'name': 'BREWERIES', 'indexes': ['id'], 'constraints': []}>, <Node element_id='-20' labels=frozenset({'STYLE'}) properties={'name': 'STYLE', 'indexes': ['name'], 'constraints': []}>, <Node element_id='-16' labels=frozenset({'CITIES'}) properties={'name': 'CITIES', 'indexes': ['name'], 'constraints': []}>, <Node element_id='-21' labels=frozenset({'USER'}) properties={'name': 'USER', 'indexes': ['name'], 'constraints': []}>] relationships=[<Relationship element_id='-17' nodes=(<Node element_id='-18' labels=frozenset({'BEERS'}) properties={'name': 'BEERS', 'indexes': ['id'], 'constraints': []}>, <Node element_id='-19' labels=frozenset({'REVIEWS'}) properties={'name': 'REVIEWS', 'indexes': ['id'], 'constraints': []}>) type='REVIEWED' properties={}>, <Relationship element_id='-18' nodes=(<Node element_id='-17' labels=frozenset({'BREWERIES'}) properties={'name': 'BREWERIES', 'indexes': ['id'], 'constraints': []}>, <Node element_id='-18' labels=frozenset({'BEERS'}) properties={'name': 'BEERS', 'indexes': ['id'], 'constraints': []}>) type='BREWED' properties={}>, <Relationship element_id='-22' nodes=(<Node element_id='-17' labels=frozenset({'BREWERIES'}) properties={'name': 'BREWERIES', 'indexes': ['id'], 'constraints': []}>, <Node element_id='-16' labels=frozenset({'CITIES'}) properties={'name': 'CITIES', 'indexes': ['name'], 'constraints': []}>) type='IN' properties={}>, <Relationship element_id='-21' nodes=(<Node element_id='-17' labels=frozenset({'BREWERIES'}) properties={'name': 'BREWERIES', 'indexes': ['id'], 'constraints': []}>, <Node element_id='-15' labels=frozenset({'COUNTRIES'}) properties={'name': 'COUNTRIES', 'indexes': ['name'], 'constraints': []}>) type='IN' properties={}>, <Relationship element_id='-19' nodes=(<Node element_id='-16' labels=frozenset({'CITIES'}) properties={'name': 'CITIES', 'indexes': ['name'], 'constraints': []}>, <Node element_id='-15' labels=frozenset({'COUNTRIES'}) properties={'name': 'COUNTRIES', 'indexes': ['name'], 'constraints': []}>) type='IN' properties={}>, <Relationship element_id='-20' nodes=(<Node element_id='-16' labels=frozenset({'CITIES'}) properties={'name': 'CITIES', 'indexes': ['name'], 'constraints': []}>, <Node element_id='-16' labels=frozenset({'CITIES'}) properties={'name': 'CITIES', 'indexes': ['name'], 'constraints': []}>) type='IN' properties={}>, <Relationship element_id='-23' nodes=(<Node element_id='-18' labels=frozenset({'BEERS'}) properties={'name': 'BEERS', 'indexes': ['id'], 'constraints': []}>, <Node element_id='-20' labels=frozenset({'STYLE'}) properties={'name': 'STYLE', 'indexes': ['name'], 'constraints': []}>) type='HAS_STYLE' properties={}>, <Relationship element_id='-24' nodes=(<Node element_id='-19' labels=frozenset({'REVIEWS'}) properties={'name': 'REVIEWS', 'indexes': ['id'], 'constraints': []}>, <Node element_id='-21' labels=frozenset({'USER'}) properties={'name': 'USER', 'indexes': ['name'], 'constraints': []}>) type='POSTED' properties={}>]>]\n"
     ]
    }
   ],
   "source": [
    "query = \"\"\"\n",
    "    CALL db.schema.visualization();\n",
    "\"\"\"\n",
    "result = execute_read(driver, query)\n",
    "pprint(result)"
   ]
  },
  {
   "cell_type": "markdown",
   "metadata": {},
   "source": [
    "From the schema visualization, the database contains the following nodes and relationships:\n",
    "\n",
    "- CITIES → Connected to COUNTRIES (relationship: IN), indicating that a city belongs to a specific country. It is also connected to itself with an IN relationship, which seems unusual and should be reviewed.\n",
    "- BREWERIES → Connected to BEERS (relationship: BREWED), meaning that a brewery produces multiple beers. It is also connected to CITIES and COUNTRIES (both relationships: IN), indicating the location of the brewery at both the city and country levels.\n",
    "- BEERS → Connected to STYLE (relationship: HAS_STYLE), specifying the beer’s style, and to REVIEWS (relationship: REVIEWED), linking beers to user reviews.\n",
    "- REVIEWS → Connected to USER (relationship: POSTED) - **seems inverted**\n",
    "\n",
    "![Database Schema Visualization](db.schema.visualization().png)\n",
    "\n",
    "\n",
    "Observations for adjustments:\n",
    "- Fix the direction of the following relationships: (REVIEW → POSTED → User) should be (USER)-[:POSTED]->(REVIEW), and  (BEER → REVIEWED → REVIEW)\n",
    "- BREWERIES connected to both CITIES and COUNTRIES → This could be redundant if cities already belong to countries. If every brewery has a city assigned, you can infer the country, making the direct IN relationship between breweries and countries unnecessary.\n",
    "- CITIES connected to itself (IN relationship) is unusual and might be an error. You should check if this represents hierarchical regions (e.g., neighborhoods within cities) or if it's a mistake:\n",
    "\n"
   ]
  },
  {
   "cell_type": "code",
   "execution_count": 15,
   "metadata": {},
   "outputs": [
    {
     "name": "stdout",
     "output_type": "stream",
     "text": [
      "[]\n"
     ]
    }
   ],
   "source": [
    "query = \"\"\"\n",
    "    MATCH (c1:CITIES)-[r:IN]->(c2:CITIES)\n",
    "    RETURN c1.name AS city, c2.name AS parent_city, COUNT(*) AS count\n",
    "    ORDER BY count DESC\n",
    "\"\"\"\n",
    "result = execute_read(driver, query)\n",
    "pprint(result)"
   ]
  },
  {
   "cell_type": "markdown",
   "metadata": {},
   "source": [
    "- There are no cities linked to other cities using the IN relationship ➡ This suggests that cities are not hierarchical (i.e., no neighborhoods inside cities)."
   ]
  },
  {
   "cell_type": "markdown",
   "metadata": {},
   "source": [
    "1.2 Duplicate entries:"
   ]
  },
  {
   "cell_type": "code",
   "execution_count": 18,
   "metadata": {},
   "outputs": [
    {
     "name": "stdout",
     "output_type": "stream",
     "text": [
      "[<Record entity='REVIEWS' total=2549252 unique=0>,\n",
      " <Record entity='BEERS' total=417746 unique=298567>,\n",
      " <Record entity='USER' total=123935 unique=123935>,\n",
      " <Record entity='BREWERIES' total=100694 unique=45245>,\n",
      " <Record entity='CITIES' total=23330 unique=11665>,\n",
      " <Record entity='COUNTRIES' total=400 unique=200>,\n",
      " <Record entity='STYLE' total=113 unique=113>]\n"
     ]
    }
   ],
   "source": [
    "query = \"\"\"\n",
    "    MATCH (n)\n",
    "    WITH labels(n)[0] AS entity, COUNT(n) AS total, COUNT(DISTINCT n.name) AS unique\n",
    "    RETURN entity, total, unique\n",
    "    ORDER BY total DESC;\n",
    "\"\"\"\n",
    "result = execute_read(driver, query)\n",
    "pprint(result)"
   ]
  },
  {
   "cell_type": "markdown",
   "metadata": {},
   "source": [
    "- ['REVIEWS'] ➡ all non unique wich is strange;\n",
    "- ['BEERS'] ➡ check for duplicates;\n",
    "- ['USER'] ➡ all good;\n",
    "- ['BREWERIES'] ➡ check for duplicates;\n",
    "- ['CITIES'] ➡ check for duplicates;\n",
    "- ['COUNTRIES'] ➡ check for duplicates;\n",
    "- ['STYLE'] ➡ all good."
   ]
  },
  {
   "cell_type": "markdown",
   "metadata": {},
   "source": [
    "> Reviews analysis"
   ]
  },
  {
   "cell_type": "code",
   "execution_count": 19,
   "metadata": {},
   "outputs": [
    {
     "name": "stdout",
     "output_type": "stream",
     "text": [
      "[<Record properties=['text', 'smell', 'look', 'taste', 'feel', 'overall', 'beer_id', 'id', 'date', 'score']>,\n",
      " <Record properties=['look', 'text', 'smell', 'taste', 'feel', 'overall', 'beer_id', 'id', 'date', 'score']>,\n",
      " <Record properties=['smell', 'look', 'text', 'taste', 'feel', 'overall', 'beer_id', 'id', 'date', 'score']>,\n",
      " <Record properties=[]>,\n",
      " <Record properties=['beer_id', 'text', 'smell', 'look', 'score', 'taste', 'feel', 'overall', 'id', 'date']>,\n",
      " <Record properties=['look', 'beer_id', 'text', 'smell', 'score', 'taste', 'feel', 'overall', 'id', 'date']>,\n",
      " <Record properties=['text', 'beer_id', 'smell', 'look', 'score', 'taste', 'feel', 'overall', 'id', 'date']>,\n",
      " <Record properties=['smell', 'look', 'beer_id', 'text', 'score', 'taste', 'feel', 'overall', 'id', 'date']>]\n"
     ]
    }
   ],
   "source": [
    "query = \"\"\"\n",
    "    MATCH (r:REVIEWS)\n",
    "    RETURN DISTINCT keys(r) AS properties\n",
    "    LIMIT 10;\n",
    "\"\"\"\n",
    "result = execute_read(driver, query)\n",
    "pprint(result)"
   ]
  },
  {
   "cell_type": "code",
   "execution_count": 25,
   "metadata": {},
   "outputs": [
    {
     "name": "stdout",
     "output_type": "stream",
     "text": [
      "[<Record r.id='1' r.date='2017-12-21' r.beer_id='125646' r.score='4.5' r.text='\\xa0\\xa0' r.overall='4.5' r.smell='4.5' r.look='4.5' r.taste='4.5' r.feel='4.5'>,\n",
      " <Record r.id='2' r.date='2017-12-21' r.beer_id='125646' r.score='4.75' r.text='\\xa0\\xa0' r.overall='4.75' r.smell='4.75' r.look='4.75' r.taste='4.75' r.feel='4.75'>,\n",
      " <Record r.id='3' r.date='2017-12-20' r.beer_id='125646' r.score='4.58' r.text='\\xa0\\xa0 0% 16 oz can. Funny story: As I finally walked in the doors after a 45 min wait in line and freezing temps the sweet sound of the Grateful Dead\\'s Sugar Magnolia greeted me from the TreeHouse sound system. The bottom of the can reads: \"Going where the wind goes, bloomin\\' like a red rose\" A white haze to the yellow and golden liquid. Thick and healthy, totally unfiltered. Brawny white foam cap, thick, all-white clumps. Huge lacing left over. The aroma has a very zesty citrus hop effect, mellon and mango, grainy earthiness, tropical fruit blend with a bitter to sweet effect, then a peppery kick at the end. Very aromatic. The flavor is just bursting with complex hops, zesty earthy tones, sweet orange, peppery malt, clean fresh feel and overall vibe. A crispy bite wakes you up, full and lush mouthfeel follows from a totally unfiltered expereince. The feel and flavor finishes with a fun, earthy, zesty dry bite. Tropical juicy, zesty citrus, zippy golden wheat malt, melons, rustic earthiness sums up the taste pretty well. Levels of complexity are deep. It\\'s an interesting ride for sure. Overall, this one stands somewhere near the top of the New England IPA\\'s. \\xa0' r.overall='4.5' r.smell='4.75' r.look='4.75' r.taste='4.5' r.feel='4.5'>,\n",
      " <Record r.id='4' r.date='2017-12-20' r.beer_id='125646' r.score='4.31' r.text='\\xa0\\xa0 Classic TH NEIPA. Overflowing head and bouquet. Strong flavor but smoother than 8.2%. Maybe peach nose but overall a general citrus punch.' r.overall='4.25' r.smell='4.5' r.look='4.25' r.taste='4.25' r.feel='4.25'>,\n",
      " <Record r.id='6' r.date='2017-12-19' r.beer_id='125646' r.score='4.69' r.text='\\xa0\\xa0' r.overall='4.75' r.smell='4.5' r.look='4.75' r.taste='4.75' r.feel='4.75'>,\n",
      " <Record r.id='12' r.date='2017-12-10' r.beer_id='125646' r.score='4.65' r.text='\\xa0\\xa0' r.overall='4.75' r.smell='4.5' r.look='4.5' r.taste='4.75' r.feel='4.5'>,\n",
      " <Record r.id='14' r.date='2017-12-09' r.beer_id='125646' r.score='5.0' r.text='\\xa0\\xa0' r.overall='5.0' r.smell='5.0' r.look='5.0' r.taste='5.0' r.feel='5.0'>,\n",
      " <Record r.id='18' r.date='2017-12-05' r.beer_id='125646' r.score='5.0' r.text='\\xa0\\xa0' r.overall='5.0' r.smell='5.0' r.look='5.0' r.taste='5.0' r.feel='5.0'>,\n",
      " <Record r.id='28' r.date='2017-03-29' r.beer_id='205644' r.score='3.92' r.text='\\xa0\\xa0 From the tall boy can and enjoyed in a snifter via a friend from work---THANKS JUSTIN! This unique brown pours a deep muddy blackish brown with an excellent head of dark tan foam that subsides to a thick ring, modest pool, and features some nice sudsy lacing. Nose of coconut milk, cocoa, and light cola notes. Flavors lightly exceed the nose with deeply roasted coconut with dark cola and cocoa flavors with a touch of chicory note to it on the rear of the taste. Nice mouth feel; coating, medium carbonation, medium body, and a bitter malt finish with just of touch of herbal hops. Overall it is a nice unique little brew. Cheers \\xa0' r.overall='4.0' r.smell='3.75' r.look='4.0' r.taste='4.0' r.feel='3.75'>,\n",
      " <Record r.id='32' r.date='2016-07-13' r.beer_id='205644' r.score='4.07' r.text='\\xa0\\xa0 Appearance: Pours a deep black, with tan head and very little lace. Aroma: Chocolate malts, coconut seeping in…pretty appealing. Taste: Rich! Sweet with plenty of coconut and cocoa, but with something different..a twist. There’s also a spiciness, like chicory in there…like a root beer spice. This one is really packed with deep flavor, rich and unusual. Not your father’s coconut brown ale, yes. Delicious, for sure! \\xa0' r.overall='4.0' r.smell='4.0' r.look='3.5' r.taste='4.25' r.feel='4.0'>]\n"
     ]
    }
   ],
   "source": [
    "query = \"\"\"\n",
    "    MATCH (r:REVIEWS)\n",
    "    RETURN r.id, r.date, r.beer_id, r.score, r.text, r.overall, r.smell, r.look, r.taste, r.feel\n",
    "    LIMIT 10;\n",
    "\n",
    "\"\"\"\n",
    "result = execute_read(driver, query)\n",
    "pprint(result)"
   ]
  },
  {
   "cell_type": "code",
   "execution_count": null,
   "metadata": {},
   "outputs": [],
   "source": [
    "query = \"\"\"\n",
    "    MATCH (r:REVIEWS)\n",
    "    WHERE r.text CONTAINS \"\\xa0\\xa0\"\n",
    "    RETURN COUNT(r) AS duplicate_count;\n",
    "\n",
    "\"\"\"\n",
    "result = execute_read(driver, query)\n",
    "pprint(result)"
   ]
  },
  {
   "cell_type": "code",
   "execution_count": null,
   "metadata": {},
   "outputs": [
    {
     "name": "stdout",
     "output_type": "stream",
     "text": [
      "[<Record b.id='19730' b.name='Brouwerij Danny' b.types='Brewery' b.state='nan' b.notes='No notes at this time.'>,\n",
      " <Record b.id='32541' b.name='Coachella Valley Brewing Co' b.types='Brewery, Bar, Beer-to-go' b.state='CA' b.notes='No notes at this time.'>,\n",
      " <Record b.id='44736' b.name=\"Beef 'O' Brady's\" b.types='Bar, Eatery' b.state='FL' b.notes='No notes at this time.'>,\n",
      " <Record b.id='23372' b.name='Broadway Wine Merchant' b.types='Store' b.state='OK' b.notes='No notes at this time.'>,\n",
      " <Record b.id='35328' b.name='Brighton Beer Dispensary (DUPLICATE)' b.types='Bar, Eatery' b.state='GB2' b.notes='Duplicate of https://www.beeradvocate.com/beer/profile/36929'>,\n",
      " <Record b.id='31561' b.name=\"Teddy's Tavern\" b.types='Bar, Beer-to-go' b.state='WA' b.notes='No notes at this time.'>,\n",
      " <Record b.id='35975' b.name='Modus Operandi Brewing Co.' b.types='Brewery, Bar, Eatery, Beer-to-go' b.state='nan' b.notes='No notes at this time.'>,\n",
      " <Record b.id='5618' b.name='Hops! Beer Restaurant & Pizza' b.types='Brewery, Bar, Eatery' b.state='nan' b.notes='No notes at this time.'>,\n",
      " <Record b.id='30916' b.name=\"Kelly's Cellars\" b.types='Bar' b.state='GB5' b.notes='No notes at this time.'>,\n",
      " <Record b.id='41278' b.name='The Other End' b.types='Bar, Eatery' b.state='FL' b.notes='No notes at this time.'>]\n"
     ]
    }
   ],
   "source": [
    "query = \"\"\"\n",
    "    MATCH (b:BREWERIES)\n",
    "    RETURN b.id, b.name, b.types, b.state, b.notes\n",
    "    LIMIT 10;\n",
    "\n",
    "\"\"\"\n",
    "result = execute_read(driver, query)\n",
    "pprint(result)"
   ]
  },
  {
   "cell_type": "code",
   "execution_count": 26,
   "metadata": {},
   "outputs": [
    {
     "name": "stdout",
     "output_type": "stream",
     "text": [
      "[<Record duplicate_count=296>]\n"
     ]
    }
   ],
   "source": [
    "query = \"\"\"\n",
    "    MATCH (b:BREWERIES)\n",
    "    WHERE b.name CONTAINS \"DUPLICATE\"\n",
    "    RETURN COUNT(b) AS duplicate_count;\n",
    "\n",
    "\"\"\"\n",
    "result = execute_read(driver, query)\n",
    "pprint(result)\n"
   ]
  },
  {
   "cell_type": "code",
   "execution_count": 22,
   "metadata": {},
   "outputs": [
    {
     "name": "stdout",
     "output_type": "stream",
     "text": [
      "[<Record c.name='BE' occurrences=2>,\n",
      " <Record c.name='US' occurrences=2>,\n",
      " <Record c.name='GB' occurrences=2>,\n",
      " <Record c.name='AU' occurrences=2>,\n",
      " <Record c.name='IT' occurrences=2>,\n",
      " <Record c.name='CA' occurrences=2>,\n",
      " <Record c.name='GR' occurrences=2>,\n",
      " <Record c.name='FR' occurrences=2>,\n",
      " <Record c.name='AT' occurrences=2>,\n",
      " <Record c.name='ES' occurrences=2>,\n",
      " <Record c.name='RU' occurrences=2>,\n",
      " <Record c.name='SE' occurrences=2>,\n",
      " <Record c.name='NL' occurrences=2>,\n",
      " <Record c.name='UZ' occurrences=2>,\n",
      " <Record c.name='CO' occurrences=2>,\n",
      " <Record c.name='JP' occurrences=2>,\n",
      " <Record c.name='PL' occurrences=2>,\n",
      " <Record c.name='CZ' occurrences=2>,\n",
      " <Record c.name='DE' occurrences=2>,\n",
      " <Record c.name='PT' occurrences=2>,\n",
      " <Record c.name='DK' occurrences=2>,\n",
      " <Record c.name='TW' occurrences=2>,\n",
      " <Record c.name='AR' occurrences=2>,\n",
      " <Record c.name='NZ' occurrences=2>,\n",
      " <Record c.name='CH' occurrences=2>,\n",
      " <Record c.name='BR' occurrences=2>,\n",
      " <Record c.name='MX' occurrences=2>,\n",
      " <Record c.name='VN' occurrences=2>,\n",
      " <Record c.name='FI' occurrences=2>,\n",
      " <Record c.name='EE' occurrences=2>,\n",
      " <Record c.name='PR' occurrences=2>,\n",
      " <Record c.name='UA' occurrences=2>,\n",
      " <Record c.name='IM' occurrences=2>,\n",
      " <Record c.name='SM' occurrences=2>,\n",
      " <Record c.name='CL' occurrences=2>,\n",
      " <Record c.name='BZ' occurrences=2>,\n",
      " <Record c.name='AL' occurrences=2>,\n",
      " <Record c.name='SK' occurrences=2>,\n",
      " <Record c.name='IE' occurrences=2>,\n",
      " <Record c.name='CN' occurrences=2>,\n",
      " <Record c.name='KY' occurrences=2>,\n",
      " <Record c.name='PW' occurrences=2>,\n",
      " <Record c.name='NO' occurrences=2>,\n",
      " <Record c.name='RO' occurrences=2>,\n",
      " <Record c.name='MM' occurrences=2>,\n",
      " <Record c.name='SG' occurrences=2>,\n",
      " <Record c.name='LT' occurrences=2>,\n",
      " <Record c.name='RS' occurrences=2>,\n",
      " <Record c.name='BM' occurrences=2>,\n",
      " <Record c.name='KH' occurrences=2>,\n",
      " <Record c.name='LV' occurrences=2>,\n",
      " <Record c.name='HK' occurrences=2>,\n",
      " <Record c.name='CY' occurrences=2>,\n",
      " <Record c.name='MD' occurrences=2>,\n",
      " <Record c.name='IS' occurrences=2>,\n",
      " <Record c.name='PH' occurrences=2>,\n",
      " <Record c.name='IN' occurrences=2>,\n",
      " <Record c.name='PE' occurrences=2>,\n",
      " <Record c.name='UY' occurrences=2>,\n",
      " <Record c.name='TR' occurrences=2>,\n",
      " <Record c.name='TH' occurrences=2>,\n",
      " <Record c.name='IR' occurrences=2>,\n",
      " <Record c.name='JM' occurrences=2>,\n",
      " <Record c.name='EC' occurrences=2>,\n",
      " <Record c.name='ZA' occurrences=2>,\n",
      " <Record c.name='KR' occurrences=2>,\n",
      " <Record c.name='BG' occurrences=2>,\n",
      " <Record c.name='IL' occurrences=2>,\n",
      " <Record c.name='LI' occurrences=2>,\n",
      " <Record c.name='HU' occurrences=2>,\n",
      " <Record c.name='NG' occurrences=2>,\n",
      " <Record c.name='CR' occurrences=2>,\n",
      " <Record c.name='VI' occurrences=2>,\n",
      " <Record c.name='PS' occurrences=2>,\n",
      " <Record c.name='KP' occurrences=2>,\n",
      " <Record c.name='MY' occurrences=2>,\n",
      " <Record c.name='KG' occurrences=2>,\n",
      " <Record c.name='GT' occurrences=2>,\n",
      " <Record c.name='CG' occurrences=2>,\n",
      " <Record c.name='KE' occurrences=2>,\n",
      " <Record c.name='MK' occurrences=2>,\n",
      " <Record c.name='FO' occurrences=2>,\n",
      " <Record c.name='AE' occurrences=2>,\n",
      " <Record c.name='TD' occurrences=2>,\n",
      " <Record c.name='WS' occurrences=2>,\n",
      " <Record c.name='JE' occurrences=2>,\n",
      " <Record c.name='LA' occurrences=2>,\n",
      " <Record c.name='BB' occurrences=2>,\n",
      " <Record c.name='TO' occurrences=2>,\n",
      " <Record c.name='MN' occurrences=2>,\n",
      " <Record c.name='ER' occurrences=2>,\n",
      " <Record c.name='DO' occurrences=2>,\n",
      " <Record c.name='VU' occurrences=2>,\n",
      " <Record c.name='MG' occurrences=2>,\n",
      " <Record c.name='GE' occurrences=2>,\n",
      " <Record c.name='VE' occurrences=2>,\n",
      " <Record c.name='BY' occurrences=2>,\n",
      " <Record c.name='SI' occurrences=2>,\n",
      " <Record c.name='CK' occurrences=2>,\n",
      " <Record c.name='SV' occurrences=2>,\n",
      " <Record c.name='MU' occurrences=2>,\n",
      " <Record c.name='ID' occurrences=2>,\n",
      " <Record c.name='BH' occurrences=2>,\n",
      " <Record c.name='VC' occurrences=2>,\n",
      " <Record c.name='SR' occurrences=2>,\n",
      " <Record c.name='NE' occurrences=2>,\n",
      " <Record c.name='MZ' occurrences=2>,\n",
      " <Record c.name='LU' occurrences=2>,\n",
      " <Record c.name='RW' occurrences=2>,\n",
      " <Record c.name='UG' occurrences=2>,\n",
      " <Record c.name='MT' occurrences=2>,\n",
      " <Record c.name='HR' occurrences=2>,\n",
      " <Record c.name='GG' occurrences=2>,\n",
      " <Record c.name='NC' occurrences=2>,\n",
      " <Record c.name='ME' occurrences=2>,\n",
      " <Record c.name='PA' occurrences=2>,\n",
      " <Record c.name='PF' occurrences=2>,\n",
      " <Record c.name='BA' occurrences=2>,\n",
      " <Record c.name='TM' occurrences=2>,\n",
      " <Record c.name='SN' occurrences=2>,\n",
      " <Record c.name='DZ' occurrences=2>,\n",
      " <Record c.name='ET' occurrences=2>,\n",
      " <Record c.name='AO' occurrences=2>,\n",
      " <Record c.name='GH' occurrences=2>,\n",
      " <Record c.name='NP' occurrences=2>,\n",
      " <Record c.name='MA' occurrences=2>,\n",
      " <Record c.name='BS' occurrences=2>,\n",
      " <Record c.name='BT' occurrences=2>,\n",
      " <Record c.name='OM' occurrences=2>,\n",
      " <Record c.name='KZ' occurrences=2>,\n",
      " <Record c.name='CW' occurrences=2>,\n",
      " <Record c.name='CU' occurrences=2>,\n",
      " <Record c.name='AG' occurrences=2>,\n",
      " <Record c.name='nan' occurrences=2>,\n",
      " <Record c.name='BF' occurrences=2>,\n",
      " <Record c.name='GF' occurrences=2>,\n",
      " <Record c.name='AZ' occurrences=2>,\n",
      " <Record c.name='HT' occurrences=2>,\n",
      " <Record c.name='GL' occurrences=2>,\n",
      " <Record c.name='LB' occurrences=2>,\n",
      " <Record c.name='DM' occurrences=2>,\n",
      " <Record c.name='HN' occurrences=2>,\n",
      " <Record c.name='VG' occurrences=2>,\n",
      " <Record c.name='CI' occurrences=2>,\n",
      " <Record c.name='GP' occurrences=2>,\n",
      " <Record c.name='TC' occurrences=2>,\n",
      " <Record c.name='NI' occurrences=2>,\n",
      " <Record c.name='BO' occurrences=2>,\n",
      " <Record c.name='AM' occurrences=2>,\n",
      " <Record c.name='SX' occurrences=2>,\n",
      " <Record c.name='GI' occurrences=2>,\n",
      " <Record c.name='RE' occurrences=2>,\n",
      " <Record c.name='LK' occurrences=2>,\n",
      " <Record c.name='GU' occurrences=2>,\n",
      " <Record c.name='ST' occurrences=2>,\n",
      " <Record c.name='TZ' occurrences=2>,\n",
      " <Record c.name='FJ' occurrences=2>,\n",
      " <Record c.name='AW' occurrences=2>,\n",
      " <Record c.name='ZW' occurrences=2>,\n",
      " <Record c.name='BW' occurrences=2>,\n",
      " <Record c.name='LC' occurrences=2>,\n",
      " <Record c.name='TN' occurrences=2>,\n",
      " <Record c.name='EG' occurrences=2>,\n",
      " <Record c.name='SZ' occurrences=2>,\n",
      " <Record c.name='TT' occurrences=2>,\n",
      " <Record c.name='SB' occurrences=2>,\n",
      " <Record c.name='CM' occurrences=2>,\n",
      " <Record c.name='LS' occurrences=2>,\n",
      " <Record c.name='MO' occurrences=2>,\n",
      " <Record c.name='JO' occurrences=2>,\n",
      " <Record c.name='SC' occurrences=2>,\n",
      " <Record c.name='MQ' occurrences=2>,\n",
      " <Record c.name='AD' occurrences=2>,\n",
      " <Record c.name='LY' occurrences=2>,\n",
      " <Record c.name='CV' occurrences=2>,\n",
      " <Record c.name='TJ' occurrences=2>,\n",
      " <Record c.name='ML' occurrences=2>,\n",
      " <Record c.name='PG' occurrences=2>,\n",
      " <Record c.name='SS' occurrences=2>,\n",
      " <Record c.name='PK' occurrences=2>,\n",
      " <Record c.name='SY' occurrences=2>,\n",
      " <Record c.name='YT' occurrences=2>,\n",
      " <Record c.name='GD' occurrences=2>,\n",
      " <Record c.name='AF' occurrences=2>,\n",
      " <Record c.name='CF' occurrences=2>,\n",
      " <Record c.name='GM' occurrences=2>,\n",
      " <Record c.name='MC' occurrences=2>,\n",
      " <Record c.name='IQ' occurrences=2>,\n",
      " <Record c.name='GQ' occurrences=2>,\n",
      " <Record c.name='PY' occurrences=2>,\n",
      " <Record c.name='BJ' occurrences=2>,\n",
      " <Record c.name='GW' occurrences=2>,\n",
      " <Record c.name='BD' occurrences=2>,\n",
      " <Record c.name='LR' occurrences=2>,\n",
      " <Record c.name='GN' occurrences=2>,\n",
      " <Record c.name='TG' occurrences=2>,\n",
      " <Record c.name='FM' occurrences=2>,\n",
      " <Record c.name='GA' occurrences=2>,\n",
      " <Record c.name='MW' occurrences=2>,\n",
      " <Record c.name='ZM' occurrences=2>]\n"
     ]
    }
   ],
   "source": [
    "query = \"\"\" \n",
    "    MATCH (c:COUNTRIES)\n",
    "    RETURN c.name, COUNT(*) AS occurrences\n",
    "    ORDER BY occurrences DESC;\n",
    "    \"\"\"\n",
    "result = execute_read(driver, query)\n",
    "pprint(result)"
   ]
  },
  {
   "cell_type": "markdown",
   "metadata": {},
   "source": [
    "Every country appears twice."
   ]
  },
  {
   "cell_type": "markdown",
   "metadata": {},
   "source": [
    "### <div class=\"alert-warning\"> <a id=\"adjust-the-database\"></a>2. Adjust the Database and Mention the Reasoning Behind the Adjustments </div>"
   ]
  },
  {
   "cell_type": "markdown",
   "metadata": {},
   "source": [
    "2.1. Entity Names Standardization (this is mostly a display issue rather than a functional problem, but is a good pratice)"
   ]
  },
  {
   "cell_type": "code",
   "execution_count": null,
   "metadata": {},
   "outputs": [],
   "source": []
  },
  {
   "cell_type": "code",
   "execution_count": null,
   "metadata": {},
   "outputs": [],
   "source": []
  },
  {
   "cell_type": "markdown",
   "metadata": {},
   "source": [
    "2.2. Redundant Relationships"
   ]
  },
  {
   "cell_type": "code",
   "execution_count": null,
   "metadata": {},
   "outputs": [],
   "source": [
    "MATCH (c1:CITIES)-[r:IN]->(c2:CITIES)\n",
    "DELETE r\n"
   ]
  },
  {
   "cell_type": "code",
   "execution_count": null,
   "metadata": {},
   "outputs": [],
   "source": []
  },
  {
   "cell_type": "markdown",
   "metadata": {},
   "source": [
    "2.3. Relationship Directions"
   ]
  },
  {
   "cell_type": "code",
   "execution_count": null,
   "metadata": {},
   "outputs": [],
   "source": []
  },
  {
   "cell_type": "markdown",
   "metadata": {},
   "source": [
    "2.4 Removing Empty Reviews"
   ]
  },
  {
   "cell_type": "markdown",
   "metadata": {},
   "source": [
    "2.5. Duplicate Entries"
   ]
  },
  {
   "cell_type": "code",
   "execution_count": null,
   "metadata": {},
   "outputs": [],
   "source": []
  },
  {
   "cell_type": "markdown",
   "metadata": {},
   "source": [
    "### <a id=\"analytics-department\"></a>3. Analytics Department Biweekly Reporting Requirements"
   ]
  },
  {
   "cell_type": "markdown",
   "metadata": {},
   "source": [
    "#### <a id=\"beer-with-most-reviews\"></a>3.1. How many reviews does the beer with the most reviews have?"
   ]
  },
  {
   "cell_type": "markdown",
   "metadata": {},
   "source": [
    "#### <a id=\"three-users-most-reviews\"></a>3.2. Which three users wrote the most reviews about beers?"
   ]
  },
  {
   "cell_type": "markdown",
   "metadata": {},
   "source": [
    "#### <a id=\"beers-with-descriptions\"></a>3.3. Find all beers that are described with the following words: 'fruit', 'complex', 'nutty', 'dark'."
   ]
  },
  {
   "cell_type": "markdown",
   "metadata": {},
   "source": [
    "#### <a id=\"top-three-breweries\"></a>3.4. Which top three breweries produce the largest variety of beer styles?"
   ]
  },
  {
   "cell_type": "markdown",
   "metadata": {},
   "source": [
    "#### <a id=\"country-most-styles\"></a>3.5. Which country produces the most beer styles?"
   ]
  },
  {
   "cell_type": "markdown",
   "metadata": {},
   "source": []
  }
 ],
 "metadata": {
  "hide_input": false,
  "kernelspec": {
   "display_name": "base",
   "language": "python",
   "name": "python3"
  },
  "language_info": {
   "codemirror_mode": {
    "name": "ipython",
    "version": 3
   },
   "file_extension": ".py",
   "mimetype": "text/x-python",
   "name": "python",
   "nbconvert_exporter": "python",
   "pygments_lexer": "ipython3",
   "version": "3.12.3"
  },
  "toc": {
   "base_numbering": 1,
   "nav_menu": {},
   "number_sections": true,
   "sideBar": true,
   "skip_h1_title": false,
   "title_cell": "Table of Contents",
   "title_sidebar": "Contents",
   "toc_cell": false,
   "toc_position": {},
   "toc_section_display": true,
   "toc_window_display": false
  },
  "varInspector": {
   "cols": {
    "lenName": 16,
    "lenType": 16,
    "lenVar": 40
   },
   "kernels_config": {
    "python": {
     "delete_cmd_postfix": "",
     "delete_cmd_prefix": "del ",
     "library": "var_list.py",
     "varRefreshCmd": "print(var_dic_list())"
    },
    "r": {
     "delete_cmd_postfix": ") ",
     "delete_cmd_prefix": "rm(",
     "library": "var_list.r",
     "varRefreshCmd": "cat(var_dic_list()) "
    }
   },
   "types_to_exclude": [
    "module",
    "function",
    "builtin_function_or_method",
    "instance",
    "_Feature"
   ],
   "window_display": false
  }
 },
 "nbformat": 4,
 "nbformat_minor": 4
}
